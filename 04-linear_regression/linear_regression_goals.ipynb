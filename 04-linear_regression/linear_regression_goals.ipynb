{
 "cells": [
  {
   "cell_type": "markdown",
   "metadata": {
    "collapsed": true
   },
   "source": [
    "\n",
    "Estimators\n",
    "\n",
    "        Desirable properties: unbiased and efficient\n",
    "        Examples: mean, conditional means\n",
    "\n",
    "Linear regression\n",
    "\n",
    "        Linear regression estimates the slopes and intercepts of the population regression line\n",
    "        Measures the linear relationship between explanitory variables and a response variable\n",
    "        The slope of the population regression line is the expected effect on Y of a unit change in X        "
   ]
  },
  {
   "cell_type": "markdown",
   "metadata": {},
   "source": [
    "The general linear model can be expressed as,\n",
    "\n",
    "$$y_i = \\beta_0 + \\beta_1 x_i + \\mu_i, i=1...n$$\n",
    "\n",
    "* y is the dependent variable\n",
    "* x is the independent variable\n",
    "* The $b_0$ = intercept\n",
    "* $b_1$ = slope\n",
    "* $mu_i$ = the regression residual or error term\n",
    "\n",
    "Ordinary Least Squares (OLS)\n",
    "    \n",
    "* An estimator that estimates the conditioanl means of the population parameters\n",
    "* Minimizes the average squared difference between the actual values of y and the estmated lines predicted values\n",
    "\n",
    "Consider $winpercent_i = \\beta_0 + \\beta_1 firstgoal_i + \\mu_i, i=1...n$    \n",
    "\n",
    "* unit of observation is the a season-team for $i=1...30$\n",
    "* $winpercent_i$: a team season-level winning percentage\n",
    "* $firstgoal_i$: the proportion of total season games the team scored first\n",
    "* The intercept, $b_0$, (taken literally) is the estimated number of season wins if the team had 0 first goal games (i.e., $x=0$)\n",
    "* The paramater, $b_1$, is the esimated change in a team's winning percentage for each 1 point increase in the proportion of fist goal games\n",
    "\n",
    "Specification\n",
    "\n",
    "* Continuous variables: parameter estimates are slope effects\n",
    "* Categorical data represented as a series of indicator variables (i.e. fixed effects): parameter estimates are shift effects relative to the intercept/constant\n",
    "* Binary (1/0) dependent variables are linear probability models\n",
    "* Generally obtain unbiased slope effects\n",
    "* Potentially predict outside the 0-1 interval"
   ]
  },
  {
   "cell_type": "markdown",
   "metadata": {},
   "source": [
    "Examine the impact of physical characteristics on winning"
   ]
  },
  {
   "cell_type": "code",
   "execution_count": 163,
   "metadata": {
    "collapsed": true
   },
   "outputs": [],
   "source": [
    "%matplotlib inline\n",
    "import os\n",
    "import sys\n",
    "import numpy \n",
    "import pandas \n",
    "import matplotlib.pyplot as plt\n",
    "import pylab\n",
    "\n",
    "# imports regression library\n",
    "# OLS: ordinary least squares (estimation technique used to estimate the linear regression model)\n",
    "import statsmodels.api as sm\n",
    "from statsmodels.formula.api import ols\n",
    "    \n",
    "# Set some Pandas options\n",
    "pd.set_option('display.notebook_repr_html', False)\n",
    "pd.set_option('display.max_columns', 20)\n",
    "pd.set_option('display.max_rows', 25)\n",
    "\n",
    "from decimal import getcontext, Decimal\n",
    "# Set the precision.\n",
    "getcontext().prec = 3"
   ]
  },
  {
   "cell_type": "code",
   "execution_count": 164,
   "metadata": {
    "collapsed": false
   },
   "outputs": [],
   "source": [
    "dm = pandas.read_csv('2010game_physical.csv')"
   ]
  },
  {
   "cell_type": "code",
   "execution_count": 165,
   "metadata": {
    "collapsed": false
   },
   "outputs": [
    {
     "data": {
      "text/plain": [
       "gamenumber       int64\n",
       "awayTeam        object\n",
       "awaySalary     float64\n",
       "awayAge          int64\n",
       "awayHeight       int64\n",
       "awayWeight       int64\n",
       "awayGoaliue     object\n",
       "awayGoals        int64\n",
       "homeTeam        object\n",
       "homeSalary     float64\n",
       "homeAge          int64\n",
       "homeHeight       int64\n",
       "homeWeight       int64\n",
       "homeGoalie      object\n",
       "homeGoals        int64\n",
       "winteamcode     object\n",
       "dtype: object"
      ]
     },
     "execution_count": 165,
     "metadata": {},
     "output_type": "execute_result"
    }
   ],
   "source": [
    "dm.columns.tolist()\n",
    "len(dm)\n",
    "dm.head()\n",
    "dm.tail()\n",
    "dm.describe()\n",
    "dm.dtypes"
   ]
  },
  {
   "cell_type": "code",
   "execution_count": 166,
   "metadata": {
    "collapsed": false
   },
   "outputs": [
    {
     "data": {
      "text/plain": [
       "   gamenumber awayTeam  awaySalary  awayAge  awayHeight  awayWeight  \\\n",
       "0       20001      MTL   38.383301      501        1313        3695   \n",
       "1       20002      PHI   50.365002      498        1317        3669   \n",
       "2       20003      CAR   35.825001      471        1315        3574   \n",
       "3       20004      CHI   50.560001      462        1326        3700   \n",
       "4       20005      CGY   39.764999      505        1331        3726   \n",
       "\n",
       "        awayGoaliue  awayGoals homeTeam  homeSalary  homeAge  homeHeight  \\\n",
       "0       PRICE_CAREY          2      TOR   44.612999      471        1312   \n",
       "1  BOBROVSKY_SERGEI          3      PIT   49.192402      497        1308   \n",
       "2          WARD_CAM          4      MIN   40.180000      503        1321   \n",
       "3       TURCO_MARTY          3      COL   33.750000      469        1306   \n",
       "4  KIPRUSOFF_MIIKKA          0      EDM   41.400002      458        1324   \n",
       "\n",
       "   homeWeight             homeGoalie  homeGoals winteamcode  \n",
       "0        3715  GIGUERE_JEANSEBASTIEN          3         TOR  \n",
       "1        3611       FLEURY_MARCANDRE          2         PHI  \n",
       "2        3734       BACKSTROM_NIKLAS          3         CAR  \n",
       "3        3627         ANDERSON_CRAIG          4         COL  \n",
       "4        3745     KHABIBULIN_NIKOLAI          4         EDM  "
      ]
     },
     "execution_count": 166,
     "metadata": {},
     "output_type": "execute_result"
    }
   ],
   "source": [
    "dm.head()\n"
   ]
  },
  {
   "cell_type": "code",
   "execution_count": 167,
   "metadata": {
    "collapsed": false
   },
   "outputs": [
    {
     "data": {
      "text/plain": [
       "         gamenumber   awaySalary      awayAge   awayHeight   awayWeight  \\\n",
       "count   1230.000000  1230.000000  1230.000000  1230.000000  1230.000000   \n",
       "mean   20615.500000    40.407660   491.969106  1314.306504  3672.840650   \n",
       "std      355.214724     8.792408    24.373131    19.069473    80.438388   \n",
       "min    20001.000000    14.995800   427.000000  1164.000000  3177.000000   \n",
       "25%    20308.250000    34.546598   474.000000  1310.000000  3636.000000   \n",
       "50%    20615.500000    40.473749   493.000000  1317.000000  3676.500000   \n",
       "75%    20922.750000    46.645452   505.750000  1323.000000  3725.000000   \n",
       "max    21230.000000    58.483002   571.000000  1343.000000  3827.000000   \n",
       "\n",
       "         awayGoals   homeSalary      homeAge   homeHeight   homeWeight  \\\n",
       "count  1230.000000  1230.000000  1230.000000  1230.000000  1230.000000   \n",
       "mean      2.616260    40.788019   492.078862  1313.652846  3672.404065   \n",
       "std       1.588935     8.838008    24.755983    20.309621    83.290526   \n",
       "min       0.000000    15.772500   415.000000  1110.000000  3100.000000   \n",
       "25%       1.000000    35.924999   474.000000  1310.000000  3636.000000   \n",
       "50%       3.000000    41.075499   493.000000  1317.000000  3678.000000   \n",
       "75%       4.000000    47.016251   506.000000  1322.000000  3723.000000   \n",
       "max      10.000000    58.908001   572.000000  1347.000000  3835.000000   \n",
       "\n",
       "         homeGoals  \n",
       "count  1230.000000  \n",
       "mean      2.847967  \n",
       "std       1.710678  \n",
       "min       0.000000  \n",
       "25%       2.000000  \n",
       "50%       3.000000  \n",
       "75%       4.000000  \n",
       "max       9.000000  "
      ]
     },
     "execution_count": 167,
     "metadata": {},
     "output_type": "execute_result"
    }
   ],
   "source": [
    "dm.describe()"
   ]
  },
  {
   "cell_type": "markdown",
   "metadata": {},
   "source": [
    "# generate variables"
   ]
  },
  {
   "cell_type": "code",
   "execution_count": 168,
   "metadata": {
    "collapsed": false
   },
   "outputs": [],
   "source": [
    "dm['dGoals']    = dm['homeGoals'] - dm['awayGoals'] #regulation score-margin\n",
    "\n",
    "dm['homeWin']   = dm.apply(lambda x: 1 if (x['homeTeam'] == x['winteamcode']) else 0, axis=1) #home win team indicator variable\n",
    "dm['ishwin'] = numpy.where(dm['homeTeam']==dm['winteamcode'], 1 , 0)\n",
    "\n",
    "dm['dAge']      =  dm['homeAge']-dm['awayAge']\n",
    "dm['dHeight']   = dm['homeHeight']-dm['awayHeight']\n",
    "dm['dWeight']   = dm['homeWeight']-dm['awayHeight']\n",
    "\n",
    "dm['lnDAge']    = numpy.log(dm['homeAge']/dm['awayAge'])\n",
    "dm['lnDHeight'] = numpy.log(dm['homeHeight']/dm['awayHeight'])\n",
    "dm['lnDWeight'] = numpy.log(dm['homeWeight']/dm['awayWeight'])\n",
    "\n",
    "dm['lnSalary']  = numpy.log(dm['homeSalary']/dm['awaySalary'])\n",
    "\n",
    "dm['lnhsalary']  = numpy.log(dm['homeSalary'])\n",
    "dm['lnasalary']  = numpy.log(dm['awaySalary'])"
   ]
  },
  {
   "cell_type": "code",
   "execution_count": 169,
   "metadata": {
    "collapsed": false,
    "scrolled": true
   },
   "outputs": [
    {
     "data": {
      "text/plain": [
       "(array([  82.,  202.,  273.,  278.,  190.,  114.,   57.,   25.,    7.,    2.]),\n",
       " array([ 0. ,  0.9,  1.8,  2.7,  3.6,  4.5,  5.4,  6.3,  7.2,  8.1,  9. ]),\n",
       " <a list of 10 Patch objects>)"
      ]
     },
     "execution_count": 169,
     "metadata": {},
     "output_type": "execute_result"
    },
    {
     "data": {
      "image/png": "[encoded data removed]",
      "text/plain": [
       "<matplotlib.figure.Figure at 0x7f65e169df50>"
      ]
     },
     "metadata": {},
     "output_type": "display_data"
    }
   ],
   "source": [
    "plt.hist(dm['homeGoals'])"
   ]
  },
  {
   "cell_type": "markdown",
   "metadata": {},
   "source": [
    "Estimate the impact of salary on goals scored: $hgoals_i = \\beta_0 + \\beta_1 hsalary_i  + \\mu_i$"
   ]
  },
  {
   "cell_type": "code",
   "execution_count": 170,
   "metadata": {
    "collapsed": false
   },
   "outputs": [
    {
     "data": {
      "text/html": [
       "<table class=\"simpletable\">\n",
       "<caption>OLS Regression Results</caption>\n",
       "<tr>\n",
       "  <th>Dep. Variable:</th>        <td>homeGoals</td>    <th>  R-squared:         </th> <td>   0.006</td>\n",
       "</tr>\n",
       "<tr>\n",
       "  <th>Model:</th>                   <td>OLS</td>       <th>  Adj. R-squared:    </th> <td>   0.005</td>\n",
       "</tr>\n",
       "<tr>\n",
       "  <th>Method:</th>             <td>Least Squares</td>  <th>  F-statistic:       </th> <td>   6.814</td>\n",
       "</tr>\n",
       "<tr>\n",
       "  <th>Date:</th>             <td>Tue, 14 Feb 2017</td> <th>  Prob (F-statistic):</th>  <td>0.00916</td>\n",
       "</tr>\n",
       "<tr>\n",
       "  <th>Time:</th>                 <td>09:50:49</td>     <th>  Log-Likelihood:    </th> <td> -2401.8</td>\n",
       "</tr>\n",
       "<tr>\n",
       "  <th>No. Observations:</th>      <td>  1230</td>      <th>  AIC:               </th> <td>   4808.</td>\n",
       "</tr>\n",
       "<tr>\n",
       "  <th>Df Residuals:</th>          <td>  1228</td>      <th>  BIC:               </th> <td>   4818.</td>\n",
       "</tr>\n",
       "<tr>\n",
       "  <th>Df Model:</th>              <td>     1</td>      <th>                     </th>     <td> </td>   \n",
       "</tr>\n",
       "<tr>\n",
       "  <th>Covariance Type:</th>      <td>nonrobust</td>    <th>                     </th>     <td> </td>   \n",
       "</tr>\n",
       "</table>\n",
       "<table class=\"simpletable\">\n",
       "<tr>\n",
       "       <td></td>         <th>coef</th>     <th>std err</th>      <th>t</th>      <th>P>|t|</th> <th>[95.0% Conf. Int.]</th> \n",
       "</tr>\n",
       "<tr>\n",
       "  <th>const</th>      <td>    2.2615</td> <td>    0.230</td> <td>    9.838</td> <td> 0.000</td> <td>    1.811     2.713</td>\n",
       "</tr>\n",
       "<tr>\n",
       "  <th>homeSalary</th> <td>    0.0144</td> <td>    0.006</td> <td>    2.610</td> <td> 0.009</td> <td>    0.004     0.025</td>\n",
       "</tr>\n",
       "</table>\n",
       "<table class=\"simpletable\">\n",
       "<tr>\n",
       "  <th>Omnibus:</th>       <td>46.350</td> <th>  Durbin-Watson:     </th> <td>   1.961</td>\n",
       "</tr>\n",
       "<tr>\n",
       "  <th>Prob(Omnibus):</th> <td> 0.000</td> <th>  Jarque-Bera (JB):  </th> <td>  50.960</td>\n",
       "</tr>\n",
       "<tr>\n",
       "  <th>Skew:</th>          <td> 0.498</td> <th>  Prob(JB):          </th> <td>8.59e-12</td>\n",
       "</tr>\n",
       "<tr>\n",
       "  <th>Kurtosis:</th>      <td> 3.034</td> <th>  Cond. No.          </th> <td>    197.</td>\n",
       "</tr>\n",
       "</table>"
      ],
      "text/plain": [
       "<class 'statsmodels.iolib.summary.Summary'>\n",
       "\"\"\"\n",
       "                            OLS Regression Results                            \n",
       "==============================================================================\n",
       "Dep. Variable:              homeGoals   R-squared:                       0.006\n",
       "Model:                            OLS   Adj. R-squared:                  0.005\n",
       "Method:                 Least Squares   F-statistic:                     6.814\n",
       "Date:                Tue, 14 Feb 2017   Prob (F-statistic):            0.00916\n",
       "Time:                        09:50:49   Log-Likelihood:                -2401.8\n",
       "No. Observations:                1230   AIC:                             4808.\n",
       "Df Residuals:                    1228   BIC:                             4818.\n",
       "Df Model:                           1                                         \n",
       "Covariance Type:            nonrobust                                         \n",
       "==============================================================================\n",
       "                 coef    std err          t      P>|t|      [95.0% Conf. Int.]\n",
       "------------------------------------------------------------------------------\n",
       "const          2.2615      0.230      9.838      0.000         1.811     2.713\n",
       "homeSalary     0.0144      0.006      2.610      0.009         0.004     0.025\n",
       "==============================================================================\n",
       "Omnibus:                       46.350   Durbin-Watson:                   1.961\n",
       "Prob(Omnibus):                  0.000   Jarque-Bera (JB):               50.960\n",
       "Skew:                           0.498   Prob(JB):                     8.59e-12\n",
       "Kurtosis:                       3.034   Cond. No.                         197.\n",
       "==============================================================================\n",
       "\n",
       "Warnings:\n",
       "[1] Standard Errors assume that the covariance matrix of the errors is correctly specified.\n",
       "\"\"\""
      ]
     },
     "execution_count": 170,
     "metadata": {},
     "output_type": "execute_result"
    }
   ],
   "source": [
    "# note, a vector of ones is included for the constant/intercept term\n",
    "\n",
    "Y = dm['homeGoals']\n",
    "X = sm.add_constant(dm['homeSalary'])\n",
    "\n",
    "m1 = sm.OLS(Y, X).fit()\n",
    "m1.summary()"
   ]
  },
  {
   "cell_type": "code",
   "execution_count": 171,
   "metadata": {
    "collapsed": false
   },
   "outputs": [
    {
     "data": {
      "text/plain": [
       "const        1.966720\n",
       "lnhsalary    0.789404\n",
       "lnasalary   -1.263994\n",
       "dtype: float64"
      ]
     },
     "execution_count": 171,
     "metadata": {},
     "output_type": "execute_result"
    }
   ],
   "source": [
    "temp.params"
   ]
  },
  {
   "cell_type": "markdown",
   "metadata": {},
   "source": [
    "$\\beta_0=2.26$ \n",
    "\n",
    "$\\beta_1=0.014$ \n",
    "\n",
    "A one million dollar increase in salary resulting in an increase of 0.014 goals per game\n",
    "\n",
    "Taken literally the constant represents the number of goals scored per game with a home salary of 0 dollars."
   ]
  },
  {
   "cell_type": "code",
   "execution_count": 172,
   "metadata": {
    "collapsed": false,
    "scrolled": true
   },
   "outputs": [
    {
     "data": {
      "text/html": [
       "<table class=\"simpletable\">\n",
       "<caption>OLS Regression Results</caption>\n",
       "<tr>\n",
       "  <th>Dep. Variable:</th>        <td>homeGoals</td>    <th>  R-squared:         </th> <td>   0.006</td>\n",
       "</tr>\n",
       "<tr>\n",
       "  <th>Model:</th>                   <td>OLS</td>       <th>  Adj. R-squared:    </th> <td>   0.005</td>\n",
       "</tr>\n",
       "<tr>\n",
       "  <th>Method:</th>             <td>Least Squares</td>  <th>  F-statistic:       </th> <td>   6.814</td>\n",
       "</tr>\n",
       "<tr>\n",
       "  <th>Date:</th>             <td>Tue, 14 Feb 2017</td> <th>  Prob (F-statistic):</th>  <td>0.00916</td>\n",
       "</tr>\n",
       "<tr>\n",
       "  <th>Time:</th>                 <td>09:50:49</td>     <th>  Log-Likelihood:    </th> <td> -2401.8</td>\n",
       "</tr>\n",
       "<tr>\n",
       "  <th>No. Observations:</th>      <td>  1230</td>      <th>  AIC:               </th> <td>   4808.</td>\n",
       "</tr>\n",
       "<tr>\n",
       "  <th>Df Residuals:</th>          <td>  1228</td>      <th>  BIC:               </th> <td>   4818.</td>\n",
       "</tr>\n",
       "<tr>\n",
       "  <th>Df Model:</th>              <td>     1</td>      <th>                     </th>     <td> </td>   \n",
       "</tr>\n",
       "<tr>\n",
       "  <th>Covariance Type:</th>      <td>nonrobust</td>    <th>                     </th>     <td> </td>   \n",
       "</tr>\n",
       "</table>\n",
       "<table class=\"simpletable\">\n",
       "<tr>\n",
       "       <td></td>         <th>coef</th>     <th>std err</th>      <th>t</th>      <th>P>|t|</th> <th>[95.0% Conf. Int.]</th> \n",
       "</tr>\n",
       "<tr>\n",
       "  <th>const</th>      <td>    2.2615</td> <td>    0.230</td> <td>    9.838</td> <td> 0.000</td> <td>    1.811     2.713</td>\n",
       "</tr>\n",
       "<tr>\n",
       "  <th>homeSalary</th> <td>    0.0144</td> <td>    0.006</td> <td>    2.610</td> <td> 0.009</td> <td>    0.004     0.025</td>\n",
       "</tr>\n",
       "</table>\n",
       "<table class=\"simpletable\">\n",
       "<tr>\n",
       "  <th>Omnibus:</th>       <td>46.350</td> <th>  Durbin-Watson:     </th> <td>   1.961</td>\n",
       "</tr>\n",
       "<tr>\n",
       "  <th>Prob(Omnibus):</th> <td> 0.000</td> <th>  Jarque-Bera (JB):  </th> <td>  50.960</td>\n",
       "</tr>\n",
       "<tr>\n",
       "  <th>Skew:</th>          <td> 0.498</td> <th>  Prob(JB):          </th> <td>8.59e-12</td>\n",
       "</tr>\n",
       "<tr>\n",
       "  <th>Kurtosis:</th>      <td> 3.034</td> <th>  Cond. No.          </th> <td>    197.</td>\n",
       "</tr>\n",
       "</table>"
      ],
      "text/plain": [
       "<class 'statsmodels.iolib.summary.Summary'>\n",
       "\"\"\"\n",
       "                            OLS Regression Results                            \n",
       "==============================================================================\n",
       "Dep. Variable:              homeGoals   R-squared:                       0.006\n",
       "Model:                            OLS   Adj. R-squared:                  0.005\n",
       "Method:                 Least Squares   F-statistic:                     6.814\n",
       "Date:                Tue, 14 Feb 2017   Prob (F-statistic):            0.00916\n",
       "Time:                        09:50:49   Log-Likelihood:                -2401.8\n",
       "No. Observations:                1230   AIC:                             4808.\n",
       "Df Residuals:                    1228   BIC:                             4818.\n",
       "Df Model:                           1                                         \n",
       "Covariance Type:            nonrobust                                         \n",
       "==============================================================================\n",
       "                 coef    std err          t      P>|t|      [95.0% Conf. Int.]\n",
       "------------------------------------------------------------------------------\n",
       "const          2.2615      0.230      9.838      0.000         1.811     2.713\n",
       "homeSalary     0.0144      0.006      2.610      0.009         0.004     0.025\n",
       "==============================================================================\n",
       "Omnibus:                       46.350   Durbin-Watson:                   1.961\n",
       "Prob(Omnibus):                  0.000   Jarque-Bera (JB):               50.960\n",
       "Skew:                           0.498   Prob(JB):                     8.59e-12\n",
       "Kurtosis:                       3.034   Cond. No.                         197.\n",
       "==============================================================================\n",
       "\n",
       "Warnings:\n",
       "[1] Standard Errors assume that the covariance matrix of the errors is correctly specified.\n",
       "\"\"\""
      ]
     },
     "execution_count": 172,
     "metadata": {},
     "output_type": "execute_result"
    }
   ],
   "source": [
    "# embed the variables into the equation\n",
    "temp = sm.OLS(dm['homeGoals'],sm.add_constant(dm['homeSalary'])).fit()\n",
    "temp.summary()"
   ]
  },
  {
   "cell_type": "markdown",
   "metadata": {},
   "source": [
    "Estimate the impact of salary on goals scored: $hgoals_i = \\beta_0 + \\beta_1 ln(hsalary_i)  + \\mu_i$"
   ]
  },
  {
   "cell_type": "code",
   "execution_count": 173,
   "metadata": {
    "collapsed": false,
    "scrolled": true
   },
   "outputs": [
    {
     "data": {
      "text/plain": [
       "<matplotlib.collections.PathCollection at 0x7f65e15aa410>"
      ]
     },
     "execution_count": 173,
     "metadata": {},
     "output_type": "execute_result"
    },
    {
     "data": {
      "image/png": "[encoded data removed]",
      "text/plain": [
       "<matplotlib.figure.Figure at 0x7f65e1777b50>"
      ]
     },
     "metadata": {},
     "output_type": "display_data"
    }
   ],
   "source": [
    "plt.scatter(dm['homeSalary'], dm['homeGoals'])"
   ]
  },
  {
   "cell_type": "code",
   "execution_count": 174,
   "metadata": {
    "collapsed": false
   },
   "outputs": [
    {
     "data": {
      "text/plain": [
       "   gamenumber awayTeam  awaySalary  awayAge  awayHeight  awayWeight  \\\n",
       "0       20001      MTL   38.383301      501        1313        3695   \n",
       "1       20002      PHI   50.365002      498        1317        3669   \n",
       "2       20003      CAR   35.825001      471        1315        3574   \n",
       "3       20004      CHI   50.560001      462        1326        3700   \n",
       "4       20005      CGY   39.764999      505        1331        3726   \n",
       "\n",
       "        awayGoaliue  awayGoals homeTeam  homeSalary    ...      ishwin  dAge  \\\n",
       "0       PRICE_CAREY          2      TOR   44.612999    ...           1   -30   \n",
       "1  BOBROVSKY_SERGEI          3      PIT   49.192402    ...           0    -1   \n",
       "2          WARD_CAM          4      MIN   40.180000    ...           0    32   \n",
       "3       TURCO_MARTY          3      COL   33.750000    ...           1     7   \n",
       "4  KIPRUSOFF_MIIKKA          0      EDM   41.400002    ...           1   -47   \n",
       "\n",
       "   dHeight dWeight    lnDAge lnDHeight  lnDWeight  lnSalary  lnhsalary  \\\n",
       "0       -1    2402 -0.061748 -0.000762   0.005398  0.150403   3.798025   \n",
       "1       -9    2294 -0.002010 -0.006857  -0.015934 -0.023557   3.895739   \n",
       "2        6    2419  0.065732  0.004552   0.043795  0.114723   3.693369   \n",
       "3      -20    2301  0.015038 -0.015198  -0.019927 -0.404180   3.518980   \n",
       "4       -7    2414 -0.097689 -0.005273   0.005086  0.040294   3.723281   \n",
       "\n",
       "   lnasalary  \n",
       "0   3.647622  \n",
       "1   3.919297  \n",
       "2   3.578646  \n",
       "3   3.923161  \n",
       "4   3.682987  \n",
       "\n",
       "[5 rows x 28 columns]"
      ]
     },
     "execution_count": 174,
     "metadata": {},
     "output_type": "execute_result"
    }
   ],
   "source": [
    "dm.head()"
   ]
  },
  {
   "cell_type": "code",
   "execution_count": 175,
   "metadata": {
    "collapsed": false
   },
   "outputs": [
    {
     "data": {
      "text/plain": [
       "<matplotlib.collections.PathCollection at 0x7f65e14dd910>"
      ]
     },
     "execution_count": 175,
     "metadata": {},
     "output_type": "execute_result"
    },
    {
     "data": {
      "image/png": "[encoded data removed]",
      "text/plain": [
       "<matplotlib.figure.Figure at 0x7f65e15cb910>"
      ]
     },
     "metadata": {},
     "output_type": "display_data"
    }
   ],
   "source": [
    "plt.scatter(dm['lnhsalary'], dm['homeGoals'])"
   ]
  },
  {
   "cell_type": "code",
   "execution_count": 176,
   "metadata": {
    "collapsed": false,
    "scrolled": false
   },
   "outputs": [
    {
     "data": {
      "text/html": [
       "<table class=\"simpletable\">\n",
       "<caption>OLS Regression Results</caption>\n",
       "<tr>\n",
       "  <th>Dep. Variable:</th>        <td>homeGoals</td>    <th>  R-squared:         </th> <td>   0.003</td>\n",
       "</tr>\n",
       "<tr>\n",
       "  <th>Model:</th>                   <td>OLS</td>       <th>  Adj. R-squared:    </th> <td>   0.003</td>\n",
       "</tr>\n",
       "<tr>\n",
       "  <th>Method:</th>             <td>Least Squares</td>  <th>  F-statistic:       </th> <td>   4.198</td>\n",
       "</tr>\n",
       "<tr>\n",
       "  <th>Date:</th>             <td>Tue, 14 Feb 2017</td> <th>  Prob (F-statistic):</th>  <td>0.0407</td> \n",
       "</tr>\n",
       "<tr>\n",
       "  <th>Time:</th>                 <td>09:50:50</td>     <th>  Log-Likelihood:    </th> <td> -2403.1</td>\n",
       "</tr>\n",
       "<tr>\n",
       "  <th>No. Observations:</th>      <td>  1230</td>      <th>  AIC:               </th> <td>   4810.</td>\n",
       "</tr>\n",
       "<tr>\n",
       "  <th>Df Residuals:</th>          <td>  1228</td>      <th>  BIC:               </th> <td>   4820.</td>\n",
       "</tr>\n",
       "<tr>\n",
       "  <th>Df Model:</th>              <td>     1</td>      <th>                     </th>     <td> </td>   \n",
       "</tr>\n",
       "<tr>\n",
       "  <th>Covariance Type:</th>      <td>nonrobust</td>    <th>                     </th>     <td> </td>   \n",
       "</tr>\n",
       "</table>\n",
       "<table class=\"simpletable\">\n",
       "<tr>\n",
       "      <td></td>         <th>coef</th>     <th>std err</th>      <th>t</th>      <th>P>|t|</th> <th>[95.0% Conf. Int.]</th> \n",
       "</tr>\n",
       "<tr>\n",
       "  <th>const</th>     <td>    1.3703</td> <td>    0.723</td> <td>    1.896</td> <td> 0.058</td> <td>   -0.048     2.788</td>\n",
       "</tr>\n",
       "<tr>\n",
       "  <th>lnhsalary</th> <td>    0.4015</td> <td>    0.196</td> <td>    2.049</td> <td> 0.041</td> <td>    0.017     0.786</td>\n",
       "</tr>\n",
       "</table>\n",
       "<table class=\"simpletable\">\n",
       "<tr>\n",
       "  <th>Omnibus:</th>       <td>46.562</td> <th>  Durbin-Watson:     </th> <td>   1.963</td>\n",
       "</tr>\n",
       "<tr>\n",
       "  <th>Prob(Omnibus):</th> <td> 0.000</td> <th>  Jarque-Bera (JB):  </th> <td>  51.238</td>\n",
       "</tr>\n",
       "<tr>\n",
       "  <th>Skew:</th>          <td> 0.500</td> <th>  Prob(JB):          </th> <td>7.48e-12</td>\n",
       "</tr>\n",
       "<tr>\n",
       "  <th>Kurtosis:</th>      <td> 3.026</td> <th>  Cond. No.          </th> <td>    58.7</td>\n",
       "</tr>\n",
       "</table>"
      ],
      "text/plain": [
       "<class 'statsmodels.iolib.summary.Summary'>\n",
       "\"\"\"\n",
       "                            OLS Regression Results                            \n",
       "==============================================================================\n",
       "Dep. Variable:              homeGoals   R-squared:                       0.003\n",
       "Model:                            OLS   Adj. R-squared:                  0.003\n",
       "Method:                 Least Squares   F-statistic:                     4.198\n",
       "Date:                Tue, 14 Feb 2017   Prob (F-statistic):             0.0407\n",
       "Time:                        09:50:50   Log-Likelihood:                -2403.1\n",
       "No. Observations:                1230   AIC:                             4810.\n",
       "Df Residuals:                    1228   BIC:                             4820.\n",
       "Df Model:                           1                                         \n",
       "Covariance Type:            nonrobust                                         \n",
       "==============================================================================\n",
       "                 coef    std err          t      P>|t|      [95.0% Conf. Int.]\n",
       "------------------------------------------------------------------------------\n",
       "const          1.3703      0.723      1.896      0.058        -0.048     2.788\n",
       "lnhsalary      0.4015      0.196      2.049      0.041         0.017     0.786\n",
       "==============================================================================\n",
       "Omnibus:                       46.562   Durbin-Watson:                   1.963\n",
       "Prob(Omnibus):                  0.000   Jarque-Bera (JB):               51.238\n",
       "Skew:                           0.500   Prob(JB):                     7.48e-12\n",
       "Kurtosis:                       3.026   Cond. No.                         58.7\n",
       "==============================================================================\n",
       "\n",
       "Warnings:\n",
       "[1] Standard Errors assume that the covariance matrix of the errors is correctly specified.\n",
       "\"\"\""
      ]
     },
     "execution_count": 176,
     "metadata": {},
     "output_type": "execute_result"
    }
   ],
   "source": [
    "temp = sm.OLS(dm['homeGoals'],sm.add_constant(dm['lnhsalary'])).fit()\n",
    "temp.summary()"
   ]
  },
  {
   "cell_type": "markdown",
   "metadata": {},
   "source": [
    "Logs transfrom the data into percent changes\n",
    "\n",
    "A one percent increase in salary results in an increase of 0.40 goals per game"
   ]
  },
  {
   "cell_type": "markdown",
   "metadata": {},
   "source": [
    "$$hgoals_i = \\beta_0 + \\beta_1 lnhsalary_i + \\beta_2 lnasalary_i + mu_i$$"
   ]
  },
  {
   "cell_type": "code",
   "execution_count": 177,
   "metadata": {
    "collapsed": false,
    "scrolled": true
   },
   "outputs": [
    {
     "data": {
      "text/html": [
       "<table class=\"simpletable\">\n",
       "<caption>OLS Regression Results</caption>\n",
       "<tr>\n",
       "  <th>Dep. Variable:</th>        <td>homeGoals</td>    <th>  R-squared:         </th> <td>   0.016</td>\n",
       "</tr>\n",
       "<tr>\n",
       "  <th>Model:</th>                   <td>OLS</td>       <th>  Adj. R-squared:    </th> <td>   0.015</td>\n",
       "</tr>\n",
       "<tr>\n",
       "  <th>Method:</th>             <td>Least Squares</td>  <th>  F-statistic:       </th> <td>   10.12</td>\n",
       "</tr>\n",
       "<tr>\n",
       "  <th>Date:</th>             <td>Tue, 14 Feb 2017</td> <th>  Prob (F-statistic):</th> <td>4.38e-05</td>\n",
       "</tr>\n",
       "<tr>\n",
       "  <th>Time:</th>                 <td>09:50:50</td>     <th>  Log-Likelihood:    </th> <td> -2395.1</td>\n",
       "</tr>\n",
       "<tr>\n",
       "  <th>No. Observations:</th>      <td>  1230</td>      <th>  AIC:               </th> <td>   4796.</td>\n",
       "</tr>\n",
       "<tr>\n",
       "  <th>Df Residuals:</th>          <td>  1227</td>      <th>  BIC:               </th> <td>   4812.</td>\n",
       "</tr>\n",
       "<tr>\n",
       "  <th>Df Model:</th>              <td>     2</td>      <th>                     </th>     <td> </td>   \n",
       "</tr>\n",
       "<tr>\n",
       "  <th>Covariance Type:</th>      <td>nonrobust</td>    <th>                     </th>     <td> </td>   \n",
       "</tr>\n",
       "</table>\n",
       "<table class=\"simpletable\">\n",
       "<tr>\n",
       "      <td></td>         <th>coef</th>     <th>std err</th>      <th>t</th>      <th>P>|t|</th> <th>[95.0% Conf. Int.]</th> \n",
       "</tr>\n",
       "<tr>\n",
       "  <th>const</th>     <td>    4.3420</td> <td>    1.034</td> <td>    4.201</td> <td> 0.000</td> <td>    2.314     6.370</td>\n",
       "</tr>\n",
       "<tr>\n",
       "  <th>lnhsalary</th> <td>    0.3746</td> <td>    0.195</td> <td>    1.922</td> <td> 0.055</td> <td>   -0.008     0.757</td>\n",
       "</tr>\n",
       "<tr>\n",
       "  <th>lnasalary</th> <td>   -0.7825</td> <td>    0.196</td> <td>   -3.998</td> <td> 0.000</td> <td>   -1.166    -0.399</td>\n",
       "</tr>\n",
       "</table>\n",
       "<table class=\"simpletable\">\n",
       "<tr>\n",
       "  <th>Omnibus:</th>       <td>46.552</td> <th>  Durbin-Watson:     </th> <td>   1.948</td>\n",
       "</tr>\n",
       "<tr>\n",
       "  <th>Prob(Omnibus):</th> <td> 0.000</td> <th>  Jarque-Bera (JB):  </th> <td>  51.178</td>\n",
       "</tr>\n",
       "<tr>\n",
       "  <th>Skew:</th>          <td> 0.499</td> <th>  Prob(JB):          </th> <td>7.70e-12</td>\n",
       "</tr>\n",
       "<tr>\n",
       "  <th>Kurtosis:</th>      <td> 3.046</td> <th>  Cond. No.          </th> <td>    115.</td>\n",
       "</tr>\n",
       "</table>"
      ],
      "text/plain": [
       "<class 'statsmodels.iolib.summary.Summary'>\n",
       "\"\"\"\n",
       "                            OLS Regression Results                            \n",
       "==============================================================================\n",
       "Dep. Variable:              homeGoals   R-squared:                       0.016\n",
       "Model:                            OLS   Adj. R-squared:                  0.015\n",
       "Method:                 Least Squares   F-statistic:                     10.12\n",
       "Date:                Tue, 14 Feb 2017   Prob (F-statistic):           4.38e-05\n",
       "Time:                        09:50:50   Log-Likelihood:                -2395.1\n",
       "No. Observations:                1230   AIC:                             4796.\n",
       "Df Residuals:                    1227   BIC:                             4812.\n",
       "Df Model:                           2                                         \n",
       "Covariance Type:            nonrobust                                         \n",
       "==============================================================================\n",
       "                 coef    std err          t      P>|t|      [95.0% Conf. Int.]\n",
       "------------------------------------------------------------------------------\n",
       "const          4.3420      1.034      4.201      0.000         2.314     6.370\n",
       "lnhsalary      0.3746      0.195      1.922      0.055        -0.008     0.757\n",
       "lnasalary     -0.7825      0.196     -3.998      0.000        -1.166    -0.399\n",
       "==============================================================================\n",
       "Omnibus:                       46.552   Durbin-Watson:                   1.948\n",
       "Prob(Omnibus):                  0.000   Jarque-Bera (JB):               51.178\n",
       "Skew:                           0.499   Prob(JB):                     7.70e-12\n",
       "Kurtosis:                       3.046   Cond. No.                         115.\n",
       "==============================================================================\n",
       "\n",
       "Warnings:\n",
       "[1] Standard Errors assume that the covariance matrix of the errors is correctly specified.\n",
       "\"\"\""
      ]
     },
     "execution_count": 177,
     "metadata": {},
     "output_type": "execute_result"
    }
   ],
   "source": [
    "temp = sm.OLS(dm['homeGoals'],sm.add_constant(dm[['lnhsalary', 'lnasalary']])).fit()\n",
    "temp.summary()"
   ]
  },
  {
   "cell_type": "code",
   "execution_count": 178,
   "metadata": {
    "collapsed": false,
    "scrolled": true
   },
   "outputs": [
    {
     "data": {
      "text/plain": [
       "0       1\n",
       "1       0\n",
       "2       0\n",
       "3       1\n",
       "4       1\n",
       "5       0\n",
       "6       0\n",
       "7       1\n",
       "8       1\n",
       "9       0\n",
       "10      1\n",
       "11      0\n",
       "       ..\n",
       "1218    0\n",
       "1219    1\n",
       "1220    0\n",
       "1221    1\n",
       "1222    0\n",
       "1223    0\n",
       "1224    1\n",
       "1225    1\n",
       "1226    0\n",
       "1227    1\n",
       "1228    0\n",
       "1229    1\n",
       "Name: ishwin, dtype: int64"
      ]
     },
     "execution_count": 178,
     "metadata": {},
     "output_type": "execute_result"
    }
   ],
   "source": [
    "dm['ishwin']"
   ]
  },
  {
   "cell_type": "code",
   "execution_count": 179,
   "metadata": {
    "collapsed": false
   },
   "outputs": [
    {
     "data": {
      "text/plain": [
       "0     1\n",
       "1    -1\n",
       "2    -1\n",
       "3     1\n",
       "4     4\n",
       "5    -1\n",
       "6    -1\n",
       "7     0\n",
       "8     4\n",
       "9    -1\n",
       "10    2\n",
       "11   -3\n",
       "12   -3\n",
       "13    4\n",
       "14    0\n",
       "15   -1\n",
       "16    5\n",
       "17    2\n",
       "18    1\n",
       "19    3\n",
       "Name: dGoals, dtype: int64"
      ]
     },
     "execution_count": 179,
     "metadata": {},
     "output_type": "execute_result"
    }
   ],
   "source": [
    "dm['dGoals'].head(20)"
   ]
  },
  {
   "cell_type": "code",
   "execution_count": 180,
   "metadata": {
    "collapsed": false
   },
   "outputs": [
    {
     "data": {
      "text/html": [
       "<table class=\"simpletable\">\n",
       "<caption>OLS Regression Results</caption>\n",
       "<tr>\n",
       "  <th>Dep. Variable:</th>         <td>dGoals</td>      <th>  R-squared:         </th> <td>   0.024</td>\n",
       "</tr>\n",
       "<tr>\n",
       "  <th>Model:</th>                   <td>OLS</td>       <th>  Adj. R-squared:    </th> <td>   0.023</td>\n",
       "</tr>\n",
       "<tr>\n",
       "  <th>Method:</th>             <td>Least Squares</td>  <th>  F-statistic:       </th> <td>   15.26</td>\n",
       "</tr>\n",
       "<tr>\n",
       "  <th>Date:</th>             <td>Tue, 14 Feb 2017</td> <th>  Prob (F-statistic):</th> <td>2.83e-07</td>\n",
       "</tr>\n",
       "<tr>\n",
       "  <th>Time:</th>                 <td>09:50:50</td>     <th>  Log-Likelihood:    </th> <td> -2810.7</td>\n",
       "</tr>\n",
       "<tr>\n",
       "  <th>No. Observations:</th>      <td>  1230</td>      <th>  AIC:               </th> <td>   5627.</td>\n",
       "</tr>\n",
       "<tr>\n",
       "  <th>Df Residuals:</th>          <td>  1227</td>      <th>  BIC:               </th> <td>   5643.</td>\n",
       "</tr>\n",
       "<tr>\n",
       "  <th>Df Model:</th>              <td>     2</td>      <th>                     </th>     <td> </td>   \n",
       "</tr>\n",
       "<tr>\n",
       "  <th>Covariance Type:</th>      <td>nonrobust</td>    <th>                     </th>     <td> </td>   \n",
       "</tr>\n",
       "</table>\n",
       "<table class=\"simpletable\">\n",
       "<tr>\n",
       "      <td></td>         <th>coef</th>     <th>std err</th>      <th>t</th>      <th>P>|t|</th> <th>[95.0% Conf. Int.]</th> \n",
       "</tr>\n",
       "<tr>\n",
       "  <th>const</th>     <td>    1.9667</td> <td>    1.449</td> <td>    1.357</td> <td> 0.175</td> <td>   -0.876     4.810</td>\n",
       "</tr>\n",
       "<tr>\n",
       "  <th>lnhsalary</th> <td>    0.7894</td> <td>    0.273</td> <td>    2.890</td> <td> 0.004</td> <td>    0.253     1.325</td>\n",
       "</tr>\n",
       "<tr>\n",
       "  <th>lnasalary</th> <td>   -1.2640</td> <td>    0.274</td> <td>   -4.607</td> <td> 0.000</td> <td>   -1.802    -0.726</td>\n",
       "</tr>\n",
       "</table>\n",
       "<table class=\"simpletable\">\n",
       "<tr>\n",
       "  <th>Omnibus:</th>       <td> 0.674</td> <th>  Durbin-Watson:     </th> <td>   1.908</td>\n",
       "</tr>\n",
       "<tr>\n",
       "  <th>Prob(Omnibus):</th> <td> 0.714</td> <th>  Jarque-Bera (JB):  </th> <td>   0.568</td>\n",
       "</tr>\n",
       "<tr>\n",
       "  <th>Skew:</th>          <td> 0.037</td> <th>  Prob(JB):          </th> <td>   0.753</td>\n",
       "</tr>\n",
       "<tr>\n",
       "  <th>Kurtosis:</th>      <td> 3.074</td> <th>  Cond. No.          </th> <td>    115.</td>\n",
       "</tr>\n",
       "</table>"
      ],
      "text/plain": [
       "<class 'statsmodels.iolib.summary.Summary'>\n",
       "\"\"\"\n",
       "                            OLS Regression Results                            \n",
       "==============================================================================\n",
       "Dep. Variable:                 dGoals   R-squared:                       0.024\n",
       "Model:                            OLS   Adj. R-squared:                  0.023\n",
       "Method:                 Least Squares   F-statistic:                     15.26\n",
       "Date:                Tue, 14 Feb 2017   Prob (F-statistic):           2.83e-07\n",
       "Time:                        09:50:50   Log-Likelihood:                -2810.7\n",
       "No. Observations:                1230   AIC:                             5627.\n",
       "Df Residuals:                    1227   BIC:                             5643.\n",
       "Df Model:                           2                                         \n",
       "Covariance Type:            nonrobust                                         \n",
       "==============================================================================\n",
       "                 coef    std err          t      P>|t|      [95.0% Conf. Int.]\n",
       "------------------------------------------------------------------------------\n",
       "const          1.9667      1.449      1.357      0.175        -0.876     4.810\n",
       "lnhsalary      0.7894      0.273      2.890      0.004         0.253     1.325\n",
       "lnasalary     -1.2640      0.274     -4.607      0.000        -1.802    -0.726\n",
       "==============================================================================\n",
       "Omnibus:                        0.674   Durbin-Watson:                   1.908\n",
       "Prob(Omnibus):                  0.714   Jarque-Bera (JB):                0.568\n",
       "Skew:                           0.037   Prob(JB):                        0.753\n",
       "Kurtosis:                       3.074   Cond. No.                         115.\n",
       "==============================================================================\n",
       "\n",
       "Warnings:\n",
       "[1] Standard Errors assume that the covariance matrix of the errors is correctly specified.\n",
       "\"\"\""
      ]
     },
     "execution_count": 180,
     "metadata": {},
     "output_type": "execute_result"
    }
   ],
   "source": [
    "temp = sm.OLS(dm['dGoals'],sm.add_constant(dm[['lnhsalary', 'lnasalary']])).fit()\n",
    "temp.summary()"
   ]
  },
  {
   "cell_type": "code",
   "execution_count": 181,
   "metadata": {
    "collapsed": false
   },
   "outputs": [
    {
     "data": {
      "text/plain": [
       "(array([  98.,  216.,  295.,  287.,  204.,   77.,   31.,   16.,    3.,    3.]),\n",
       " array([  0.,   1.,   2.,   3.,   4.,   5.,   6.,   7.,   8.,   9.,  10.]),\n",
       " <a list of 10 Patch objects>)"
      ]
     },
     "execution_count": 181,
     "metadata": {},
     "output_type": "execute_result"
    },
    {
     "data": {
      "image/png": "[encoded data removed]",
      "text/plain": [
       "<matplotlib.figure.Figure at 0x7f65e143e3d0>"
      ]
     },
     "metadata": {},
     "output_type": "display_data"
    }
   ],
   "source": [
    "plt.hist(dm['awayGoals'])"
   ]
  },
  {
   "cell_type": "code",
   "execution_count": 182,
   "metadata": {
    "collapsed": false
   },
   "outputs": [
    {
     "data": {
      "text/plain": [
       "(array([   4.,    7.,   45.,  111.,  334.,  149.,  356.,  131.,   71.,   22.]),\n",
       " array([-8. , -6.5, -5. , -3.5, -2. , -0.5,  1. ,  2.5,  4. ,  5.5,  7. ]),\n",
       " <a list of 10 Patch objects>)"
      ]
     },
     "execution_count": 182,
     "metadata": {},
     "output_type": "execute_result"
    },
    {
     "data": {
      "image/png": "[encoded data removed]",
      "text/plain": [
       "<matplotlib.figure.Figure at 0x7f65e13a7310>"
      ]
     },
     "metadata": {},
     "output_type": "display_data"
    }
   ],
   "source": [
    "plt.hist(dm['dGoals'])"
   ]
  },
  {
   "cell_type": "markdown",
   "metadata": {},
   "source": [
    "Examine annualize home team data"
   ]
  },
  {
   "cell_type": "code",
   "execution_count": 183,
   "metadata": {
    "collapsed": false
   },
   "outputs": [
    {
     "ename": "SyntaxError",
     "evalue": "invalid syntax (<ipython-input-183-004bbd3f5da6>, line 1)",
     "output_type": "error",
     "traceback": [
      "\u001b[0;36m  File \u001b[0;32m\"<ipython-input-183-004bbd3f5da6>\"\u001b[0;36m, line \u001b[0;32m1\u001b[0m\n\u001b[0;31m    Estimate the impact of salary on goals allowed: $hgoals_i = \\beta_0 + \\beta_1 ln(hsalary_i)  + \\mu_i$\u001b[0m\n\u001b[0m               ^\u001b[0m\n\u001b[0;31mSyntaxError\u001b[0m\u001b[0;31m:\u001b[0m invalid syntax\n"
     ]
    }
   ],
   "source": [
    "Estimate the impact of salary on goals allowed: $hgoals_i = \\beta_0 + \\beta_1 ln(hsalary_i)  + \\mu_i$"
   ]
  },
  {
   "cell_type": "code",
   "execution_count": null,
   "metadata": {
    "collapsed": false
   },
   "outputs": [],
   "source": [
    "temp = sm.OLS(dm['homeGoals'],sm.add_constant(dm['awaySalary'])).fit()\n",
    "temp.summary()"
   ]
  },
  {
   "cell_type": "markdown",
   "metadata": {},
   "source": [
    "# Contest model \n",
    "\n",
    "Represent the data relative to a team (e.g. home)\n",
    "\n",
    "$$hwin_i = \\beta_0 + \\beta_1 (hsalary_i - asalary_i) + \\mu_i $$"
   ]
  },
  {
   "cell_type": "code",
   "execution_count": null,
   "metadata": {
    "collapsed": false,
    "scrolled": true
   },
   "outputs": [],
   "source": [
    "temp = sm.OLS(dm['dGoals'],sm.add_constant(dm['lnSalary'])).fit()\n",
    "temp.summary()"
   ]
  },
  {
   "cell_type": "markdown",
   "metadata": {},
   "source": [
    "A one percent increase in the difference in team salaries increases the goal differential by 0.22 goals per game"
   ]
  },
  {
   "cell_type": "code",
   "execution_count": null,
   "metadata": {
    "collapsed": false
   },
   "outputs": [],
   "source": [
    "temp = sm.OLS(dm['homeWin'],sm.add_constant(dm['lnSalary'])).fit()\n",
    "temp.summary()"
   ]
  },
  {
   "cell_type": "markdown",
   "metadata": {},
   "source": [
    "A one percent increase in the difference in team salaries increases the probability of a win by 0.23 points.\n",
    "\n",
    "The home team advantage is 0.17 probabability points (0.5173 - 0.5000)"
   ]
  }
 ],
 "metadata": {
  "anaconda-cloud": {},
  "kernelspec": {
   "display_name": "Python [conda root]",
   "language": "python",
   "name": "conda-root-py"
  },
  "language_info": {
   "codemirror_mode": {
    "name": "ipython",
    "version": 2
   },
   "file_extension": ".py",
   "mimetype": "text/x-python",
   "name": "python",
   "nbconvert_exporter": "python",
   "pygments_lexer": "ipython2",
   "version": "2.7.12"
  }
 },
 "nbformat": 4,
 "nbformat_minor": 1
}
