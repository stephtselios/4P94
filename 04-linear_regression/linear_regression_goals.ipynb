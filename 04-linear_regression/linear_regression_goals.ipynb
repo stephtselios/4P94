{
 "cells": [
  {
   "cell_type": "markdown",
   "metadata": {
    "collapsed": true
   },
   "source": [
    "\n",
    "Estimators\n",
    "\n",
    "        Desirable properties: unbiased and efficient\n",
    "        Examples: mean, conditional means\n",
    "\n",
    "Linear regression\n",
    "\n",
    "        Linear regression estimates the slopes and intercepts of the population regression line\n",
    "        Measures the linear relationship between explanitory variables and a response variable\n",
    "        The slope of the population regression line is the expected effect on Y of a unit change in X        "
   ]
  },
  {
   "cell_type": "markdown",
   "metadata": {},
   "source": [
    "The general linear model can be expressed as,\n",
    "\n",
    "$$y_i = \\beta_0 + \\beta_1 x_i + \\mu_i, i=1...n$$\n",
    "\n",
    "* y is the dependent variable\n",
    "* x is the independent variable\n",
    "* The $b_0$ = intercept\n",
    "* $b_1$ = slope\n",
    "* $mu_i$ = the regression residual or error term\n",
    "\n",
    "Ordinary Least Squares (OLS)\n",
    "    \n",
    "* An estimator that estimates the conditioanl means of the population parameters\n",
    "* Minimizes the average squared difference between the actual values of y and the estmated lines predicted values\n",
    "\n",
    "Consider $winpercent_i = \\beta_0 + \\beta_1 firstgoal_i + \\mu_i, i=1...n$    \n",
    "\n",
    "* unit of observation is the a season-team for $i=1...30$\n",
    "* $winpercent_i$: a team season-level winning percentage\n",
    "* $firstgoal_i$: the proportion of total season games the team scored first\n",
    "* The intercept, $b_0$, (taken literally) is the estimated number of season wins if the team had 0 first goal games (i.e., $x=0$)\n",
    "* The paramater, $b_1$, is the esimated change in a team's winning percentage for each 1 point increase in the proportion of fist goal games\n",
    "\n",
    "Specification\n",
    "\n",
    "* Continuous variables: parameter estimates are slope effects\n",
    "* Categorical data represented as a series of indicator variables (i.e. fixed effects): parameter estimates are shift effects relative to the intercept/constant\n",
    "* Binary (1/0) dependent variables are linear probability models\n",
    "* Generally obtain unbiased slope effects\n",
    "* Potentially predict outside the 0-1 interval"
   ]
  },
  {
   "cell_type": "markdown",
   "metadata": {},
   "source": [
    "Examine the impact of physical characteristics on winning"
   ]
  },
  {
   "cell_type": "code",
   "execution_count": 13,
   "metadata": {
    "collapsed": true
   },
   "outputs": [],
   "source": [
    "%matplotlib inline\n",
    "import os\n",
    "import sys\n",
    "import numpy \n",
    "import pandas \n",
    "import matplotlib.pyplot as plt\n",
    "import pylab\n",
    "\n",
    "# imports regression library\n",
    "import statsmodels.api as sm\n",
    "from statsmodels.formula.api import ols\n",
    "    \n",
    "# Set some Pandas options\n",
    "pd.set_option('display.notebook_repr_html', False)\n",
    "pd.set_option('display.max_columns', 20)\n",
    "pd.set_option('display.max_rows', 25)\n",
    "\n",
    "from decimal import getcontext, Decimal\n",
    "# Set the precision.\n",
    "getcontext().prec = 3"
   ]
  },
  {
   "cell_type": "code",
   "execution_count": 14,
   "metadata": {
    "collapsed": false
   },
   "outputs": [],
   "source": [
    "dm = pandas.read_csv('2010game_physical.csv')"
   ]
  },
  {
   "cell_type": "code",
   "execution_count": 15,
   "metadata": {
    "collapsed": false
   },
   "outputs": [
    {
     "data": {
      "text/plain": [
       "gamenumber       int64\n",
       "awayTeam        object\n",
       "awaySalary     float64\n",
       "awayAge          int64\n",
       "awayHeight       int64\n",
       "awayWeight       int64\n",
       "awayGoaliue     object\n",
       "awayGoals        int64\n",
       "homeTeam        object\n",
       "homeSalary     float64\n",
       "homeAge          int64\n",
       "homeHeight       int64\n",
       "homeWeight       int64\n",
       "homeGoalie      object\n",
       "homeGoals        int64\n",
       "winteamcode     object\n",
       "dtype: object"
      ]
     },
     "execution_count": 15,
     "metadata": {},
     "output_type": "execute_result"
    }
   ],
   "source": [
    "dm.columns.tolist()\n",
    "len(dm)\n",
    "dm.head()\n",
    "dm.tail()\n",
    "dm.describe()\n",
    "dm.dtypes"
   ]
  },
  {
   "cell_type": "code",
   "execution_count": 16,
   "metadata": {
    "collapsed": false
   },
   "outputs": [
    {
     "data": {
      "text/plain": [
       "   gamenumber awayTeam  awaySalary  awayAge  awayHeight  awayWeight  \\\n",
       "0       20001      MTL   38.383301      501        1313        3695   \n",
       "1       20002      PHI   50.365002      498        1317        3669   \n",
       "2       20003      CAR   35.825001      471        1315        3574   \n",
       "3       20004      CHI   50.560001      462        1326        3700   \n",
       "4       20005      CGY   39.764999      505        1331        3726   \n",
       "\n",
       "        awayGoaliue  awayGoals homeTeam  homeSalary  homeAge  homeHeight  \\\n",
       "0       PRICE_CAREY          2      TOR   44.612999      471        1312   \n",
       "1  BOBROVSKY_SERGEI          3      PIT   49.192402      497        1308   \n",
       "2          WARD_CAM          4      MIN   40.180000      503        1321   \n",
       "3       TURCO_MARTY          3      COL   33.750000      469        1306   \n",
       "4  KIPRUSOFF_MIIKKA          0      EDM   41.400002      458        1324   \n",
       "\n",
       "   homeWeight             homeGoalie  homeGoals winteamcode  \n",
       "0        3715  GIGUERE_JEANSEBASTIEN          3         TOR  \n",
       "1        3611       FLEURY_MARCANDRE          2         PHI  \n",
       "2        3734       BACKSTROM_NIKLAS          3         CAR  \n",
       "3        3627         ANDERSON_CRAIG          4         COL  \n",
       "4        3745     KHABIBULIN_NIKOLAI          4         EDM  "
      ]
     },
     "execution_count": 16,
     "metadata": {},
     "output_type": "execute_result"
    }
   ],
   "source": [
    "dm.head()\n"
   ]
  },
  {
   "cell_type": "code",
   "execution_count": 17,
   "metadata": {
    "collapsed": false
   },
   "outputs": [
    {
     "data": {
      "text/plain": [
       "         gamenumber   awaySalary      awayAge   awayHeight   awayWeight  \\\n",
       "count   1230.000000  1230.000000  1230.000000  1230.000000  1230.000000   \n",
       "mean   20615.500000    40.407660   491.969106  1314.306504  3672.840650   \n",
       "std      355.214724     8.792408    24.373131    19.069473    80.438388   \n",
       "min    20001.000000    14.995800   427.000000  1164.000000  3177.000000   \n",
       "25%    20308.250000    34.546598   474.000000  1310.000000  3636.000000   \n",
       "50%    20615.500000    40.473749   493.000000  1317.000000  3676.500000   \n",
       "75%    20922.750000    46.645452   505.750000  1323.000000  3725.000000   \n",
       "max    21230.000000    58.483002   571.000000  1343.000000  3827.000000   \n",
       "\n",
       "         awayGoals   homeSalary      homeAge   homeHeight   homeWeight  \\\n",
       "count  1230.000000  1230.000000  1230.000000  1230.000000  1230.000000   \n",
       "mean      2.616260    40.788019   492.078862  1313.652846  3672.404065   \n",
       "std       1.588935     8.838008    24.755983    20.309621    83.290526   \n",
       "min       0.000000    15.772500   415.000000  1110.000000  3100.000000   \n",
       "25%       1.000000    35.924999   474.000000  1310.000000  3636.000000   \n",
       "50%       3.000000    41.075499   493.000000  1317.000000  3678.000000   \n",
       "75%       4.000000    47.016251   506.000000  1322.000000  3723.000000   \n",
       "max      10.000000    58.908001   572.000000  1347.000000  3835.000000   \n",
       "\n",
       "         homeGoals  \n",
       "count  1230.000000  \n",
       "mean      2.847967  \n",
       "std       1.710678  \n",
       "min       0.000000  \n",
       "25%       2.000000  \n",
       "50%       3.000000  \n",
       "75%       4.000000  \n",
       "max       9.000000  "
      ]
     },
     "execution_count": 17,
     "metadata": {},
     "output_type": "execute_result"
    }
   ],
   "source": [
    "dm.describe()"
   ]
  },
  {
   "cell_type": "markdown",
   "metadata": {},
   "source": [
    "# generate variables"
   ]
  },
  {
   "cell_type": "code",
   "execution_count": 55,
   "metadata": {
    "collapsed": false
   },
   "outputs": [],
   "source": [
    "dm['dGoals']    = dm['homeGoals'] - dm['awayGoals'] #regulation score-margin\n",
    "\n",
    "dm['homeWin']   = dm.apply(lambda x: 1 if (x['homeTeam'] == x['winteamcode']) else 0, axis=1) #home win team indicator variable\n",
    "\n",
    "dm['dAge']      =  dm['homeAge']-dm['awayAge']\n",
    "dm['dHeight']   = dm['homeHeight']-dm['awayHeight']\n",
    "dm['dWeight']   = dm['homeWeight']-dm['awayHeight']\n",
    "\n",
    "dm['lnDAge']    = numpy.log(dm['homeAge']/dm['awayAge'])\n",
    "dm['lnDHeight'] = numpy.log(dm['homeHeight']/dm['awayHeight'])\n",
    "dm['lnDWeight'] = numpy.log(dm['homeWeight']/dm['awayWeight'])\n",
    "\n",
    "dm['lnSalary']  = numpy.log(dm['homeSalary']/dm['awaySalary'])\n",
    "dm['lnhsalary']  = numpy.log(dm['homeSalary'])\n"
   ]
  },
  {
   "cell_type": "code",
   "execution_count": 19,
   "metadata": {
    "collapsed": false
   },
   "outputs": [
    {
     "ename": "IndentationError",
     "evalue": "unexpected indent (<ipython-input-19-ebbab90cd037>, line 4)",
     "output_type": "error",
     "traceback": [
      "\u001b[0;36m  File \u001b[0;32m\"<ipython-input-19-ebbab90cd037>\"\u001b[0;36m, line \u001b[0;32m4\u001b[0m\n\u001b[0;31m    m1 = ['dAge', 'dHeight', 'dWeight']\u001b[0m\n\u001b[0m    ^\u001b[0m\n\u001b[0;31mIndentationError\u001b[0m\u001b[0;31m:\u001b[0m unexpected indent\n"
     ]
    }
   ],
   "source": [
    "   Y = dm['homeWin']\n",
    "\n",
    "    #Independent variables\n",
    "    m1 = ['dAge', 'dHeight', 'dWeight']\n",
    "    m2 = ['lnDAge', 'lnDHeight', 'lnDWeight']\n",
    "    m3 = ['lnDAge', 'lnDHeight', 'lnDWeight', 'lnSalary']\n",
    "\n",
    "    X1 = sm.add_constant(dm[m1])\n",
    "    X2 = sm.add_constant(dm[m2])\n",
    "    X3 = sm.add_constant(dm[m3])\n",
    "\n",
    "    tempOut = sm.OLS(Y, X1).fit()\n",
    "    tempOut.summary()"
   ]
  },
  {
   "cell_type": "code",
   "execution_count": 21,
   "metadata": {
    "collapsed": false,
    "scrolled": true
   },
   "outputs": [
    {
     "data": {
      "text/plain": [
       "(array([  82.,  202.,  273.,  278.,  190.,  114.,   57.,   25.,    7.,    2.]),\n",
       " array([ 0. ,  0.9,  1.8,  2.7,  3.6,  4.5,  5.4,  6.3,  7.2,  8.1,  9. ]),\n",
       " <a list of 10 Patch objects>)"
      ]
     },
     "execution_count": 21,
     "metadata": {},
     "output_type": "execute_result"
    },
    {
     "data": {
      "image/png": "[encoded data removed]",
      "text/plain": [
       "<matplotlib.figure.Figure at 0x7f65ebd32c10>"
      ]
     },
     "metadata": {},
     "output_type": "display_data"
    }
   ],
   "source": [
    "plt.hist(dm['homeGoals'])"
   ]
  },
  {
   "cell_type": "markdown",
   "metadata": {},
   "source": [
    "Estimate the impact of salary on goals scored: $hgoals_i = \\beta_0 + \\beta_1 hsalary_i  + \\mu_i$"
   ]
  },
  {
   "cell_type": "code",
   "execution_count": 35,
   "metadata": {
    "collapsed": false
   },
   "outputs": [
    {
     "data": {
      "text/html": [
       "<table class=\"simpletable\">\n",
       "<caption>OLS Regression Results</caption>\n",
       "<tr>\n",
       "  <th>Dep. Variable:</th>        <td>homeGoals</td>    <th>  R-squared:         </th> <td>   0.006</td>\n",
       "</tr>\n",
       "<tr>\n",
       "  <th>Model:</th>                   <td>OLS</td>       <th>  Adj. R-squared:    </th> <td>   0.005</td>\n",
       "</tr>\n",
       "<tr>\n",
       "  <th>Method:</th>             <td>Least Squares</td>  <th>  F-statistic:       </th> <td>   6.814</td>\n",
       "</tr>\n",
       "<tr>\n",
       "  <th>Date:</th>             <td>Tue, 14 Feb 2017</td> <th>  Prob (F-statistic):</th>  <td>0.00916</td>\n",
       "</tr>\n",
       "<tr>\n",
       "  <th>Time:</th>                 <td>07:02:10</td>     <th>  Log-Likelihood:    </th> <td> -2401.8</td>\n",
       "</tr>\n",
       "<tr>\n",
       "  <th>No. Observations:</th>      <td>  1230</td>      <th>  AIC:               </th> <td>   4808.</td>\n",
       "</tr>\n",
       "<tr>\n",
       "  <th>Df Residuals:</th>          <td>  1228</td>      <th>  BIC:               </th> <td>   4818.</td>\n",
       "</tr>\n",
       "<tr>\n",
       "  <th>Df Model:</th>              <td>     1</td>      <th>                     </th>     <td> </td>   \n",
       "</tr>\n",
       "<tr>\n",
       "  <th>Covariance Type:</th>      <td>nonrobust</td>    <th>                     </th>     <td> </td>   \n",
       "</tr>\n",
       "</table>\n",
       "<table class=\"simpletable\">\n",
       "<tr>\n",
       "       <td></td>         <th>coef</th>     <th>std err</th>      <th>t</th>      <th>P>|t|</th> <th>[95.0% Conf. Int.]</th> \n",
       "</tr>\n",
       "<tr>\n",
       "  <th>const</th>      <td>    2.2615</td> <td>    0.230</td> <td>    9.838</td> <td> 0.000</td> <td>    1.811     2.713</td>\n",
       "</tr>\n",
       "<tr>\n",
       "  <th>homeSalary</th> <td>    0.0144</td> <td>    0.006</td> <td>    2.610</td> <td> 0.009</td> <td>    0.004     0.025</td>\n",
       "</tr>\n",
       "</table>\n",
       "<table class=\"simpletable\">\n",
       "<tr>\n",
       "  <th>Omnibus:</th>       <td>46.350</td> <th>  Durbin-Watson:     </th> <td>   1.961</td>\n",
       "</tr>\n",
       "<tr>\n",
       "  <th>Prob(Omnibus):</th> <td> 0.000</td> <th>  Jarque-Bera (JB):  </th> <td>  50.960</td>\n",
       "</tr>\n",
       "<tr>\n",
       "  <th>Skew:</th>          <td> 0.498</td> <th>  Prob(JB):          </th> <td>8.59e-12</td>\n",
       "</tr>\n",
       "<tr>\n",
       "  <th>Kurtosis:</th>      <td> 3.034</td> <th>  Cond. No.          </th> <td>    197.</td>\n",
       "</tr>\n",
       "</table>"
      ],
      "text/plain": [
       "<class 'statsmodels.iolib.summary.Summary'>\n",
       "\"\"\"\n",
       "                            OLS Regression Results                            \n",
       "==============================================================================\n",
       "Dep. Variable:              homeGoals   R-squared:                       0.006\n",
       "Model:                            OLS   Adj. R-squared:                  0.005\n",
       "Method:                 Least Squares   F-statistic:                     6.814\n",
       "Date:                Tue, 14 Feb 2017   Prob (F-statistic):            0.00916\n",
       "Time:                        07:02:10   Log-Likelihood:                -2401.8\n",
       "No. Observations:                1230   AIC:                             4808.\n",
       "Df Residuals:                    1228   BIC:                             4818.\n",
       "Df Model:                           1                                         \n",
       "Covariance Type:            nonrobust                                         \n",
       "==============================================================================\n",
       "                 coef    std err          t      P>|t|      [95.0% Conf. Int.]\n",
       "------------------------------------------------------------------------------\n",
       "const          2.2615      0.230      9.838      0.000         1.811     2.713\n",
       "homeSalary     0.0144      0.006      2.610      0.009         0.004     0.025\n",
       "==============================================================================\n",
       "Omnibus:                       46.350   Durbin-Watson:                   1.961\n",
       "Prob(Omnibus):                  0.000   Jarque-Bera (JB):               50.960\n",
       "Skew:                           0.498   Prob(JB):                     8.59e-12\n",
       "Kurtosis:                       3.034   Cond. No.                         197.\n",
       "==============================================================================\n",
       "\n",
       "Warnings:\n",
       "[1] Standard Errors assume that the covariance matrix of the errors is correctly specified.\n",
       "\"\"\""
      ]
     },
     "execution_count": 35,
     "metadata": {},
     "output_type": "execute_result"
    }
   ],
   "source": [
    "# note, a vector of ones is included for the constant/intercept term\n",
    "\n",
    "Y = dm['homeGoals']\n",
    "X = sm.add_constant(dm['homeSalary'])\n",
    "\n",
    "temp = sm.OLS(Y, X).fit()\n",
    "temp.summary()"
   ]
  },
  {
   "cell_type": "code",
   "execution_count": 40,
   "metadata": {
    "collapsed": false
   },
   "outputs": [
    {
     "data": {
      "text/plain": [
       "const         2.261505\n",
       "homeSalary    0.014378\n",
       "dtype: float64"
      ]
     },
     "execution_count": 40,
     "metadata": {},
     "output_type": "execute_result"
    }
   ],
   "source": [
    "temp.params"
   ]
  },
  {
   "cell_type": "markdown",
   "metadata": {},
   "source": [
    "$\\beta_0=2.26$ \n",
    "\n",
    "$\\beta_1=0.014$ \n",
    "\n",
    "A one million dollar increase in salary resulting in an increase of 0.014 goals per game\n",
    "\n",
    "Taken literally the constant represents the number of goals scored per game with a home salary of 0 dollars."
   ]
  },
  {
   "cell_type": "code",
   "execution_count": 48,
   "metadata": {
    "collapsed": false,
    "scrolled": true
   },
   "outputs": [
    {
     "data": {
      "text/html": [
       "<table class=\"simpletable\">\n",
       "<caption>OLS Regression Results</caption>\n",
       "<tr>\n",
       "  <th>Dep. Variable:</th>        <td>homeGoals</td>    <th>  R-squared:         </th> <td>   0.006</td>\n",
       "</tr>\n",
       "<tr>\n",
       "  <th>Model:</th>                   <td>OLS</td>       <th>  Adj. R-squared:    </th> <td>   0.005</td>\n",
       "</tr>\n",
       "<tr>\n",
       "  <th>Method:</th>             <td>Least Squares</td>  <th>  F-statistic:       </th> <td>   6.814</td>\n",
       "</tr>\n",
       "<tr>\n",
       "  <th>Date:</th>             <td>Tue, 14 Feb 2017</td> <th>  Prob (F-statistic):</th>  <td>0.00916</td>\n",
       "</tr>\n",
       "<tr>\n",
       "  <th>Time:</th>                 <td>07:12:47</td>     <th>  Log-Likelihood:    </th> <td> -2401.8</td>\n",
       "</tr>\n",
       "<tr>\n",
       "  <th>No. Observations:</th>      <td>  1230</td>      <th>  AIC:               </th> <td>   4808.</td>\n",
       "</tr>\n",
       "<tr>\n",
       "  <th>Df Residuals:</th>          <td>  1228</td>      <th>  BIC:               </th> <td>   4818.</td>\n",
       "</tr>\n",
       "<tr>\n",
       "  <th>Df Model:</th>              <td>     1</td>      <th>                     </th>     <td> </td>   \n",
       "</tr>\n",
       "<tr>\n",
       "  <th>Covariance Type:</th>      <td>nonrobust</td>    <th>                     </th>     <td> </td>   \n",
       "</tr>\n",
       "</table>\n",
       "<table class=\"simpletable\">\n",
       "<tr>\n",
       "       <td></td>         <th>coef</th>     <th>std err</th>      <th>t</th>      <th>P>|t|</th> <th>[95.0% Conf. Int.]</th> \n",
       "</tr>\n",
       "<tr>\n",
       "  <th>const</th>      <td>    2.2615</td> <td>    0.230</td> <td>    9.838</td> <td> 0.000</td> <td>    1.811     2.713</td>\n",
       "</tr>\n",
       "<tr>\n",
       "  <th>homeSalary</th> <td>    0.0144</td> <td>    0.006</td> <td>    2.610</td> <td> 0.009</td> <td>    0.004     0.025</td>\n",
       "</tr>\n",
       "</table>\n",
       "<table class=\"simpletable\">\n",
       "<tr>\n",
       "  <th>Omnibus:</th>       <td>46.350</td> <th>  Durbin-Watson:     </th> <td>   1.961</td>\n",
       "</tr>\n",
       "<tr>\n",
       "  <th>Prob(Omnibus):</th> <td> 0.000</td> <th>  Jarque-Bera (JB):  </th> <td>  50.960</td>\n",
       "</tr>\n",
       "<tr>\n",
       "  <th>Skew:</th>          <td> 0.498</td> <th>  Prob(JB):          </th> <td>8.59e-12</td>\n",
       "</tr>\n",
       "<tr>\n",
       "  <th>Kurtosis:</th>      <td> 3.034</td> <th>  Cond. No.          </th> <td>    197.</td>\n",
       "</tr>\n",
       "</table>"
      ],
      "text/plain": [
       "<class 'statsmodels.iolib.summary.Summary'>\n",
       "\"\"\"\n",
       "                            OLS Regression Results                            \n",
       "==============================================================================\n",
       "Dep. Variable:              homeGoals   R-squared:                       0.006\n",
       "Model:                            OLS   Adj. R-squared:                  0.005\n",
       "Method:                 Least Squares   F-statistic:                     6.814\n",
       "Date:                Tue, 14 Feb 2017   Prob (F-statistic):            0.00916\n",
       "Time:                        07:12:47   Log-Likelihood:                -2401.8\n",
       "No. Observations:                1230   AIC:                             4808.\n",
       "Df Residuals:                    1228   BIC:                             4818.\n",
       "Df Model:                           1                                         \n",
       "Covariance Type:            nonrobust                                         \n",
       "==============================================================================\n",
       "                 coef    std err          t      P>|t|      [95.0% Conf. Int.]\n",
       "------------------------------------------------------------------------------\n",
       "const          2.2615      0.230      9.838      0.000         1.811     2.713\n",
       "homeSalary     0.0144      0.006      2.610      0.009         0.004     0.025\n",
       "==============================================================================\n",
       "Omnibus:                       46.350   Durbin-Watson:                   1.961\n",
       "Prob(Omnibus):                  0.000   Jarque-Bera (JB):               50.960\n",
       "Skew:                           0.498   Prob(JB):                     8.59e-12\n",
       "Kurtosis:                       3.034   Cond. No.                         197.\n",
       "==============================================================================\n",
       "\n",
       "Warnings:\n",
       "[1] Standard Errors assume that the covariance matrix of the errors is correctly specified.\n",
       "\"\"\""
      ]
     },
     "execution_count": 48,
     "metadata": {},
     "output_type": "execute_result"
    }
   ],
   "source": [
    "# embed the variables into the equation\n",
    "temp = sm.OLS(dm['homeGoals'],sm.add_constant(dm['homeSalary'])).fit()\n",
    "temp.summary()"
   ]
  },
  {
   "cell_type": "markdown",
   "metadata": {},
   "source": [
    "Estimate the impact of salary on goals scored: $hgoals_i = \\beta_0 + \\beta_1 ln(hsalary_i)  + \\mu_i$"
   ]
  },
  {
   "cell_type": "code",
   "execution_count": 58,
   "metadata": {
    "collapsed": false,
    "scrolled": true
   },
   "outputs": [
    {
     "data": {
      "text/html": [
       "<table class=\"simpletable\">\n",
       "<caption>OLS Regression Results</caption>\n",
       "<tr>\n",
       "  <th>Dep. Variable:</th>        <td>homeGoals</td>    <th>  R-squared:         </th> <td>   0.003</td>\n",
       "</tr>\n",
       "<tr>\n",
       "  <th>Model:</th>                   <td>OLS</td>       <th>  Adj. R-squared:    </th> <td>   0.003</td>\n",
       "</tr>\n",
       "<tr>\n",
       "  <th>Method:</th>             <td>Least Squares</td>  <th>  F-statistic:       </th> <td>   4.198</td>\n",
       "</tr>\n",
       "<tr>\n",
       "  <th>Date:</th>             <td>Tue, 14 Feb 2017</td> <th>  Prob (F-statistic):</th>  <td>0.0407</td> \n",
       "</tr>\n",
       "<tr>\n",
       "  <th>Time:</th>                 <td>07:19:59</td>     <th>  Log-Likelihood:    </th> <td> -2403.1</td>\n",
       "</tr>\n",
       "<tr>\n",
       "  <th>No. Observations:</th>      <td>  1230</td>      <th>  AIC:               </th> <td>   4810.</td>\n",
       "</tr>\n",
       "<tr>\n",
       "  <th>Df Residuals:</th>          <td>  1228</td>      <th>  BIC:               </th> <td>   4820.</td>\n",
       "</tr>\n",
       "<tr>\n",
       "  <th>Df Model:</th>              <td>     1</td>      <th>                     </th>     <td> </td>   \n",
       "</tr>\n",
       "<tr>\n",
       "  <th>Covariance Type:</th>      <td>nonrobust</td>    <th>                     </th>     <td> </td>   \n",
       "</tr>\n",
       "</table>\n",
       "<table class=\"simpletable\">\n",
       "<tr>\n",
       "      <td></td>         <th>coef</th>     <th>std err</th>      <th>t</th>      <th>P>|t|</th> <th>[95.0% Conf. Int.]</th> \n",
       "</tr>\n",
       "<tr>\n",
       "  <th>const</th>     <td>    1.3703</td> <td>    0.723</td> <td>    1.896</td> <td> 0.058</td> <td>   -0.048     2.788</td>\n",
       "</tr>\n",
       "<tr>\n",
       "  <th>lnhsalary</th> <td>    0.4015</td> <td>    0.196</td> <td>    2.049</td> <td> 0.041</td> <td>    0.017     0.786</td>\n",
       "</tr>\n",
       "</table>\n",
       "<table class=\"simpletable\">\n",
       "<tr>\n",
       "  <th>Omnibus:</th>       <td>46.562</td> <th>  Durbin-Watson:     </th> <td>   1.963</td>\n",
       "</tr>\n",
       "<tr>\n",
       "  <th>Prob(Omnibus):</th> <td> 0.000</td> <th>  Jarque-Bera (JB):  </th> <td>  51.238</td>\n",
       "</tr>\n",
       "<tr>\n",
       "  <th>Skew:</th>          <td> 0.500</td> <th>  Prob(JB):          </th> <td>7.48e-12</td>\n",
       "</tr>\n",
       "<tr>\n",
       "  <th>Kurtosis:</th>      <td> 3.026</td> <th>  Cond. No.          </th> <td>    58.7</td>\n",
       "</tr>\n",
       "</table>"
      ],
      "text/plain": [
       "<class 'statsmodels.iolib.summary.Summary'>\n",
       "\"\"\"\n",
       "                            OLS Regression Results                            \n",
       "==============================================================================\n",
       "Dep. Variable:              homeGoals   R-squared:                       0.003\n",
       "Model:                            OLS   Adj. R-squared:                  0.003\n",
       "Method:                 Least Squares   F-statistic:                     4.198\n",
       "Date:                Tue, 14 Feb 2017   Prob (F-statistic):             0.0407\n",
       "Time:                        07:19:59   Log-Likelihood:                -2403.1\n",
       "No. Observations:                1230   AIC:                             4810.\n",
       "Df Residuals:                    1228   BIC:                             4820.\n",
       "Df Model:                           1                                         \n",
       "Covariance Type:            nonrobust                                         \n",
       "==============================================================================\n",
       "                 coef    std err          t      P>|t|      [95.0% Conf. Int.]\n",
       "------------------------------------------------------------------------------\n",
       "const          1.3703      0.723      1.896      0.058        -0.048     2.788\n",
       "lnhsalary      0.4015      0.196      2.049      0.041         0.017     0.786\n",
       "==============================================================================\n",
       "Omnibus:                       46.562   Durbin-Watson:                   1.963\n",
       "Prob(Omnibus):                  0.000   Jarque-Bera (JB):               51.238\n",
       "Skew:                           0.500   Prob(JB):                     7.48e-12\n",
       "Kurtosis:                       3.026   Cond. No.                         58.7\n",
       "==============================================================================\n",
       "\n",
       "Warnings:\n",
       "[1] Standard Errors assume that the covariance matrix of the errors is correctly specified.\n",
       "\"\"\""
      ]
     },
     "execution_count": 58,
     "metadata": {},
     "output_type": "execute_result"
    }
   ],
   "source": [
    "temp = sm.OLS(dm['homeGoals'],sm.add_constant(dm['lnhsalary'])).fit()\n",
    "temp.summary()"
   ]
  },
  {
   "cell_type": "markdown",
   "metadata": {},
   "source": [
    "Logs transfrom the data into percent changes\n",
    "\n",
    "A one percent increase in salary results in an increase of 0.40 goals per game"
   ]
  },
  {
   "cell_type": "code",
   "execution_count": 43,
   "metadata": {
    "collapsed": false
   },
   "outputs": [
    {
     "data": {
      "text/plain": [
       "(array([  98.,  216.,  295.,  287.,  204.,   77.,   31.,   16.,    3.,    3.]),\n",
       " array([  0.,   1.,   2.,   3.,   4.,   5.,   6.,   7.,   8.,   9.,  10.]),\n",
       " <a list of 10 Patch objects>)"
      ]
     },
     "execution_count": 43,
     "metadata": {},
     "output_type": "execute_result"
    },
    {
     "data": {
      "image/png": "[encoded data removed]",
      "text/plain": [
       "<matplotlib.figure.Figure at 0x7f65ebd4bb90>"
      ]
     },
     "metadata": {},
     "output_type": "display_data"
    }
   ],
   "source": [
    "plt.hist(dm['awayGoals'])"
   ]
  },
  {
   "cell_type": "code",
   "execution_count": null,
   "metadata": {
    "collapsed": true
   },
   "outputs": [],
   "source": []
  },
  {
   "cell_type": "code",
   "execution_count": null,
   "metadata": {
    "collapsed": true
   },
   "outputs": [],
   "source": []
  },
  {
   "cell_type": "code",
   "execution_count": 23,
   "metadata": {
    "collapsed": false
   },
   "outputs": [
    {
     "data": {
      "text/plain": [
       "(array([   4.,    7.,   45.,  111.,  334.,  149.,  356.,  131.,   71.,   22.]),\n",
       " array([-8. , -6.5, -5. , -3.5, -2. , -0.5,  1. ,  2.5,  4. ,  5.5,  7. ]),\n",
       " <a list of 10 Patch objects>)"
      ]
     },
     "execution_count": 23,
     "metadata": {},
     "output_type": "execute_result"
    },
    {
     "data": {
      "image/png": "[encoded data removed]",
      "text/plain": [
       "<matplotlib.figure.Figure at 0x7f65ebd79250>"
      ]
     },
     "metadata": {},
     "output_type": "display_data"
    }
   ],
   "source": [
    "plt.hist(dm['dGoals'])"
   ]
  },
  {
   "cell_type": "code",
   "execution_count": null,
   "metadata": {
    "collapsed": true
   },
   "outputs": [],
   "source": []
  }
 ],
 "metadata": {
  "anaconda-cloud": {},
  "kernelspec": {
   "display_name": "Python [conda root]",
   "language": "python",
   "name": "conda-root-py"
  },
  "language_info": {
   "codemirror_mode": {
    "name": "ipython",
    "version": 2
   },
   "file_extension": ".py",
   "mimetype": "text/x-python",
   "name": "python",
   "nbconvert_exporter": "python",
   "pygments_lexer": "ipython2",
   "version": "2.7.12"
  }
 },
 "nbformat": 4,
 "nbformat_minor": 1
}
