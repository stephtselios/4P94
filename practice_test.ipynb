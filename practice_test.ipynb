{
 "cells": [
  {
   "cell_type": "markdown",
   "metadata": {},
   "source": [
    "pythagorian win\n",
    "salary\n",
    "bayes rule\n",
    "regression"
   ]
  },
  {
   "cell_type": "code",
   "execution_count": 2,
   "metadata": {
    "collapsed": true
   },
   "outputs": [],
   "source": [
    "%matplotlib inline\n",
    "import os\n",
    "import sys\n",
    "import pandas\n",
    "import numpy\n",
    "import matplotlib\n",
    "import matplotlib.pyplot as plt\n",
    "pandas.set_option('display.notebook_repr_html', False)\n",
    "pandas.set_option('display.max_columns', 20)\n",
    "pandas.set_option('display.max_rows', 25)\n",
    "pandas.set_option('precision',2)\n",
    "\n",
    "from decimal import getcontext, Decimal\n",
    "# Set the precision.\n",
    "getcontext().prec = 3"
   ]
  },
  {
   "cell_type": "code",
   "execution_count": 5,
   "metadata": {
    "collapsed": false
   },
   "outputs": [],
   "source": [
    "dm = pandas.read_csv('2010game_physical.csv')"
   ]
  },
  {
   "cell_type": "code",
   "execution_count": 6,
   "metadata": {
    "collapsed": false
   },
   "outputs": [
    {
     "data": {
      "text/plain": [
       "   gamenumber awayTeam  awaySalary  awayAge  awayHeight  awayWeight  \\\n",
       "0       20001      MTL       38.38      501        1313        3695   \n",
       "1       20002      PHI       50.37      498        1317        3669   \n",
       "2       20003      CAR       35.83      471        1315        3574   \n",
       "3       20004      CHI       50.56      462        1326        3700   \n",
       "4       20005      CGY       39.76      505        1331        3726   \n",
       "\n",
       "        awayGoaliue  awayGoals homeTeam  homeSalary  homeAge  homeHeight  \\\n",
       "0       PRICE_CAREY          2      TOR       44.61      471        1312   \n",
       "1  BOBROVSKY_SERGEI          3      PIT       49.19      497        1308   \n",
       "2          WARD_CAM          4      MIN       40.18      503        1321   \n",
       "3       TURCO_MARTY          3      COL       33.75      469        1306   \n",
       "4  KIPRUSOFF_MIIKKA          0      EDM       41.40      458        1324   \n",
       "\n",
       "   homeWeight             homeGoalie  homeGoals winteamcode  \n",
       "0        3715  GIGUERE_JEANSEBASTIEN          3         TOR  \n",
       "1        3611       FLEURY_MARCANDRE          2         PHI  \n",
       "2        3734       BACKSTROM_NIKLAS          3         CAR  \n",
       "3        3627         ANDERSON_CRAIG          4         COL  \n",
       "4        3745     KHABIBULIN_NIKOLAI          4         EDM  "
      ]
     },
     "execution_count": 6,
     "metadata": {},
     "output_type": "execute_result"
    }
   ],
   "source": [
    "dm.head()"
   ]
  },
  {
   "cell_type": "code",
   "execution_count": null,
   "metadata": {
    "collapsed": true
   },
   "outputs": [],
   "source": []
  },
  {
   "cell_type": "code",
   "execution_count": null,
   "metadata": {
    "collapsed": true
   },
   "outputs": [],
   "source": []
  }
 ],
 "metadata": {
  "anaconda-cloud": {},
  "kernelspec": {
   "display_name": "Python [conda root]",
   "language": "python",
   "name": "conda-root-py"
  },
  "language_info": {
   "codemirror_mode": {
    "name": "ipython",
    "version": 2
   },
   "file_extension": ".py",
   "mimetype": "text/x-python",
   "name": "python",
   "nbconvert_exporter": "python",
   "pygments_lexer": "ipython2",
   "version": "2.7.12"
  }
 },
 "nbformat": 4,
 "nbformat_minor": 1
}
