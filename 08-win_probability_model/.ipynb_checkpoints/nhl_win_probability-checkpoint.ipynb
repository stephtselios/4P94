{
 "cells": [
  {
   "cell_type": "markdown",
   "metadata": {},
   "source": [
    "# Objectives\n",
    "\n",
    "* Formalize win probability model\n",
    "* Estimate and predict multinomial logitistic regresison models\n",
    "* Implement Bayes' rule"
   ]
  },
  {
   "cell_type": "markdown",
   "metadata": {},
   "source": [
    "## NHL In-Game Win Probability Model\n",
    "\n",
    "Estimate the following model:\n",
    "    \n",
    "$$ p(hw_g| score_{g,t} ) = \\frac{p(hg_g| score_{g,t} ) p(hw_g)}{ p(score_{g,t} | hw_g) p(hw_g) +  p(score_{g,t} | \\bar{hw_g}) p( \\bar{hw_g}) } $$\n",
    "\n",
    "where,\n",
    "\n",
    "* $(hw_g| score_{g,t})$: posterior probability of a home team win given the score differential game state\n",
    "* $p(hw_g$: prior probability of a home team win\n",
    "* $p(score_{g,t} |hw_g)$ and $p(score_{g,t}  | \\bar{hw_g})$: inverse conditional probabilities"
   ]
  },
  {
   "cell_type": "code",
   "execution_count": 36,
   "metadata": {
    "collapsed": true
   },
   "outputs": [],
   "source": [
    "# modules\n",
    "import sys\n",
    "import os\n",
    "import pandas\n",
    "import numpy\n",
    "import datetime, time\n",
    "import matplotlib.pyplot as plt\n",
    "import statsmodels.api as sm\n",
    "from pylab import hist, show\n",
    "import scipy\n",
    "import statsmodels.api as sm\n",
    "\n",
    "pandas.set_option(\"display.max_rows\", 35)\n",
    "pandas.set_option(\"display.max_columns\", 50)\n",
    "pandas.set_option(\"display.max_colwidth\", 200)\n"
   ]
  },
  {
   "cell_type": "code",
   "execution_count": 37,
   "metadata": {
    "collapsed": true
   },
   "outputs": [],
   "source": [
    "dh = pandas.read_csv('2014Events.csv')"
   ]
  },
  {
   "cell_type": "code",
   "execution_count": 38,
   "metadata": {
    "collapsed": false
   },
   "outputs": [
    {
     "name": "stdout",
     "output_type": "stream",
     "text": [
      "Index([u'gamedate', u'season', u'gamenumber', u'period', u'eventtimefromzero',\n",
      "       u'eventnumber', u'advantagetype', u'teamcode', u'playernumber',\n",
      "       u'isthome', u'name', u'position', u'toirank', u'eventtype', u'zone',\n",
      "       u'tgoals', u'ogoals', u'vteamcode', u'hteamcode', u'winteamcode',\n",
      "       u'isOTWin', u'isSOWin'],\n",
      "      dtype='object')\n",
      "gamedate              object\n",
      "season                 int64\n",
      "gamenumber             int64\n",
      "period                 int64\n",
      "eventtimefromzero      int64\n",
      "eventnumber            int64\n",
      "advantagetype         object\n",
      "teamcode              object\n",
      "playernumber           int64\n",
      "isthome                int64\n",
      "name                  object\n",
      "position              object\n",
      "toirank              float64\n",
      "eventtype             object\n",
      "zone                  object\n",
      "tgoals                 int64\n",
      "ogoals                 int64\n",
      "vteamcode             object\n",
      "hteamcode             object\n",
      "winteamcode           object\n",
      "isOTWin                int64\n",
      "isSOWin                int64\n",
      "dtype: object\n",
      "    gamedate  season  gamenumber  period  eventtimefromzero  eventnumber  \\\n",
      "0  10/8/2014    2014       20001       1                540           60   \n",
      "1  10/8/2014    2014       20001       1                 74            9   \n",
      "2  10/8/2014    2014       20001       2               1127          215   \n",
      "3  10/8/2014    2014       20001       2                835          189   \n",
      "4  10/8/2014    2014       20001       1               1142          109   \n",
      "\n",
      "  advantagetype teamcode  playernumber  isthome           name position  \\\n",
      "0            EV      TOR            51        1  GARDINER_JAKE        D   \n",
      "1            EV      TOR            50        1   PERCY_STUART        D   \n",
      "2            SH      TOR            44        1  RIELLY_MORGAN        D   \n",
      "3            EV      TOR            44        1  RIELLY_MORGAN        D   \n",
      "4            SH      TOR            44        1  RIELLY_MORGAN        D   \n",
      "\n",
      "   toirank eventtype zone  tgoals  ogoals vteamcode hteamcode winteamcode  \\\n",
      "0      4.0     BLOCK    D       1       1       MTL       TOR         MTL   \n",
      "1      2.0     BLOCK    D       0       0       MTL       TOR         MTL   \n",
      "2      5.0     BLOCK    D       2       2       MTL       TOR         MTL   \n",
      "3      5.0     BLOCK    D       2       2       MTL       TOR         MTL   \n",
      "4      5.0     BLOCK    D       1       1       MTL       TOR         MTL   \n",
      "\n",
      "   isOTWin  isSOWin  \n",
      "0        0        0  \n",
      "1        0        0  \n",
      "2        0        0  \n",
      "3        0        0  \n",
      "4        0        0  \n",
      "NYI    11922\n",
      "SJ     11348\n",
      "LA     11264\n",
      "DAL    11241\n",
      "TOR    11187\n",
      "WSH    11135\n",
      "ANA    11128\n",
      "WPG    11114\n",
      "OTT    11028\n",
      "ARI    10908\n",
      "CAR    10869\n",
      "PHI    10799\n",
      "BOS    10787\n",
      "PIT    10745\n",
      "EDM    10435\n",
      "NSH    10407\n",
      "NYR    10372\n",
      "FLA    10344\n",
      "CGY    10340\n",
      "STL    10333\n",
      "CBJ    10327\n",
      "CHI    10320\n",
      "MTL    10304\n",
      "COL    10013\n",
      "TB      9941\n",
      "DET     9802\n",
      "VAN     9672\n",
      "MIN     9615\n",
      "BUF     8872\n",
      "NJ      8746\n",
      "Name: teamcode, dtype: int64\n"
     ]
    }
   ],
   "source": [
    "print dh.columns\n",
    "print  dh.dtypes\n",
    "print  dh.head()\n",
    "print  dh['teamcode'].value_counts()"
   ]
  },
  {
   "cell_type": "code",
   "execution_count": 39,
   "metadata": {
    "collapsed": false
   },
   "outputs": [],
   "source": [
    "dh['secStart'] = ((dh['period']-1)*1200 + dh['eventtimefromzero'])\n",
    "dh = dh.sort_values(by=['season', 'gamenumber', 'secStart'], ascending=[1, 1, 1])\n",
    "dh['minStart'] = (dh['secStart']/60).astype(int)"
   ]
  },
  {
   "cell_type": "code",
   "execution_count": 40,
   "metadata": {
    "collapsed": false
   },
   "outputs": [
    {
     "data": {
      "text/plain": [
       " 0    120943\n",
       " 1     59306\n",
       "-1     54637\n",
       " 2     27469\n",
       "-2     21743\n",
       " 3     12387\n",
       "-3      8195\n",
       " 4      4851\n",
       "-4      2936\n",
       " 5      1592\n",
       "-5       580\n",
       " 6       314\n",
       "-6       288\n",
       "-7        35\n",
       " 7        24\n",
       "-8        18\n",
       "Name: homeSM, dtype: int64"
      ]
     },
     "execution_count": 40,
     "metadata": {},
     "output_type": "execute_result"
    }
   ],
   "source": [
    "# in-game information relative to home team\n",
    "dh['homeScore'] = dh.apply(lambda x: x['tgoals'] if x['isthome'] == 1 else x['ogoals'], axis=1)\n",
    "dh['awayScore'] = dh.apply(lambda x: x['tgoals'] if x['isthome'] == 0 else x['ogoals'], axis=1)\n",
    "dh['homeSM']    = dh['homeScore'] - dh['awayScore']\n",
    "dh['homeWin'] = dh.apply(lambda x: 1 if x['winteamcode'] == x['hteamcode'] else 0, axis=1)\n",
    "dh['homeSM'].value_counts()"
   ]
  },
  {
   "cell_type": "code",
   "execution_count": 41,
   "metadata": {
    "collapsed": false
   },
   "outputs": [
    {
     "data": {
      "text/plain": [
       " 0    215\n",
       " 1    196\n",
       "-1    174\n",
       " 3    138\n",
       " 2    125\n",
       "-2    121\n",
       "-3     95\n",
       " 4     50\n",
       "-4     42\n",
       " 5     26\n",
       "-5      8\n",
       " 6      8\n",
       "-6      2\n",
       "-7      2\n",
       "Name: finalHSM, dtype: int64"
      ]
     },
     "execution_count": 41,
     "metadata": {},
     "output_type": "execute_result"
    }
   ],
   "source": [
    "# get game results\n",
    "df = pandas.DataFrame(dh.groupby(['gamenumber'], axis=0,  as_index=False)['homeSM'].last())\n",
    "df = df.rename(columns={'homeSM' : 'finalHSM'})\n",
    "df['finalHSM'].value_counts()"
   ]
  },
  {
   "cell_type": "code",
   "execution_count": 42,
   "metadata": {
    "collapsed": false
   },
   "outputs": [
    {
     "name": "stdout",
     "output_type": "stream",
     "text": [
      "    gamedate  season  gamenumber  period  eventtimefromzero  eventnumber  \\\n",
      "0  10/8/2014    2014       20001       1                  0            1   \n",
      "1  10/8/2014    2014       20001       1                 19            3   \n",
      "\n",
      "  advantagetype teamcode  playernumber  isthome              name position  \\\n",
      "0           NaN      MTL            51        0  DESHARNAIS_DAVID        C   \n",
      "1            EV      MTL            51        0  DESHARNAIS_DAVID        C   \n",
      "\n",
      "   toirank eventtype zone  tgoals  ogoals vteamcode hteamcode winteamcode  \\\n",
      "0      2.0       FAC    N       0       0       MTL       TOR         MTL   \n",
      "1      2.0      MISS    O       0       0       MTL       TOR         MTL   \n",
      "\n",
      "   isOTWin  isSOWin  secStart  minStart  homeScore  awayScore  homeSM  \\\n",
      "0        0        0         0         0          0          0       0   \n",
      "1        0        0        19         0          0          0       0   \n",
      "\n",
      "   homeWin  finalHSM  \n",
      "0        0        -1  \n",
      "1        0        -1  \n"
     ]
    }
   ],
   "source": [
    "# merge game and game-event data\n",
    "dh = pandas.merge(dh, df, left_on='gamenumber', right_on='gamenumber', how='outer')\n",
    "print dh.head(2)"
   ]
  },
  {
   "cell_type": "code",
   "execution_count": 43,
   "metadata": {
    "collapsed": false
   },
   "outputs": [
    {
     "data": {
      "text/plain": [
       " 0    120943\n",
       " 1     59306\n",
       "-1     54637\n",
       " 2     27469\n",
       "-2     21743\n",
       " 3     12387\n",
       "-3      8195\n",
       " 4      4851\n",
       "-4      2936\n",
       " 5      1592\n",
       "-5       580\n",
       " 6       314\n",
       "-6       288\n",
       "-7        35\n",
       " 7        24\n",
       "-8        18\n",
       "Name: homeSM, dtype: int64"
      ]
     },
     "execution_count": 43,
     "metadata": {},
     "output_type": "execute_result"
    }
   ],
   "source": [
    "# in-game information relative to home team\n",
    "dh['homeScore'] = dh.apply(lambda x: x['tgoals'] if x['isthome'] == 1 else x['ogoals'], axis=1)\n",
    "dh['awayScore'] = dh.apply(lambda x: x['tgoals'] if x['isthome'] == 0 else x['ogoals'], axis=1)\n",
    "dh['homeSM']    = dh['homeScore'] - dh['awayScore']\n",
    "dh['homeWin'] = dh.apply(lambda x: 1 if x['winteamcode'] == x['hteamcode'] else 0, axis=1)\n",
    "dh['homeSM'].value_counts()"
   ]
  },
  {
   "cell_type": "code",
   "execution_count": 44,
   "metadata": {
    "collapsed": false
   },
   "outputs": [
    {
     "name": "stdout",
     "output_type": "stream",
     "text": [
      "         gamenumber      minStart   season        period  eventtimefromzero  \\\n",
      "count  69849.000000  69849.000000  69849.0  69849.000000       69849.000000   \n",
      "mean   20601.655557     29.969090   2014.0      2.014803         592.970651   \n",
      "std      346.832976     17.029419      0.0      0.812536         342.373576   \n",
      "min    20001.000000      1.000000   2014.0      1.000000           0.000000   \n",
      "25%    20301.000000     15.000000   2014.0      1.000000         304.000000   \n",
      "50%    20602.000000     30.000000   2014.0      2.000000         602.000000   \n",
      "75%    20902.000000     45.000000   2014.0      3.000000         901.000000   \n",
      "max    21202.000000     60.000000   2014.0      3.000000        1200.000000   \n",
      "\n",
      "        eventnumber  playernumber       isthome       toirank        tgoals  \\\n",
      "count  69849.000000  69849.000000  69849.000000  69825.000000  69849.000000   \n",
      "mean     159.857922     31.886011      0.525090      4.902041      1.205644   \n",
      "std       90.794071     24.740420      0.499374      3.162821      1.296477   \n",
      "min        3.000000      0.000000      0.000000      1.000000      0.000000   \n",
      "25%       81.000000     14.000000      0.000000           NaN      0.000000   \n",
      "50%      160.000000     23.000000      1.000000           NaN      1.000000   \n",
      "75%      235.000000     46.000000      1.000000           NaN      2.000000   \n",
      "max      411.000000     93.000000      1.000000     13.000000      9.000000   \n",
      "\n",
      "             ogoals       isOTWin       isSOWin      secStart     homeScore  \\\n",
      "count  69849.000000  69849.000000  69849.000000  69849.000000  69849.000000   \n",
      "mean       1.263926      0.110553      0.138069   1810.734685      1.300792   \n",
      "std        1.326289      0.313580      0.344975   1022.349433      1.365922   \n",
      "min        0.000000      0.000000      0.000000     60.000000      0.000000   \n",
      "25%        0.000000      0.000000      0.000000    917.000000      0.000000   \n",
      "50%        1.000000      0.000000      0.000000   1808.000000      1.000000   \n",
      "75%        2.000000      0.000000      0.000000   2703.000000      2.000000   \n",
      "max        9.000000      1.000000      1.000000   3600.000000      8.000000   \n",
      "\n",
      "          awayScore        homeSM       homeWin      finalHSM  \n",
      "count  69849.000000  69849.000000  69849.000000  69849.000000  \n",
      "mean       1.168778      0.132013      0.540509      0.250669  \n",
      "std        1.251853      1.517949      0.498360      2.262046  \n",
      "min        0.000000     -8.000000      0.000000     -7.000000  \n",
      "25%        0.000000     -1.000000      0.000000     -1.000000  \n",
      "50%        1.000000      0.000000      1.000000      0.000000  \n",
      "75%        2.000000      1.000000      1.000000      2.000000  \n",
      "max        9.000000      7.000000      1.000000      6.000000  \n"
     ]
    }
   ],
   "source": [
    "# create game-minute observations\n",
    "dm = pandas.DataFrame(dh.groupby(['gamenumber', 'minStart'], axis=0, as_index=False).first())\n",
    "dm = dm[dm['minStart']!=0]\n",
    "dm = dm[dm['period']<=3]\n",
    "print dm.describe()"
   ]
  },
  {
   "cell_type": "code",
   "execution_count": 45,
   "metadata": {
    "collapsed": false
   },
   "outputs": [
    {
     "name": "stdout",
     "output_type": "stream",
     "text": [
      "['TOR' 'BOS' 'CGY' 'LA' 'BUF' 'PHI' 'PIT' 'WSH' 'DET' 'TB' 'STL' 'NSH'\n",
      " 'DAL' 'MIN' 'EDM' 'ARI' 'CAR' 'FLA' 'NYI' 'CBJ' 'CHI' 'COL' 'VAN' 'SJ'\n",
      " 'NYR' 'MTL' 'OTT' 'WPG' 'ANA' 'NJ']\n"
     ]
    }
   ],
   "source": [
    "\n",
    "# calculate team win percentages by date for game specific priors\n",
    "dr = pandas.DataFrame()\n",
    "ds = dh[['gamedate', 'gamenumber', 'hteamcode', 'vteamcode', 'winteamcode', 'isOTWin', 'isSOWin']].groupby(['gamenumber']).first().reset_index()\n",
    "teamList = ds['hteamcode'].unique()\n",
    "print teamList"
   ]
  },
  {
   "cell_type": "code",
   "execution_count": 46,
   "metadata": {
    "collapsed": false
   },
   "outputs": [
    {
     "name": "stdout",
     "output_type": "stream",
     "text": [
      "completed loop for TOR\n",
      "completed loop for BOS\n",
      "completed loop for CGY\n",
      "completed loop for LA\n",
      "completed loop for BUF\n",
      "completed loop for PHI\n",
      "completed loop for PIT\n",
      "completed loop for WSH\n",
      "completed loop for DET\n",
      "completed loop for TB\n",
      "completed loop for STL\n",
      "completed loop for NSH\n",
      "completed loop for DAL\n",
      "completed loop for MIN\n",
      "completed loop for EDM\n",
      "completed loop for ARI\n",
      "completed loop for CAR\n",
      "completed loop for FLA\n",
      "completed loop for NYI\n",
      "completed loop for CBJ\n",
      "completed loop for CHI\n",
      "completed loop for COL\n",
      "completed loop for VAN\n",
      "completed loop for SJ\n",
      "completed loop for NYR\n",
      "completed loop for MTL\n",
      "completed loop for OTT\n",
      "completed loop for WPG\n",
      "completed loop for ANA\n",
      "completed loop for NJ\n"
     ]
    }
   ],
   "source": [
    "\n",
    "for team in teamList:\n",
    "    du = ds[(ds['hteamcode'] == team) | (ds['vteamcode'] == team)].copy()\n",
    "    du.loc[::,'team'] = team\n",
    "    du.loc[::,'wins']   = du.apply(lambda x: 1 if x['winteamcode'] == team else 0, axis=1).shift(1).cumsum()\n",
    "    du.loc[::,'loss']   = du.apply(lambda x: 1 if x['winteamcode'] != team else 0, axis=1).shift(1).cumsum()\n",
    "    dr = dr.append(du)\n",
    "    print 'completed loop for ' + team\n",
    "dr.loc[::, 'winPer'] = dr['wins'] /(dr['wins'] + dr['loss'])"
   ]
  },
  {
   "cell_type": "code",
   "execution_count": 47,
   "metadata": {
    "collapsed": false
   },
   "outputs": [
    {
     "name": "stdout",
     "output_type": "stream",
     "text": [
      "   gamenumber  minStart   gamedate  season  period  eventtimefromzero  \\\n",
      "0       20001         1  10/8/2014    2014       1                 65   \n",
      "1       20001         2  10/8/2014    2014       1                132   \n",
      "\n",
      "   eventnumber advantagetype teamcode  playernumber  isthome             name  \\\n",
      "0            7            EV      MTL            79        0    MARKOV_ANDREI   \n",
      "1           18            EV      MTL            28        0  BEAULIEU_NATHAN   \n",
      "\n",
      "  position  toirank eventtype zone  tgoals  ogoals vteamcode hteamcode  \\\n",
      "0        D      1.0       HIT    D       0       0       MTL       TOR   \n",
      "1        D      6.0      MISS    O       0       0       MTL       TOR   \n",
      "\n",
      "  winteamcode  isOTWin  isSOWin  secStart  homeScore  awayScore  homeSM  \\\n",
      "0         MTL        0        0        65          0          0       0   \n",
      "1         MTL        0        0       132          0          0       0   \n",
      "\n",
      "   homeWin  finalHSM  homeWinPer  awayWinPer  \n",
      "0        0        -1         NaN         NaN  \n",
      "1        0        -1         NaN         NaN  \n",
      "completed minute-level data\n"
     ]
    }
   ],
   "source": [
    "\n",
    "# merge\n",
    "dr = dr[['gamenumber', 'team', 'winPer']]\n",
    "dm = pandas.merge(dm,dr,left_on=['gamenumber', 'hteamcode'], right_on=['gamenumber', 'team'])\n",
    "dm = dm.rename(columns={'winPer':'homeWinPer'})\n",
    "dm = pandas.merge(dm,dr,left_on=['gamenumber', 'vteamcode'], right_on=['gamenumber', 'team'])\n",
    "dm = dm.rename(columns={'winPer':'awayWinPer'})\n",
    "dm = dm.drop(['team_x', 'team_y'], axis=1)\n",
    "\n",
    "print dm.head(2)\n",
    "print 'completed minute-level data'\n"
   ]
  },
  {
   "cell_type": "code",
   "execution_count": 48,
   "metadata": {
    "collapsed": false
   },
   "outputs": [
    {
     "name": "stdout",
     "output_type": "stream",
     "text": [
      "    trDScLaActu  faDScLaActu\n",
      "0           NaN          NaN\n",
      "1      0.012520    -0.012750\n",
      "2      0.039124    -0.020183\n",
      "3      0.057994    -0.031308\n",
      "4      0.090062    -0.049180\n",
      "5      0.123245    -0.096715\n",
      "6      0.160436    -0.117100\n",
      "7      0.212168    -0.130275\n",
      "8      0.232919    -0.177331\n",
      "9      0.286604    -0.233577\n",
      "10     0.319249    -0.253235\n",
      "11     0.340125    -0.262385\n",
      "12     0.361801    -0.280734\n",
      "13     0.387147    -0.276051\n",
      "14     0.415625    -0.294872\n",
      "15     0.440945    -0.324818\n",
      "16     0.462500    -0.344954\n",
      "..          ...          ...\n",
      "43     1.160126    -1.046211\n",
      "44     1.202194    -1.053704\n",
      "45     1.240945    -1.103512\n",
      "46     1.289100    -1.159259\n",
      "47     1.320312    -1.161111\n",
      "48     1.339036    -1.191882\n",
      "49     1.364207    -1.230483\n",
      "50     1.412975    -1.261993\n",
      "51     1.412598    -1.248134\n",
      "52     1.469579    -1.285714\n",
      "53     1.494488    -1.289425\n",
      "54     1.531981    -1.309963\n",
      "55     1.542320    -1.337711\n",
      "56     1.568075    -1.353704\n",
      "57     1.643533    -1.384899\n",
      "58     1.690738    -1.432781\n",
      "59     1.778481    -1.515539\n",
      "\n",
      "[60 rows x 2 columns]\n"
     ]
    }
   ],
   "source": [
    "### score margin summary analysis\n",
    "ds = pandas.DataFrame()\n",
    "ds['trDScLaActu'] = dm[dm['homeWin']==1].groupby(['minStart'])['homeSM'].agg({'mean' : numpy.mean})\n",
    "ds['faDScLaActu'] = dm[dm['homeWin']==0].groupby(['minStart'])['homeSM'].agg({'mean' : numpy.mean})\n",
    "print ds"
   ]
  },
  {
   "cell_type": "markdown",
   "metadata": {},
   "source": [
    "## plot"
   ]
  },
  {
   "cell_type": "code",
   "execution_count": 49,
   "metadata": {
    "collapsed": true
   },
   "outputs": [],
   "source": [
    "# create index to plot\n",
    "ds = ds.reset_index()\n",
    "ds = ds.rename(columns={'index' : 'minStart'})\n",
    "ds = ds[ds['minStart']!=0]\n",
    "\n",
    "# line plot\n",
    "tempName = 'condLeagueScoreMarginsActu.pdf'\n",
    "tempFile = os.path.join(tempName)\n",
    "\n",
    "fig, ax0 = plt.subplots(facecolor='white')\n",
    "ax0.plot(ds.index, ds['trDScLaActu'], label='Actual'  , marker='', linestyle='-', linewidth=1, color='black')\n",
    "ax0.plot(ds.index, ds['faDScLaActu'], label='', marker='', linestyle='-', linewidth=1, color='black')\n",
    "ax0.set_title('', fontsize=8)\n",
    "ax0.set_xlabel('Minutes from start of game', fontsize=8)\n",
    "ax0.tick_params(axis='both', labelsize=8)\n",
    "ax0.set_ylabel('Home team score-margin', fontsize=8)\n",
    "ax0.set_ylim([-3, 3])\n",
    "ax0.axhline(y=0,xmin=0,xmax=60,c=\"black\",linewidth=1.0, linestyle='-', zorder=0)\n",
    "legend = ax0.legend(loc='lower left', shadow=False, fontsize=8, frameon=False)\n",
    "ax0.text(40,2.5, 'Home team wins', fontsize=10)\n",
    "ax0.text(40,-2.5, 'Home team losses', fontsize=10)\n",
    "fig.suptitle(\"Game progression average score-margins\", fontsize=10)\n",
    "plt.savefig(tempFile)\n",
    "plt.close('all')"
   ]
  },
  {
   "cell_type": "code",
   "execution_count": 50,
   "metadata": {
    "collapsed": true
   },
   "outputs": [],
   "source": [
    "### estimate inverse conditional probabilities; p(HSM|TR)\n",
    "\n",
    "# adjust score margin states\n",
    "dm['homeSM'] = dm.apply(lambda x: 3  if x['homeSM'] > 3 else  x['homeSM'], axis=1)\n",
    "dm['homeSM'] = dm.apply(lambda x: -3 if x['homeSM'] < -3 else x['homeSM'], axis=1)\n",
    "dm['homeSM'].describe()\n",
    "\n",
    "# create win and lose specific data sets\n",
    "dw = dm[dm['homeWin']==1]\n",
    "dl = dm[dm['homeWin']==0]"
   ]
  },
  {
   "cell_type": "code",
   "execution_count": 51,
   "metadata": {
    "collapsed": false
   },
   "outputs": [
    {
     "name": "stdout",
     "output_type": "stream",
     "text": [
      "Optimization terminated successfully.\n",
      "         Current function value: 1.469714\n",
      "         Iterations 9\n",
      "Optimization terminated successfully.\n",
      "         Current function value: 1.432184\n",
      "         Iterations 9\n"
     ]
    },
    {
     "data": {
      "text/html": [
       "<table class=\"simpletable\">\n",
       "<caption>MNLogit Regression Results</caption>\n",
       "<tr>\n",
       "  <th>Dep. Variable:</th>      <td>homeSM</td>      <th>  No. Observations:  </th>  <td> 32095</td> \n",
       "</tr>\n",
       "<tr>\n",
       "  <th>Model:</th>              <td>MNLogit</td>     <th>  Df Residuals:      </th>  <td> 32083</td> \n",
       "</tr>\n",
       "<tr>\n",
       "  <th>Method:</th>               <td>MLE</td>       <th>  Df Model:          </th>  <td>     6</td> \n",
       "</tr>\n",
       "<tr>\n",
       "  <th>Date:</th>          <td>Wed, 15 Mar 2017</td> <th>  Pseudo R-squ.:     </th>  <td>0.05535</td>\n",
       "</tr>\n",
       "<tr>\n",
       "  <th>Time:</th>              <td>13:54:25</td>     <th>  Log-Likelihood:    </th> <td> -45966.</td>\n",
       "</tr>\n",
       "<tr>\n",
       "  <th>converged:</th>           <td>True</td>       <th>  LL-Null:           </th> <td> -48659.</td>\n",
       "</tr>\n",
       "<tr>\n",
       "  <th> </th>                      <td> </td>        <th>  LLR p-value:       </th>  <td> 0.000</td> \n",
       "</tr>\n",
       "</table>\n",
       "<table class=\"simpletable\">\n",
       "<tr>\n",
       "  <th>homeSM=-2</th>    <th>coef</th>     <th>std err</th>      <th>z</th>      <th>P>|z|</th> <th>[95.0% Conf. Int.]</th> \n",
       "</tr>\n",
       "<tr>\n",
       "  <th>const</th>     <td>    1.7614</td> <td>    0.079</td> <td>   22.292</td> <td> 0.000</td> <td>    1.607     1.916</td>\n",
       "</tr>\n",
       "<tr>\n",
       "  <th>minStart</th>  <td>   -0.0314</td> <td>    0.002</td> <td>  -17.600</td> <td> 0.000</td> <td>   -0.035    -0.028</td>\n",
       "</tr>\n",
       "<tr>\n",
       "  <th>homeSM=-1</th>    <th>coef</th>     <th>std err</th>      <th>z</th>      <th>P>|z|</th> <th>[95.0% Conf. Int.]</th> \n",
       "</tr>\n",
       "<tr>\n",
       "  <th>const</th>     <td>    3.1709</td> <td>    0.073</td> <td>   43.550</td> <td> 0.000</td> <td>    3.028     3.314</td>\n",
       "</tr>\n",
       "<tr>\n",
       "  <th>minStart</th>  <td>   -0.0513</td> <td>    0.002</td> <td>  -31.147</td> <td> 0.000</td> <td>   -0.054    -0.048</td>\n",
       "</tr>\n",
       "<tr>\n",
       "  <th>homeSM=0</th>    <th>coef</th>     <th>std err</th>      <th>z</th>      <th>P>|z|</th> <th>[95.0% Conf. Int.]</th> \n",
       "</tr>\n",
       "<tr>\n",
       "  <th>const</th>    <td>    4.4692</td> <td>    0.072</td> <td>   62.268</td> <td> 0.000</td> <td>    4.329     4.610</td>\n",
       "</tr>\n",
       "<tr>\n",
       "  <th>minStart</th> <td>   -0.0870</td> <td>    0.002</td> <td>  -52.279</td> <td> 0.000</td> <td>   -0.090    -0.084</td>\n",
       "</tr>\n",
       "<tr>\n",
       "  <th>homeSM=1</th>    <th>coef</th>     <th>std err</th>      <th>z</th>      <th>P>|z|</th> <th>[95.0% Conf. Int.]</th> \n",
       "</tr>\n",
       "<tr>\n",
       "  <th>const</th>    <td>    2.7866</td> <td>    0.077</td> <td>   36.006</td> <td> 0.000</td> <td>    2.635     2.938</td>\n",
       "</tr>\n",
       "<tr>\n",
       "  <th>minStart</th> <td>   -0.0730</td> <td>    0.002</td> <td>  -38.733</td> <td> 0.000</td> <td>   -0.077    -0.069</td>\n",
       "</tr>\n",
       "<tr>\n",
       "  <th>homeSM=2</th>    <th>coef</th>     <th>std err</th>      <th>z</th>      <th>P>|z|</th> <th>[95.0% Conf. Int.]</th> \n",
       "</tr>\n",
       "<tr>\n",
       "  <th>const</th>    <td>    0.8390</td> <td>    0.111</td> <td>    7.544</td> <td> 0.000</td> <td>    0.621     1.057</td>\n",
       "</tr>\n",
       "<tr>\n",
       "  <th>minStart</th> <td>   -0.0684</td> <td>    0.003</td> <td>  -22.126</td> <td> 0.000</td> <td>   -0.074    -0.062</td>\n",
       "</tr>\n",
       "<tr>\n",
       "  <th>homeSM=3</th>    <th>coef</th>     <th>std err</th>      <th>z</th>      <th>P>|z|</th> <th>[95.0% Conf. Int.]</th> \n",
       "</tr>\n",
       "<tr>\n",
       "  <th>const</th>    <td>   -1.3667</td> <td>    0.261</td> <td>   -5.234</td> <td> 0.000</td> <td>   -1.878    -0.855</td>\n",
       "</tr>\n",
       "<tr>\n",
       "  <th>minStart</th> <td>   -0.0634</td> <td>    0.008</td> <td>   -8.283</td> <td> 0.000</td> <td>   -0.078    -0.048</td>\n",
       "</tr>\n",
       "</table>"
      ],
      "text/plain": [
       "<class 'statsmodels.iolib.summary.Summary'>\n",
       "\"\"\"\n",
       "                          MNLogit Regression Results                          \n",
       "==============================================================================\n",
       "Dep. Variable:                 homeSM   No. Observations:                32095\n",
       "Model:                        MNLogit   Df Residuals:                    32083\n",
       "Method:                           MLE   Df Model:                            6\n",
       "Date:                Wed, 15 Mar 2017   Pseudo R-squ.:                 0.05535\n",
       "Time:                        13:54:25   Log-Likelihood:                -45966.\n",
       "converged:                       True   LL-Null:                       -48659.\n",
       "                                        LLR p-value:                     0.000\n",
       "==============================================================================\n",
       " homeSM=-2       coef    std err          z      P>|z|      [95.0% Conf. Int.]\n",
       "------------------------------------------------------------------------------\n",
       "const          1.7614      0.079     22.292      0.000         1.607     1.916\n",
       "minStart      -0.0314      0.002    -17.600      0.000        -0.035    -0.028\n",
       "------------------------------------------------------------------------------\n",
       " homeSM=-1       coef    std err          z      P>|z|      [95.0% Conf. Int.]\n",
       "------------------------------------------------------------------------------\n",
       "const          3.1709      0.073     43.550      0.000         3.028     3.314\n",
       "minStart      -0.0513      0.002    -31.147      0.000        -0.054    -0.048\n",
       "------------------------------------------------------------------------------\n",
       "  homeSM=0       coef    std err          z      P>|z|      [95.0% Conf. Int.]\n",
       "------------------------------------------------------------------------------\n",
       "const          4.4692      0.072     62.268      0.000         4.329     4.610\n",
       "minStart      -0.0870      0.002    -52.279      0.000        -0.090    -0.084\n",
       "------------------------------------------------------------------------------\n",
       "  homeSM=1       coef    std err          z      P>|z|      [95.0% Conf. Int.]\n",
       "------------------------------------------------------------------------------\n",
       "const          2.7866      0.077     36.006      0.000         2.635     2.938\n",
       "minStart      -0.0730      0.002    -38.733      0.000        -0.077    -0.069\n",
       "------------------------------------------------------------------------------\n",
       "  homeSM=2       coef    std err          z      P>|z|      [95.0% Conf. Int.]\n",
       "------------------------------------------------------------------------------\n",
       "const          0.8390      0.111      7.544      0.000         0.621     1.057\n",
       "minStart      -0.0684      0.003    -22.126      0.000        -0.074    -0.062\n",
       "------------------------------------------------------------------------------\n",
       "  homeSM=3       coef    std err          z      P>|z|      [95.0% Conf. Int.]\n",
       "------------------------------------------------------------------------------\n",
       "const         -1.3667      0.261     -5.234      0.000        -1.878    -0.855\n",
       "minStart      -0.0634      0.008     -8.283      0.000        -0.078    -0.048\n",
       "==============================================================================\n",
       "\"\"\""
      ]
     },
     "execution_count": 51,
     "metadata": {},
     "output_type": "execute_result"
    }
   ],
   "source": [
    "# Multinomial Logitisitc regression\n",
    "trMNL   = sm.MNLogit(dw['homeSM'], sm.add_constant(dw['minStart'])).fit()\n",
    "trMNL.summary()\n",
    "\n",
    "faMNL   = sm.MNLogit(dl['homeSM'], sm.add_constant(dl['minStart'])).fit()\n",
    "faMNL.summary()"
   ]
  },
  {
   "cell_type": "code",
   "execution_count": 52,
   "metadata": {
    "collapsed": true
   },
   "outputs": [],
   "source": [
    "# Predict probabilities of score states\n",
    "de1 = pandas.DataFrame(trMNL.predict(sm.add_constant(dm['minStart'])))\n",
    "de0 = pandas.DataFrame(faMNL.predict(sm.add_constant(dm['minStart'])))\n",
    "de = de1/de0"
   ]
  },
  {
   "cell_type": "code",
   "execution_count": 53,
   "metadata": {
    "collapsed": false
   },
   "outputs": [
    {
     "name": "stdout",
     "output_type": "stream",
     "text": [
      "         -3        -2        -1         0         1         2         3\n",
      "0  0.265551  0.410975  0.540709  0.984085  1.616993  3.317940  6.901401\n",
      "1  0.248733  0.395904  0.532354  0.981979  1.648922  3.433989  7.329717\n",
      "2  0.232966  0.381363  0.524095  0.979816  1.681377  3.553877  7.784132\n",
      "3  0.218184  0.367333  0.515932  0.977598  1.714364  3.677721  8.266202\n",
      "4  0.204327  0.353797  0.507865  0.975322  1.747887  3.805640  8.777573\n"
     ]
    }
   ],
   "source": [
    "# consistent column names with score states\n",
    "de.columns = de.columns - 3\n",
    "print de.head()"
   ]
  },
  {
   "cell_type": "code",
   "execution_count": 54,
   "metadata": {
    "collapsed": true
   },
   "outputs": [],
   "source": [
    "## obtained game-minute specific inverse conditional\n",
    "# create indicator variables\n",
    "dm['d3'] = dm.apply(lambda x: 1 if x['homeSM']==-3 else 0, axis=1)\n",
    "dm['d2'] = dm.apply(lambda x: 1 if x['homeSM']==-2 else 0, axis=1)\n",
    "dm['d1'] = dm.apply(lambda x: 1 if x['homeSM']==-1 else 0, axis=1)\n",
    "dm['ti'] = dm.apply(lambda x: 1 if x['homeSM']==0  else 0, axis=1)\n",
    "dm['u1'] = dm.apply(lambda x: 1 if x['homeSM']==1  else 0, axis=1)\n",
    "dm['u2'] = dm.apply(lambda x: 1 if x['homeSM']==2  else 0, axis=1)\n",
    "dm['u3'] = dm.apply(lambda x: 1 if x['homeSM']==3  else 0, axis=1)"
   ]
  },
  {
   "cell_type": "code",
   "execution_count": 57,
   "metadata": {
    "collapsed": false
   },
   "outputs": [
    {
     "ename": "TypeError",
     "evalue": "'Index' object is not callable",
     "output_type": "error",
     "traceback": [
      "\u001b[0;31m\u001b[0m",
      "\u001b[0;31mTypeError\u001b[0mTraceback (most recent call last)",
      "\u001b[0;32m<ipython-input-57-afd248e94f4d>\u001b[0m in \u001b[0;36m<module>\u001b[0;34m()\u001b[0m\n\u001b[1;32m      2\u001b[0m \u001b[0mdm\u001b[0m\u001b[0;34m[\u001b[0m\u001b[0;34m'priorProb'\u001b[0m\u001b[0;34m]\u001b[0m     \u001b[0;34m=\u001b[0m \u001b[0;34m(\u001b[0m\u001b[0mdm\u001b[0m\u001b[0;34m[\u001b[0m\u001b[0;34m'homeWinPer'\u001b[0m\u001b[0;34m]\u001b[0m \u001b[0;34m/\u001b[0m \u001b[0;34m(\u001b[0m\u001b[0mdm\u001b[0m\u001b[0;34m[\u001b[0m\u001b[0;34m'homeWinPer'\u001b[0m\u001b[0;34m]\u001b[0m \u001b[0;34m+\u001b[0m \u001b[0mdm\u001b[0m\u001b[0;34m[\u001b[0m\u001b[0;34m'awayWinPer'\u001b[0m\u001b[0;34m]\u001b[0m\u001b[0;34m)\u001b[0m\u001b[0;34m)\u001b[0m\u001b[0;34m.\u001b[0m\u001b[0mfillna\u001b[0m\u001b[0;34m(\u001b[0m\u001b[0;36m0.5\u001b[0m\u001b[0;34m)\u001b[0m\u001b[0;34m\u001b[0m\u001b[0m\n\u001b[1;32m      3\u001b[0m \u001b[0mdm\u001b[0m\u001b[0;34m[\u001b[0m\u001b[0;34m'priorOdds'\u001b[0m\u001b[0;34m]\u001b[0m     \u001b[0;34m=\u001b[0m \u001b[0;34m(\u001b[0m\u001b[0mdm\u001b[0m\u001b[0;34m[\u001b[0m\u001b[0;34m'homeWinPer'\u001b[0m\u001b[0;34m]\u001b[0m \u001b[0;34m/\u001b[0m \u001b[0mdm\u001b[0m\u001b[0;34m[\u001b[0m\u001b[0;34m'awayWinPer'\u001b[0m\u001b[0;34m]\u001b[0m\u001b[0;34m)\u001b[0m\u001b[0;34m.\u001b[0m\u001b[0mfillna\u001b[0m\u001b[0;34m(\u001b[0m\u001b[0;36m1.0\u001b[0m\u001b[0;34m)\u001b[0m\u001b[0;34m\u001b[0m\u001b[0m\n\u001b[0;32m----> 4\u001b[0;31m \u001b[0;32mprint\u001b[0m \u001b[0mdm\u001b[0m\u001b[0;34m.\u001b[0m\u001b[0mcolumns\u001b[0m\u001b[0;34m(\u001b[0m\u001b[0;34m)\u001b[0m\u001b[0;34m\u001b[0m\u001b[0m\n\u001b[0m",
      "\u001b[0;31mTypeError\u001b[0m: 'Index' object is not callable"
     ]
    }
   ],
   "source": [
    "# set prior odds and probabilities\n",
    "dm['priorProb']     = (dm['homeWinPer'] / (dm['homeWinPer'] + dm['awayWinPer'])).fillna(0.5)\n",
    "dm['priorOdds']     = (dm['homeWinPer'] / dm['awayWinPer']).fillna(1.0)\n",
    "print dm.columns()"
   ]
  },
  {
   "cell_type": "code",
   "execution_count": 56,
   "metadata": {
    "collapsed": false
   },
   "outputs": [
    {
     "ename": "KeyError",
     "evalue": "'invCond'",
     "output_type": "error",
     "traceback": [
      "\u001b[0;31m\u001b[0m",
      "\u001b[0;31mKeyError\u001b[0mTraceback (most recent call last)",
      "\u001b[0;32m<ipython-input-56-fdec6e8219bc>\u001b[0m in \u001b[0;36m<module>\u001b[0;34m()\u001b[0m\n\u001b[1;32m      1\u001b[0m \u001b[0;31m## calculate posterior odds and probabilities (Bayes Rule)\u001b[0m\u001b[0;34m\u001b[0m\u001b[0;34m\u001b[0m\u001b[0m\n\u001b[0;32m----> 2\u001b[0;31m \u001b[0mdm\u001b[0m\u001b[0;34m[\u001b[0m\u001b[0;34m'postOdds'\u001b[0m\u001b[0;34m]\u001b[0m      \u001b[0;34m=\u001b[0m  \u001b[0mdm\u001b[0m\u001b[0;34m[\u001b[0m\u001b[0;34m'priorOdds'\u001b[0m\u001b[0;34m]\u001b[0m \u001b[0;34m*\u001b[0m \u001b[0mdm\u001b[0m\u001b[0;34m[\u001b[0m\u001b[0;34m'invCond'\u001b[0m\u001b[0;34m]\u001b[0m\u001b[0;34m\u001b[0m\u001b[0m\n\u001b[0m\u001b[1;32m      3\u001b[0m \u001b[0mdm\u001b[0m\u001b[0;34m[\u001b[0m\u001b[0;34m'postProb'\u001b[0m\u001b[0;34m]\u001b[0m      \u001b[0;34m=\u001b[0m  \u001b[0mdm\u001b[0m\u001b[0;34m[\u001b[0m\u001b[0;34m'postOdds'\u001b[0m\u001b[0;34m]\u001b[0m \u001b[0;34m/\u001b[0m \u001b[0;34m(\u001b[0m\u001b[0;36m1\u001b[0m \u001b[0;34m+\u001b[0m \u001b[0mdm\u001b[0m\u001b[0;34m[\u001b[0m\u001b[0;34m'postOdds'\u001b[0m\u001b[0;34m]\u001b[0m\u001b[0;34m)\u001b[0m\u001b[0;34m\u001b[0m\u001b[0m\n",
      "\u001b[0;32m/home/vmuser/anaconda2/lib/python2.7/site-packages/pandas/core/frame.pyc\u001b[0m in \u001b[0;36m__getitem__\u001b[0;34m(self, key)\u001b[0m\n\u001b[1;32m   1995\u001b[0m             \u001b[0;32mreturn\u001b[0m \u001b[0mself\u001b[0m\u001b[0;34m.\u001b[0m\u001b[0m_getitem_multilevel\u001b[0m\u001b[0;34m(\u001b[0m\u001b[0mkey\u001b[0m\u001b[0;34m)\u001b[0m\u001b[0;34m\u001b[0m\u001b[0m\n\u001b[1;32m   1996\u001b[0m         \u001b[0;32melse\u001b[0m\u001b[0;34m:\u001b[0m\u001b[0;34m\u001b[0m\u001b[0m\n\u001b[0;32m-> 1997\u001b[0;31m             \u001b[0;32mreturn\u001b[0m \u001b[0mself\u001b[0m\u001b[0;34m.\u001b[0m\u001b[0m_getitem_column\u001b[0m\u001b[0;34m(\u001b[0m\u001b[0mkey\u001b[0m\u001b[0;34m)\u001b[0m\u001b[0;34m\u001b[0m\u001b[0m\n\u001b[0m\u001b[1;32m   1998\u001b[0m \u001b[0;34m\u001b[0m\u001b[0m\n\u001b[1;32m   1999\u001b[0m     \u001b[0;32mdef\u001b[0m \u001b[0m_getitem_column\u001b[0m\u001b[0;34m(\u001b[0m\u001b[0mself\u001b[0m\u001b[0;34m,\u001b[0m \u001b[0mkey\u001b[0m\u001b[0;34m)\u001b[0m\u001b[0;34m:\u001b[0m\u001b[0;34m\u001b[0m\u001b[0m\n",
      "\u001b[0;32m/home/vmuser/anaconda2/lib/python2.7/site-packages/pandas/core/frame.pyc\u001b[0m in \u001b[0;36m_getitem_column\u001b[0;34m(self, key)\u001b[0m\n\u001b[1;32m   2002\u001b[0m         \u001b[0;31m# get column\u001b[0m\u001b[0;34m\u001b[0m\u001b[0;34m\u001b[0m\u001b[0m\n\u001b[1;32m   2003\u001b[0m         \u001b[0;32mif\u001b[0m \u001b[0mself\u001b[0m\u001b[0;34m.\u001b[0m\u001b[0mcolumns\u001b[0m\u001b[0;34m.\u001b[0m\u001b[0mis_unique\u001b[0m\u001b[0;34m:\u001b[0m\u001b[0;34m\u001b[0m\u001b[0m\n\u001b[0;32m-> 2004\u001b[0;31m             \u001b[0;32mreturn\u001b[0m \u001b[0mself\u001b[0m\u001b[0;34m.\u001b[0m\u001b[0m_get_item_cache\u001b[0m\u001b[0;34m(\u001b[0m\u001b[0mkey\u001b[0m\u001b[0;34m)\u001b[0m\u001b[0;34m\u001b[0m\u001b[0m\n\u001b[0m\u001b[1;32m   2005\u001b[0m \u001b[0;34m\u001b[0m\u001b[0m\n\u001b[1;32m   2006\u001b[0m         \u001b[0;31m# duplicate columns & possible reduce dimensionality\u001b[0m\u001b[0;34m\u001b[0m\u001b[0;34m\u001b[0m\u001b[0m\n",
      "\u001b[0;32m/home/vmuser/anaconda2/lib/python2.7/site-packages/pandas/core/generic.pyc\u001b[0m in \u001b[0;36m_get_item_cache\u001b[0;34m(self, item)\u001b[0m\n\u001b[1;32m   1348\u001b[0m         \u001b[0mres\u001b[0m \u001b[0;34m=\u001b[0m \u001b[0mcache\u001b[0m\u001b[0;34m.\u001b[0m\u001b[0mget\u001b[0m\u001b[0;34m(\u001b[0m\u001b[0mitem\u001b[0m\u001b[0;34m)\u001b[0m\u001b[0;34m\u001b[0m\u001b[0m\n\u001b[1;32m   1349\u001b[0m         \u001b[0;32mif\u001b[0m \u001b[0mres\u001b[0m \u001b[0;32mis\u001b[0m \u001b[0mNone\u001b[0m\u001b[0;34m:\u001b[0m\u001b[0;34m\u001b[0m\u001b[0m\n\u001b[0;32m-> 1350\u001b[0;31m             \u001b[0mvalues\u001b[0m \u001b[0;34m=\u001b[0m \u001b[0mself\u001b[0m\u001b[0;34m.\u001b[0m\u001b[0m_data\u001b[0m\u001b[0;34m.\u001b[0m\u001b[0mget\u001b[0m\u001b[0;34m(\u001b[0m\u001b[0mitem\u001b[0m\u001b[0;34m)\u001b[0m\u001b[0;34m\u001b[0m\u001b[0m\n\u001b[0m\u001b[1;32m   1351\u001b[0m             \u001b[0mres\u001b[0m \u001b[0;34m=\u001b[0m \u001b[0mself\u001b[0m\u001b[0;34m.\u001b[0m\u001b[0m_box_item_values\u001b[0m\u001b[0;34m(\u001b[0m\u001b[0mitem\u001b[0m\u001b[0;34m,\u001b[0m \u001b[0mvalues\u001b[0m\u001b[0;34m)\u001b[0m\u001b[0;34m\u001b[0m\u001b[0m\n\u001b[1;32m   1352\u001b[0m             \u001b[0mcache\u001b[0m\u001b[0;34m[\u001b[0m\u001b[0mitem\u001b[0m\u001b[0;34m]\u001b[0m \u001b[0;34m=\u001b[0m \u001b[0mres\u001b[0m\u001b[0;34m\u001b[0m\u001b[0m\n",
      "\u001b[0;32m/home/vmuser/anaconda2/lib/python2.7/site-packages/pandas/core/internals.pyc\u001b[0m in \u001b[0;36mget\u001b[0;34m(self, item, fastpath)\u001b[0m\n\u001b[1;32m   3288\u001b[0m \u001b[0;34m\u001b[0m\u001b[0m\n\u001b[1;32m   3289\u001b[0m             \u001b[0;32mif\u001b[0m \u001b[0;32mnot\u001b[0m \u001b[0misnull\u001b[0m\u001b[0;34m(\u001b[0m\u001b[0mitem\u001b[0m\u001b[0;34m)\u001b[0m\u001b[0;34m:\u001b[0m\u001b[0;34m\u001b[0m\u001b[0m\n\u001b[0;32m-> 3290\u001b[0;31m                 \u001b[0mloc\u001b[0m \u001b[0;34m=\u001b[0m \u001b[0mself\u001b[0m\u001b[0;34m.\u001b[0m\u001b[0mitems\u001b[0m\u001b[0;34m.\u001b[0m\u001b[0mget_loc\u001b[0m\u001b[0;34m(\u001b[0m\u001b[0mitem\u001b[0m\u001b[0;34m)\u001b[0m\u001b[0;34m\u001b[0m\u001b[0m\n\u001b[0m\u001b[1;32m   3291\u001b[0m             \u001b[0;32melse\u001b[0m\u001b[0;34m:\u001b[0m\u001b[0;34m\u001b[0m\u001b[0m\n\u001b[1;32m   3292\u001b[0m                 \u001b[0mindexer\u001b[0m \u001b[0;34m=\u001b[0m \u001b[0mnp\u001b[0m\u001b[0;34m.\u001b[0m\u001b[0marange\u001b[0m\u001b[0;34m(\u001b[0m\u001b[0mlen\u001b[0m\u001b[0;34m(\u001b[0m\u001b[0mself\u001b[0m\u001b[0;34m.\u001b[0m\u001b[0mitems\u001b[0m\u001b[0;34m)\u001b[0m\u001b[0;34m)\u001b[0m\u001b[0;34m[\u001b[0m\u001b[0misnull\u001b[0m\u001b[0;34m(\u001b[0m\u001b[0mself\u001b[0m\u001b[0;34m.\u001b[0m\u001b[0mitems\u001b[0m\u001b[0;34m)\u001b[0m\u001b[0;34m]\u001b[0m\u001b[0;34m\u001b[0m\u001b[0m\n",
      "\u001b[0;32m/home/vmuser/anaconda2/lib/python2.7/site-packages/pandas/indexes/base.pyc\u001b[0m in \u001b[0;36mget_loc\u001b[0;34m(self, key, method, tolerance)\u001b[0m\n\u001b[1;32m   1945\u001b[0m                 \u001b[0;32mreturn\u001b[0m \u001b[0mself\u001b[0m\u001b[0;34m.\u001b[0m\u001b[0m_engine\u001b[0m\u001b[0;34m.\u001b[0m\u001b[0mget_loc\u001b[0m\u001b[0;34m(\u001b[0m\u001b[0mkey\u001b[0m\u001b[0;34m)\u001b[0m\u001b[0;34m\u001b[0m\u001b[0m\n\u001b[1;32m   1946\u001b[0m             \u001b[0;32mexcept\u001b[0m \u001b[0mKeyError\u001b[0m\u001b[0;34m:\u001b[0m\u001b[0;34m\u001b[0m\u001b[0m\n\u001b[0;32m-> 1947\u001b[0;31m                 \u001b[0;32mreturn\u001b[0m \u001b[0mself\u001b[0m\u001b[0;34m.\u001b[0m\u001b[0m_engine\u001b[0m\u001b[0;34m.\u001b[0m\u001b[0mget_loc\u001b[0m\u001b[0;34m(\u001b[0m\u001b[0mself\u001b[0m\u001b[0;34m.\u001b[0m\u001b[0m_maybe_cast_indexer\u001b[0m\u001b[0;34m(\u001b[0m\u001b[0mkey\u001b[0m\u001b[0;34m)\u001b[0m\u001b[0;34m)\u001b[0m\u001b[0;34m\u001b[0m\u001b[0m\n\u001b[0m\u001b[1;32m   1948\u001b[0m \u001b[0;34m\u001b[0m\u001b[0m\n\u001b[1;32m   1949\u001b[0m         \u001b[0mindexer\u001b[0m \u001b[0;34m=\u001b[0m \u001b[0mself\u001b[0m\u001b[0;34m.\u001b[0m\u001b[0mget_indexer\u001b[0m\u001b[0;34m(\u001b[0m\u001b[0;34m[\u001b[0m\u001b[0mkey\u001b[0m\u001b[0;34m]\u001b[0m\u001b[0;34m,\u001b[0m \u001b[0mmethod\u001b[0m\u001b[0;34m=\u001b[0m\u001b[0mmethod\u001b[0m\u001b[0;34m,\u001b[0m \u001b[0mtolerance\u001b[0m\u001b[0;34m=\u001b[0m\u001b[0mtolerance\u001b[0m\u001b[0;34m)\u001b[0m\u001b[0;34m\u001b[0m\u001b[0m\n",
      "\u001b[0;32mpandas/index.pyx\u001b[0m in \u001b[0;36mpandas.index.IndexEngine.get_loc (pandas/index.c:4154)\u001b[0;34m()\u001b[0m\n",
      "\u001b[0;32mpandas/index.pyx\u001b[0m in \u001b[0;36mpandas.index.IndexEngine.get_loc (pandas/index.c:4018)\u001b[0;34m()\u001b[0m\n",
      "\u001b[0;32mpandas/hashtable.pyx\u001b[0m in \u001b[0;36mpandas.hashtable.PyObjectHashTable.get_item (pandas/hashtable.c:12368)\u001b[0;34m()\u001b[0m\n",
      "\u001b[0;32mpandas/hashtable.pyx\u001b[0m in \u001b[0;36mpandas.hashtable.PyObjectHashTable.get_item (pandas/hashtable.c:12322)\u001b[0;34m()\u001b[0m\n",
      "\u001b[0;31mKeyError\u001b[0m: 'invCond'"
     ]
    }
   ],
   "source": [
    "## calculate posterior odds and probabilities (Bayes Rule)\n",
    "dm['postOdds']      =  dm['priorOdds'] * dm['invCond']\n",
    "dm['postProb']      =  dm['postOdds'] / (1 + dm['postOdds'])"
   ]
  },
  {
   "cell_type": "code",
   "execution_count": null,
   "metadata": {
    "collapsed": true
   },
   "outputs": [],
   "source": [
    "## game-specific plot of in-game win probabilities\n",
    "# set gamenumber\n",
    "d1 = dm[dm['gamenumber']==20800]\n",
    "len(d1)\n",
    "print d1[['gamenumber', 'minStart', 'homeSM', 'priorProb', 'postProb' ]]"
   ]
  },
  {
   "cell_type": "code",
   "execution_count": null,
   "metadata": {
    "collapsed": true
   },
   "outputs": [],
   "source": [
    "print \"date, away team, home team\"\n",
    "print d1.iloc[0]['gamedate']\n",
    "print d1.iloc[0]['vteamcode']\n",
    "print d1.iloc[0]['hteamcode']"
   ]
  },
  {
   "cell_type": "code",
   "execution_count": null,
   "metadata": {
    "collapsed": true
   },
   "outputs": [],
   "source": [
    "# plot parameters\n",
    "plt.rc('axes', grid=False)\n",
    "\n",
    "width = 0.001\n",
    "space = width + 0.10\n",
    "left, width = 0.1, 0.8\n",
    "rect1 = [left, 0.4, width, 0.5]\n",
    "rect2 = [left, 0.1, width, 0.2]\n",
    "\n",
    "fig = plt.figure(facecolor='white')\n",
    "ax1 = fig.add_axes(rect1, axisbg='w')\n",
    "ax2 = fig.add_axes(rect2, axisbg='w', sharex=ax1)\n",
    "ax1.tick_params(axis='y', labelsize=8)\n",
    "ax1.tick_params(axis='x', labelsize=8)\n",
    "ax2.tick_params(axis='y', labelsize=8)\n",
    "ax2.tick_params(axis='x', labelsize=8)\n",
    "ax1.set_ylim([0,1])\n",
    "ax2.set_ylim([-5,5])\n",
    "ax1.set_xlim([0,60])\n",
    "\n",
    "\n",
    "# ig.suptitle(gameTitle, fontsize=12)\n",
    "ax1.set_title(\"Game progression win probabilities\", fontsize=12)\n",
    "ax1.set_ylabel('Home team win probability', fontsize=8)\n",
    "ax2.set_title('Game state information', fontsize=10, multialignment='center')\n",
    "ax2.set_ylabel('Home team score-margin', fontsize=8, multialignment='center')\n",
    "ax2.set_xlabel('Minutes from start of the game.', fontsize=8)\n",
    "\n",
    "# plot lines\n",
    "ax1.plot(d1['minStart'], d1['postProb']  , marker='', linestyle='-' , linewidth=2, color='black',  label='Home team win probability')\n",
    "\n",
    "ax1.axhline(y=.5 ,c=\"black\",linewidth=0.25, linestyle='--', zorder=0)\n",
    "ax2.bar(d1['minStart'] , d1['homeSM'], width=width, color='black', edgecolor='black', linestyle='solid', linewidth=0.5)\n",
    "legend = ax1.legend(loc='lower left', shadow=False, fontsize=6, frameon=False)\n",
    "\n",
    "# save figure\n",
    "plt.savefig(\"gn500.pdf\", format='pdf')\n",
    "plt.close('all')\n",
    "print 'completed plot'\n"
   ]
  },
  {
   "cell_type": "code",
   "execution_count": null,
   "metadata": {
    "collapsed": true
   },
   "outputs": [],
   "source": []
  },
  {
   "cell_type": "code",
   "execution_count": null,
   "metadata": {
    "collapsed": true
   },
   "outputs": [],
   "source": []
  },
  {
   "cell_type": "code",
   "execution_count": null,
   "metadata": {
    "collapsed": true
   },
   "outputs": [],
   "source": []
  },
  {
   "cell_type": "code",
   "execution_count": null,
   "metadata": {
    "collapsed": true
   },
   "outputs": [],
   "source": []
  },
  {
   "cell_type": "code",
   "execution_count": null,
   "metadata": {
    "collapsed": true
   },
   "outputs": [],
   "source": []
  }
 ],
 "metadata": {
  "anaconda-cloud": {},
  "kernelspec": {
   "display_name": "Python [conda root]",
   "language": "python",
   "name": "conda-root-py"
  },
  "language_info": {
   "codemirror_mode": {
    "name": "ipython",
    "version": 2
   },
   "file_extension": ".py",
   "mimetype": "text/x-python",
   "name": "python",
   "nbconvert_exporter": "python",
   "pygments_lexer": "ipython2",
   "version": "2.7.12"
  }
 },
 "nbformat": 4,
 "nbformat_minor": 2
}
