{
 "cells": [
  {
   "cell_type": "markdown",
   "metadata": {},
   "source": [
    "# Objectives\n",
    "\n",
    "* Formalize win probability model\n",
    "* Estimate and predict multinomial logitistic regresison models\n",
    "* Implement Bayes' rule"
   ]
  },
  {
   "cell_type": "markdown",
   "metadata": {},
   "source": [
    "## NHL In-Game Win Probability Model\n",
    "\n",
    "Estimate the following model:\n",
    "    \n",
    "$$ p(hw_g| score_{g,t} ) = \\frac{p(hg_g| score_{g,t} ) p(hw_g)}{ p(score_{g,t} | hw_g) p(hw_g) +  p(score_{g,t} | \\bar{hw_g}) p( \\bar{hw_g}) } $$\n",
    "\n",
    "where,\n",
    "\n",
    "* $(hw_g| score_{g,t})$: posterior probability of a home team win given the score differential game state\n",
    "* $p(hw_g$: prior probability of a home team win\n",
    "* $p(score_{g,t} |hw_g)$ and $p(score_{g,t}  | \\bar{hw_g})$: inverse conditional probabilities"
   ]
  },
  {
   "cell_type": "code",
   "execution_count": 116,
   "metadata": {
    "collapsed": true
   },
   "outputs": [],
   "source": [
    "# modules\n",
    "import sys\n",
    "import os\n",
    "import pandas\n",
    "import numpy\n",
    "import datetime, time\n",
    "import matplotlib.pyplot as plt\n",
    "import statsmodels.api as sm\n",
    "from pylab import hist, show\n",
    "import scipy\n",
    "import statsmodels.api as sm\n",
    "\n",
    "pandas.set_option(\"display.max_rows\", 35)\n",
    "pandas.set_option(\"display.max_columns\", 50)\n",
    "pandas.set_option(\"display.max_colwidth\", 200)"
   ]
  },
  {
   "cell_type": "code",
   "execution_count": 117,
   "metadata": {
    "collapsed": false
   },
   "outputs": [],
   "source": [
    "dh = pandas.read_csv('2014Events.csv')\n",
    "# smaller development dataframe to decrease execution time\n",
    "#dh = dh[dh['gamenumber']<=20200]\n"
   ]
  },
  {
   "cell_type": "code",
   "execution_count": 118,
   "metadata": {
    "collapsed": false
   },
   "outputs": [
    {
     "name": "stdout",
     "output_type": "stream",
     "text": [
      "315318\n",
      "Index([u'gamedate', u'season', u'gamenumber', u'period', u'eventtimefromzero',\n",
      "       u'eventnumber', u'advantagetype', u'teamcode', u'playernumber',\n",
      "       u'isthome', u'name', u'position', u'toirank', u'eventtype', u'zone',\n",
      "       u'tgoals', u'ogoals', u'vteamcode', u'hteamcode', u'winteamcode',\n",
      "       u'isOTWin', u'isSOWin'],\n",
      "      dtype='object')\n",
      "gamedate              object\n",
      "season                 int64\n",
      "gamenumber             int64\n",
      "period                 int64\n",
      "eventtimefromzero      int64\n",
      "eventnumber            int64\n",
      "advantagetype         object\n",
      "teamcode              object\n",
      "playernumber           int64\n",
      "isthome                int64\n",
      "name                  object\n",
      "position              object\n",
      "toirank              float64\n",
      "eventtype             object\n",
      "zone                  object\n",
      "tgoals                 int64\n",
      "ogoals                 int64\n",
      "vteamcode             object\n",
      "hteamcode             object\n",
      "winteamcode           object\n",
      "isOTWin                int64\n",
      "isSOWin                int64\n",
      "dtype: object\n",
      "    gamedate  season  gamenumber  period  eventtimefromzero  eventnumber  \\\n",
      "0  10/8/2014    2014       20001       1                540           60   \n",
      "1  10/8/2014    2014       20001       1                 74            9   \n",
      "2  10/8/2014    2014       20001       2               1127          215   \n",
      "3  10/8/2014    2014       20001       2                835          189   \n",
      "4  10/8/2014    2014       20001       1               1142          109   \n",
      "\n",
      "  advantagetype teamcode  playernumber  isthome           name position  \\\n",
      "0            EV      TOR            51        1  GARDINER_JAKE        D   \n",
      "1            EV      TOR            50        1   PERCY_STUART        D   \n",
      "2            SH      TOR            44        1  RIELLY_MORGAN        D   \n",
      "3            EV      TOR            44        1  RIELLY_MORGAN        D   \n",
      "4            SH      TOR            44        1  RIELLY_MORGAN        D   \n",
      "\n",
      "   toirank eventtype zone  tgoals  ogoals vteamcode hteamcode winteamcode  \\\n",
      "0      4.0     BLOCK    D       1       1       MTL       TOR         MTL   \n",
      "1      2.0     BLOCK    D       0       0       MTL       TOR         MTL   \n",
      "2      5.0     BLOCK    D       2       2       MTL       TOR         MTL   \n",
      "3      5.0     BLOCK    D       2       2       MTL       TOR         MTL   \n",
      "4      5.0     BLOCK    D       1       1       MTL       TOR         MTL   \n",
      "\n",
      "   isOTWin  isSOWin  \n",
      "0        0        0  \n",
      "1        0        0  \n",
      "2        0        0  \n",
      "3        0        0  \n",
      "4        0        0  \n",
      "NYI    11922\n",
      "SJ     11348\n",
      "LA     11264\n",
      "DAL    11241\n",
      "TOR    11187\n",
      "WSH    11135\n",
      "ANA    11128\n",
      "WPG    11114\n",
      "OTT    11028\n",
      "ARI    10908\n",
      "CAR    10869\n",
      "PHI    10799\n",
      "BOS    10787\n",
      "PIT    10745\n",
      "EDM    10435\n",
      "NSH    10407\n",
      "NYR    10372\n",
      "FLA    10344\n",
      "CGY    10340\n",
      "STL    10333\n",
      "CBJ    10327\n",
      "CHI    10320\n",
      "MTL    10304\n",
      "COL    10013\n",
      "TB      9941\n",
      "DET     9802\n",
      "VAN     9672\n",
      "MIN     9615\n",
      "BUF     8872\n",
      "NJ      8746\n",
      "Name: teamcode, dtype: int64\n"
     ]
    }
   ],
   "source": [
    "print len(dh)\n",
    "print dh.columns\n",
    "print dh.dtypes\n",
    "print dh.head()\n",
    "print dh['teamcode'].value_counts()"
   ]
  },
  {
   "cell_type": "code",
   "execution_count": 119,
   "metadata": {
    "collapsed": false
   },
   "outputs": [],
   "source": [
    "dh['secStart'] = ((dh['period']-1)*1200 + dh['eventtimefromzero'])\n",
    "dh = dh.sort_values(by=['season', 'gamenumber', 'secStart'], ascending=[1, 1, 1])\n",
    "dh['minStart'] = (dh['secStart']/60).astype(int)"
   ]
  },
  {
   "cell_type": "code",
   "execution_count": 120,
   "metadata": {
    "collapsed": false
   },
   "outputs": [
    {
     "data": {
      "text/plain": [
       " 0    120943\n",
       " 1     59306\n",
       "-1     54637\n",
       " 2     27469\n",
       "-2     21743\n",
       " 3     12387\n",
       "-3      8195\n",
       " 4      4851\n",
       "-4      2936\n",
       " 5      1592\n",
       "-5       580\n",
       " 6       314\n",
       "-6       288\n",
       "-7        35\n",
       " 7        24\n",
       "-8        18\n",
       "Name: homeSM, dtype: int64"
      ]
     },
     "execution_count": 120,
     "metadata": {},
     "output_type": "execute_result"
    }
   ],
   "source": [
    "# in-game information relative to home team\n",
    "dh['homeScore'] = dh.apply(lambda x: x['tgoals'] if x['isthome'] == 1 else x['ogoals'], axis=1)\n",
    "dh['awayScore'] = dh.apply(lambda x: x['tgoals'] if x['isthome'] == 0 else x['ogoals'], axis=1)\n",
    "dh['homeSM']    = dh['homeScore'] - dh['awayScore']\n",
    "dh['homeWin'] = dh.apply(lambda x: 1 if x['winteamcode'] == x['hteamcode'] else 0, axis=1)\n",
    "dh['homeSM'].value_counts()"
   ]
  },
  {
   "cell_type": "code",
   "execution_count": 121,
   "metadata": {
    "collapsed": false
   },
   "outputs": [
    {
     "data": {
      "text/plain": [
       " 0    215\n",
       " 1    196\n",
       "-1    174\n",
       " 3    138\n",
       " 2    125\n",
       "-2    121\n",
       "-3     95\n",
       " 4     50\n",
       "-4     42\n",
       " 5     26\n",
       "-5      8\n",
       " 6      8\n",
       "-6      2\n",
       "-7      2\n",
       "Name: finalHSM, dtype: int64"
      ]
     },
     "execution_count": 121,
     "metadata": {},
     "output_type": "execute_result"
    }
   ],
   "source": [
    "# get game results\n",
    "df = pandas.DataFrame(dh.groupby(['gamenumber'], axis=0,  as_index=False)['homeSM'].last())\n",
    "df = df.rename(columns={'homeSM' : 'finalHSM'})\n",
    "df['finalHSM'].value_counts()"
   ]
  },
  {
   "cell_type": "code",
   "execution_count": 122,
   "metadata": {
    "collapsed": false
   },
   "outputs": [
    {
     "name": "stdout",
     "output_type": "stream",
     "text": [
      "    gamedate  season  gamenumber  period  eventtimefromzero  eventnumber  \\\n",
      "0  10/8/2014    2014       20001       1                  0            1   \n",
      "1  10/8/2014    2014       20001       1                 19            3   \n",
      "\n",
      "  advantagetype teamcode  playernumber  isthome              name position  \\\n",
      "0           NaN      MTL            51        0  DESHARNAIS_DAVID        C   \n",
      "1            EV      MTL            51        0  DESHARNAIS_DAVID        C   \n",
      "\n",
      "   toirank eventtype zone  tgoals  ogoals vteamcode hteamcode winteamcode  \\\n",
      "0      2.0       FAC    N       0       0       MTL       TOR         MTL   \n",
      "1      2.0      MISS    O       0       0       MTL       TOR         MTL   \n",
      "\n",
      "   isOTWin  isSOWin  secStart  minStart  homeScore  awayScore  homeSM  \\\n",
      "0        0        0         0         0          0          0       0   \n",
      "1        0        0        19         0          0          0       0   \n",
      "\n",
      "   homeWin  finalHSM  \n",
      "0        0        -1  \n",
      "1        0        -1  \n"
     ]
    }
   ],
   "source": [
    "# merge game and game-event data\n",
    "dh = pandas.merge(dh, df, left_on='gamenumber', right_on='gamenumber', how='outer')\n",
    "print dh.head(2)"
   ]
  },
  {
   "cell_type": "code",
   "execution_count": 123,
   "metadata": {
    "collapsed": false
   },
   "outputs": [
    {
     "data": {
      "text/plain": [
       " 0    120943\n",
       " 1     59306\n",
       "-1     54637\n",
       " 2     27469\n",
       "-2     21743\n",
       " 3     12387\n",
       "-3      8195\n",
       " 4      4851\n",
       "-4      2936\n",
       " 5      1592\n",
       "-5       580\n",
       " 6       314\n",
       "-6       288\n",
       "-7        35\n",
       " 7        24\n",
       "-8        18\n",
       "Name: homeSM, dtype: int64"
      ]
     },
     "execution_count": 123,
     "metadata": {},
     "output_type": "execute_result"
    }
   ],
   "source": [
    "# in-game information relative to home team\n",
    "dh['homeScore'] = dh.apply(lambda x: x['tgoals'] if x['isthome'] == 1 else x['ogoals'], axis=1)\n",
    "dh['awayScore'] = dh.apply(lambda x: x['tgoals'] if x['isthome'] == 0 else x['ogoals'], axis=1)\n",
    "dh['homeSM']    = dh['homeScore'] - dh['awayScore']\n",
    "dh['homeWin'] = dh.apply(lambda x: 1 if x['winteamcode'] == x['hteamcode'] else 0, axis=1)\n",
    "dh['homeSM'].value_counts()"
   ]
  },
  {
   "cell_type": "code",
   "execution_count": 124,
   "metadata": {
    "collapsed": false
   },
   "outputs": [],
   "source": [
    "# create game-minute observations\n",
    "dm = pandas.DataFrame(dh.groupby(['gamenumber', 'minStart'], axis=0, as_index=False).first())\n",
    "dm = dm[dm['minStart']!=0]\n",
    "dm = dm[dm['period']<=3]"
   ]
  },
  {
   "cell_type": "code",
   "execution_count": 125,
   "metadata": {
    "collapsed": false
   },
   "outputs": [
    {
     "name": "stdout",
     "output_type": "stream",
     "text": [
      "['TOR' 'BOS' 'CGY' 'LA' 'BUF' 'PHI' 'PIT' 'WSH' 'DET' 'TB' 'STL' 'NSH'\n",
      " 'DAL' 'MIN' 'EDM' 'ARI' 'CAR' 'FLA' 'NYI' 'CBJ' 'CHI' 'COL' 'VAN' 'SJ'\n",
      " 'NYR' 'MTL' 'OTT' 'WPG' 'ANA' 'NJ']\n"
     ]
    }
   ],
   "source": [
    "# calculate team win percentages by date for game specific priors\n",
    "dr = pandas.DataFrame()\n",
    "ds = dh[['gamedate', 'gamenumber', 'hteamcode', 'vteamcode', 'winteamcode', 'isOTWin', 'isSOWin']].groupby(['gamenumber']).first().reset_index()\n",
    "teamList = ds['hteamcode'].unique()\n",
    "print teamList"
   ]
  },
  {
   "cell_type": "code",
   "execution_count": 126,
   "metadata": {
    "collapsed": false
   },
   "outputs": [
    {
     "name": "stdout",
     "output_type": "stream",
     "text": [
      "completed loop for TOR\n",
      "completed loop for BOS\n",
      "completed loop for CGY\n",
      "completed loop for LA\n",
      "completed loop for BUF\n",
      "completed loop for PHI\n",
      "completed loop for PIT\n",
      "completed loop for WSH\n",
      "completed loop for DET\n",
      "completed loop for TB\n",
      "completed loop for STL\n",
      "completed loop for NSH\n",
      "completed loop for DAL\n",
      "completed loop for MIN\n",
      "completed loop for EDM\n",
      "completed loop for ARI\n",
      "completed loop for CAR\n",
      "completed loop for FLA\n",
      "completed loop for NYI\n",
      "completed loop for CBJ\n",
      "completed loop for CHI\n",
      "completed loop for COL\n",
      "completed loop for VAN\n",
      "completed loop for SJ\n",
      "completed loop for NYR\n",
      "completed loop for MTL\n",
      "completed loop for OTT\n",
      "completed loop for WPG\n",
      "completed loop for ANA\n",
      "completed loop for NJ\n"
     ]
    }
   ],
   "source": [
    "# for loop to calu\n",
    "for team in teamList:\n",
    "    du = ds[(ds['hteamcode'] == team) | (ds['vteamcode'] == team)].copy()\n",
    "    du.loc[::,'team'] = team\n",
    "    du.loc[::,'wins']   = du.apply(lambda x: 1 if x['winteamcode'] == team else 0, axis=1).shift(1).cumsum()\n",
    "    du.loc[::,'loss']   = du.apply(lambda x: 1 if x['winteamcode'] != team else 0, axis=1).shift(1).cumsum()\n",
    "    dr = dr.append(du)\n",
    "    print 'completed loop for ' + team\n",
    "dr.loc[::, 'winPer'] = dr['wins'] /(dr['wins'] + dr['loss'])"
   ]
  },
  {
   "cell_type": "code",
   "execution_count": 127,
   "metadata": {
    "collapsed": false
   },
   "outputs": [
    {
     "name": "stdout",
     "output_type": "stream",
     "text": [
      "   gamenumber  minStart   gamedate  season  period  eventtimefromzero  \\\n",
      "0       20001         1  10/8/2014    2014       1                 65   \n",
      "1       20001         2  10/8/2014    2014       1                132   \n",
      "\n",
      "   eventnumber advantagetype teamcode  playernumber  isthome             name  \\\n",
      "0            7            EV      MTL            79        0    MARKOV_ANDREI   \n",
      "1           18            EV      MTL            28        0  BEAULIEU_NATHAN   \n",
      "\n",
      "  position  toirank eventtype zone  tgoals  ogoals vteamcode hteamcode  \\\n",
      "0        D      1.0       HIT    D       0       0       MTL       TOR   \n",
      "1        D      6.0      MISS    O       0       0       MTL       TOR   \n",
      "\n",
      "  winteamcode  isOTWin  isSOWin  secStart  homeScore  awayScore  homeSM  \\\n",
      "0         MTL        0        0        65          0          0       0   \n",
      "1         MTL        0        0       132          0          0       0   \n",
      "\n",
      "   homeWin  finalHSM  homeWinPer  awayWinPer  \n",
      "0        0        -1         NaN         NaN  \n",
      "1        0        -1         NaN         NaN  \n"
     ]
    }
   ],
   "source": [
    "# merge \n",
    "dr = dr[['gamenumber', 'team', 'winPer']]\n",
    "dm = pandas.merge(dm,dr,left_on=['gamenumber', 'hteamcode'], right_on=['gamenumber', 'team'])\n",
    "dm = dm.rename(columns={'winPer':'homeWinPer'})\n",
    "dm = pandas.merge(dm,dr,left_on=['gamenumber', 'vteamcode'], right_on=['gamenumber', 'team'])\n",
    "dm = dm.rename(columns={'winPer':'awayWinPer'})\n",
    "dm = dm.drop(['team_x', 'team_y'], axis=1)\n",
    "\n",
    "print dm.head(2)\n",
    "# completed minute-level data'"
   ]
  },
  {
   "cell_type": "code",
   "execution_count": 128,
   "metadata": {
    "collapsed": false
   },
   "outputs": [
    {
     "name": "stdout",
     "output_type": "stream",
     "text": [
      "    trDScLaActu  faDScLaActu\n",
      "0           NaN          NaN\n",
      "1      0.012520    -0.012750\n",
      "2      0.039124    -0.020183\n",
      "3      0.057994    -0.031308\n",
      "4      0.090062    -0.049180\n",
      "5      0.123245    -0.096715\n",
      "6      0.160436    -0.117100\n",
      "7      0.212168    -0.130275\n",
      "8      0.232919    -0.177331\n",
      "9      0.286604    -0.233577\n",
      "10     0.319249    -0.253235\n",
      "11     0.340125    -0.262385\n",
      "12     0.361801    -0.280734\n",
      "13     0.387147    -0.276051\n",
      "14     0.415625    -0.294872\n",
      "15     0.440945    -0.324818\n",
      "16     0.462500    -0.344954\n",
      "..          ...          ...\n",
      "43     1.160126    -1.046211\n",
      "44     1.202194    -1.053704\n",
      "45     1.240945    -1.103512\n",
      "46     1.289100    -1.159259\n",
      "47     1.320312    -1.161111\n",
      "48     1.339036    -1.191882\n",
      "49     1.364207    -1.230483\n",
      "50     1.412975    -1.261993\n",
      "51     1.412598    -1.248134\n",
      "52     1.469579    -1.285714\n",
      "53     1.494488    -1.289425\n",
      "54     1.531981    -1.309963\n",
      "55     1.542320    -1.337711\n",
      "56     1.568075    -1.353704\n",
      "57     1.643533    -1.384899\n",
      "58     1.690738    -1.432781\n",
      "59     1.778481    -1.515539\n",
      "\n",
      "[60 rows x 2 columns]\n"
     ]
    }
   ],
   "source": [
    "### score margin summary analysis\n",
    "ds = pandas.DataFrame()\n",
    "ds['trDScLaActu'] = dm[dm['homeWin']==1].groupby(['minStart'])['homeSM'].agg({'mean' : numpy.mean})\n",
    "ds['faDScLaActu'] = dm[dm['homeWin']==0].groupby(['minStart'])['homeSM'].agg({'mean' : numpy.mean})\n",
    "print ds"
   ]
  },
  {
   "cell_type": "markdown",
   "metadata": {},
   "source": [
    "## plot"
   ]
  },
  {
   "cell_type": "code",
   "execution_count": 129,
   "metadata": {
    "collapsed": false
   },
   "outputs": [
    {
     "data": {
      "image/png": "[encoded data removed]",
      "text/plain": [
       "<matplotlib.figure.Figure at 0x7f0539ce19d0>"
      ]
     },
     "metadata": {},
     "output_type": "display_data"
    }
   ],
   "source": [
    "# create index to plot\n",
    "ds = ds.reset_index()\n",
    "ds = ds.rename(columns={'index' : 'minStart'})\n",
    "ds = ds[ds['minStart']!=0]\n",
    "\n",
    "# line plot\n",
    "tempName = 'condLeagueScoreMarginsActu.pdf'\n",
    "tempFile = os.path.join(tempName)\n",
    "\n",
    "fig, ax0 = plt.subplots(facecolor='white')\n",
    "ax0.plot(ds.index, ds['trDScLaActu'], label='Actual'  , marker='', linestyle='-', linewidth=1, color='black')\n",
    "ax0.plot(ds.index, ds['faDScLaActu'], label='', marker='', linestyle='-', linewidth=1, color='black')\n",
    "ax0.set_title('', fontsize=8)\n",
    "ax0.set_xlabel('Minutes from start of game', fontsize=8)\n",
    "ax0.tick_params(axis='both', labelsize=8)\n",
    "ax0.set_ylabel('Home team score-margin', fontsize=8)\n",
    "ax0.set_ylim([-3, 3])\n",
    "ax0.axhline(y=0,xmin=0,xmax=60,c=\"black\",linewidth=1.0, linestyle='-', zorder=0)\n",
    "legend = ax0.legend(loc='lower left', shadow=False, fontsize=8, frameon=False)\n",
    "ax0.text(40,2.5, 'Home team wins', fontsize=10)\n",
    "ax0.text(40,-2.5, 'Home team losses', fontsize=10)\n",
    "fig.suptitle(\"Game progression average score-margins\", fontsize=10)\n",
    "plt.savefig(tempFile)\n",
    "#plt.close('all')\n",
    "plt.show()"
   ]
  },
  {
   "cell_type": "code",
   "execution_count": 130,
   "metadata": {
    "collapsed": true
   },
   "outputs": [],
   "source": [
    "### estimate inverse conditional probabilities; p(HSM|TR)\n",
    "\n",
    "# adjust score margin states\n",
    "dm['homeSM'] = dm.apply(lambda x: 3  if x['homeSM'] > 3 else  x['homeSM'], axis=1)\n",
    "dm['homeSM'] = dm.apply(lambda x: -3 if x['homeSM'] < -3 else x['homeSM'], axis=1)\n",
    "dm['homeSM'].describe()\n",
    "\n",
    "# create win and lose specific data sets\n",
    "dw = dm[dm['homeWin']==1]\n",
    "dl = dm[dm['homeWin']==0]"
   ]
  },
  {
   "cell_type": "code",
   "execution_count": 131,
   "metadata": {
    "collapsed": false
   },
   "outputs": [
    {
     "name": "stdout",
     "output_type": "stream",
     "text": [
      "Optimization terminated successfully.\n",
      "         Current function value: 1.469714\n",
      "         Iterations 9\n",
      "Optimization terminated successfully.\n",
      "         Current function value: 1.432184\n",
      "         Iterations 9\n"
     ]
    },
    {
     "data": {
      "text/html": [
       "<table class=\"simpletable\">\n",
       "<caption>MNLogit Regression Results</caption>\n",
       "<tr>\n",
       "  <th>Dep. Variable:</th>      <td>homeSM</td>      <th>  No. Observations:  </th>  <td> 32095</td> \n",
       "</tr>\n",
       "<tr>\n",
       "  <th>Model:</th>              <td>MNLogit</td>     <th>  Df Residuals:      </th>  <td> 32083</td> \n",
       "</tr>\n",
       "<tr>\n",
       "  <th>Method:</th>               <td>MLE</td>       <th>  Df Model:          </th>  <td>     6</td> \n",
       "</tr>\n",
       "<tr>\n",
       "  <th>Date:</th>          <td>Wed, 15 Mar 2017</td> <th>  Pseudo R-squ.:     </th>  <td>0.05535</td>\n",
       "</tr>\n",
       "<tr>\n",
       "  <th>Time:</th>              <td>14:36:36</td>     <th>  Log-Likelihood:    </th> <td> -45966.</td>\n",
       "</tr>\n",
       "<tr>\n",
       "  <th>converged:</th>           <td>True</td>       <th>  LL-Null:           </th> <td> -48659.</td>\n",
       "</tr>\n",
       "<tr>\n",
       "  <th> </th>                      <td> </td>        <th>  LLR p-value:       </th>  <td> 0.000</td> \n",
       "</tr>\n",
       "</table>\n",
       "<table class=\"simpletable\">\n",
       "<tr>\n",
       "  <th>homeSM=-2</th>    <th>coef</th>     <th>std err</th>      <th>z</th>      <th>P>|z|</th> <th>[95.0% Conf. Int.]</th> \n",
       "</tr>\n",
       "<tr>\n",
       "  <th>const</th>     <td>    1.7614</td> <td>    0.079</td> <td>   22.292</td> <td> 0.000</td> <td>    1.607     1.916</td>\n",
       "</tr>\n",
       "<tr>\n",
       "  <th>minStart</th>  <td>   -0.0314</td> <td>    0.002</td> <td>  -17.600</td> <td> 0.000</td> <td>   -0.035    -0.028</td>\n",
       "</tr>\n",
       "<tr>\n",
       "  <th>homeSM=-1</th>    <th>coef</th>     <th>std err</th>      <th>z</th>      <th>P>|z|</th> <th>[95.0% Conf. Int.]</th> \n",
       "</tr>\n",
       "<tr>\n",
       "  <th>const</th>     <td>    3.1709</td> <td>    0.073</td> <td>   43.550</td> <td> 0.000</td> <td>    3.028     3.314</td>\n",
       "</tr>\n",
       "<tr>\n",
       "  <th>minStart</th>  <td>   -0.0513</td> <td>    0.002</td> <td>  -31.147</td> <td> 0.000</td> <td>   -0.054    -0.048</td>\n",
       "</tr>\n",
       "<tr>\n",
       "  <th>homeSM=0</th>    <th>coef</th>     <th>std err</th>      <th>z</th>      <th>P>|z|</th> <th>[95.0% Conf. Int.]</th> \n",
       "</tr>\n",
       "<tr>\n",
       "  <th>const</th>    <td>    4.4692</td> <td>    0.072</td> <td>   62.268</td> <td> 0.000</td> <td>    4.329     4.610</td>\n",
       "</tr>\n",
       "<tr>\n",
       "  <th>minStart</th> <td>   -0.0870</td> <td>    0.002</td> <td>  -52.279</td> <td> 0.000</td> <td>   -0.090    -0.084</td>\n",
       "</tr>\n",
       "<tr>\n",
       "  <th>homeSM=1</th>    <th>coef</th>     <th>std err</th>      <th>z</th>      <th>P>|z|</th> <th>[95.0% Conf. Int.]</th> \n",
       "</tr>\n",
       "<tr>\n",
       "  <th>const</th>    <td>    2.7866</td> <td>    0.077</td> <td>   36.006</td> <td> 0.000</td> <td>    2.635     2.938</td>\n",
       "</tr>\n",
       "<tr>\n",
       "  <th>minStart</th> <td>   -0.0730</td> <td>    0.002</td> <td>  -38.733</td> <td> 0.000</td> <td>   -0.077    -0.069</td>\n",
       "</tr>\n",
       "<tr>\n",
       "  <th>homeSM=2</th>    <th>coef</th>     <th>std err</th>      <th>z</th>      <th>P>|z|</th> <th>[95.0% Conf. Int.]</th> \n",
       "</tr>\n",
       "<tr>\n",
       "  <th>const</th>    <td>    0.8390</td> <td>    0.111</td> <td>    7.544</td> <td> 0.000</td> <td>    0.621     1.057</td>\n",
       "</tr>\n",
       "<tr>\n",
       "  <th>minStart</th> <td>   -0.0684</td> <td>    0.003</td> <td>  -22.126</td> <td> 0.000</td> <td>   -0.074    -0.062</td>\n",
       "</tr>\n",
       "<tr>\n",
       "  <th>homeSM=3</th>    <th>coef</th>     <th>std err</th>      <th>z</th>      <th>P>|z|</th> <th>[95.0% Conf. Int.]</th> \n",
       "</tr>\n",
       "<tr>\n",
       "  <th>const</th>    <td>   -1.3667</td> <td>    0.261</td> <td>   -5.234</td> <td> 0.000</td> <td>   -1.878    -0.855</td>\n",
       "</tr>\n",
       "<tr>\n",
       "  <th>minStart</th> <td>   -0.0634</td> <td>    0.008</td> <td>   -8.283</td> <td> 0.000</td> <td>   -0.078    -0.048</td>\n",
       "</tr>\n",
       "</table>"
      ],
      "text/plain": [
       "<class 'statsmodels.iolib.summary.Summary'>\n",
       "\"\"\"\n",
       "                          MNLogit Regression Results                          \n",
       "==============================================================================\n",
       "Dep. Variable:                 homeSM   No. Observations:                32095\n",
       "Model:                        MNLogit   Df Residuals:                    32083\n",
       "Method:                           MLE   Df Model:                            6\n",
       "Date:                Wed, 15 Mar 2017   Pseudo R-squ.:                 0.05535\n",
       "Time:                        14:36:36   Log-Likelihood:                -45966.\n",
       "converged:                       True   LL-Null:                       -48659.\n",
       "                                        LLR p-value:                     0.000\n",
       "==============================================================================\n",
       " homeSM=-2       coef    std err          z      P>|z|      [95.0% Conf. Int.]\n",
       "------------------------------------------------------------------------------\n",
       "const          1.7614      0.079     22.292      0.000         1.607     1.916\n",
       "minStart      -0.0314      0.002    -17.600      0.000        -0.035    -0.028\n",
       "------------------------------------------------------------------------------\n",
       " homeSM=-1       coef    std err          z      P>|z|      [95.0% Conf. Int.]\n",
       "------------------------------------------------------------------------------\n",
       "const          3.1709      0.073     43.550      0.000         3.028     3.314\n",
       "minStart      -0.0513      0.002    -31.147      0.000        -0.054    -0.048\n",
       "------------------------------------------------------------------------------\n",
       "  homeSM=0       coef    std err          z      P>|z|      [95.0% Conf. Int.]\n",
       "------------------------------------------------------------------------------\n",
       "const          4.4692      0.072     62.268      0.000         4.329     4.610\n",
       "minStart      -0.0870      0.002    -52.279      0.000        -0.090    -0.084\n",
       "------------------------------------------------------------------------------\n",
       "  homeSM=1       coef    std err          z      P>|z|      [95.0% Conf. Int.]\n",
       "------------------------------------------------------------------------------\n",
       "const          2.7866      0.077     36.006      0.000         2.635     2.938\n",
       "minStart      -0.0730      0.002    -38.733      0.000        -0.077    -0.069\n",
       "------------------------------------------------------------------------------\n",
       "  homeSM=2       coef    std err          z      P>|z|      [95.0% Conf. Int.]\n",
       "------------------------------------------------------------------------------\n",
       "const          0.8390      0.111      7.544      0.000         0.621     1.057\n",
       "minStart      -0.0684      0.003    -22.126      0.000        -0.074    -0.062\n",
       "------------------------------------------------------------------------------\n",
       "  homeSM=3       coef    std err          z      P>|z|      [95.0% Conf. Int.]\n",
       "------------------------------------------------------------------------------\n",
       "const         -1.3667      0.261     -5.234      0.000        -1.878    -0.855\n",
       "minStart      -0.0634      0.008     -8.283      0.000        -0.078    -0.048\n",
       "==============================================================================\n",
       "\"\"\""
      ]
     },
     "execution_count": 131,
     "metadata": {},
     "output_type": "execute_result"
    }
   ],
   "source": [
    "# Multinomial Logitisitc regression\n",
    "trMNL   = sm.MNLogit(dw['homeSM'], sm.add_constant(dw['minStart'])).fit()\n",
    "trMNL.summary()\n",
    "\n",
    "faMNL   = sm.MNLogit(dl['homeSM'], sm.add_constant(dl['minStart'])).fit()\n",
    "faMNL.summary()"
   ]
  },
  {
   "cell_type": "code",
   "execution_count": 132,
   "metadata": {
    "collapsed": true
   },
   "outputs": [],
   "source": [
    "# Predict probabilities of score states\n",
    "de1 = pandas.DataFrame(trMNL.predict(sm.add_constant(dm['minStart'])))\n",
    "de0 = pandas.DataFrame(faMNL.predict(sm.add_constant(dm['minStart'])))\n",
    "de = de1/de0"
   ]
  },
  {
   "cell_type": "code",
   "execution_count": 133,
   "metadata": {
    "collapsed": false
   },
   "outputs": [
    {
     "name": "stdout",
     "output_type": "stream",
     "text": [
      "         -3        -2        -1         0         1         2         3\n",
      "0  0.265551  0.410975  0.540709  0.984085  1.616993  3.317940  6.901401\n",
      "1  0.248733  0.395904  0.532354  0.981979  1.648922  3.433989  7.329717\n",
      "2  0.232966  0.381363  0.524095  0.979816  1.681377  3.553877  7.784132\n",
      "3  0.218184  0.367333  0.515932  0.977598  1.714364  3.677721  8.266202\n",
      "4  0.204327  0.353797  0.507865  0.975322  1.747887  3.805640  8.777573\n"
     ]
    }
   ],
   "source": [
    "# change column names to be consistent with score states\n",
    "de.columns = de.columns - 3\n",
    "print de.head()"
   ]
  },
  {
   "cell_type": "code",
   "execution_count": 134,
   "metadata": {
    "collapsed": true
   },
   "outputs": [],
   "source": [
    "# merge inverse conditional data frames\n",
    "dm = pandas.merge(dm, de, left_index=True,right_index=True)"
   ]
  },
  {
   "cell_type": "code",
   "execution_count": 135,
   "metadata": {
    "collapsed": true
   },
   "outputs": [],
   "source": [
    "## obtained game-minute specific inverse conditional\n",
    "# create indicator variables\n",
    "dm['d3'] = dm.apply(lambda x: 1 if x['homeSM']==-3 else 0, axis=1)\n",
    "dm['d2'] = dm.apply(lambda x: 1 if x['homeSM']==-2 else 0, axis=1)\n",
    "dm['d1'] = dm.apply(lambda x: 1 if x['homeSM']==-1 else 0, axis=1)\n",
    "dm['ti'] = dm.apply(lambda x: 1 if x['homeSM']==0  else 0, axis=1)\n",
    "dm['u1'] = dm.apply(lambda x: 1 if x['homeSM']==1  else 0, axis=1)\n",
    "dm['u2'] = dm.apply(lambda x: 1 if x['homeSM']==2  else 0, axis=1)\n",
    "dm['u3'] = dm.apply(lambda x: 1 if x['homeSM']==3  else 0, axis=1)\n",
    "\n",
    "# multiple inverse conditionals and indicators\n",
    "dm['invCond']      = dm['d3']*dm[-3] + dm['d2']*dm[-2] + dm['d1']*dm[-1] + dm['ti']*dm[0] + dm['u1']*dm[1] + dm['u2']*dm[2] + dm['u3']*dm[3]"
   ]
  },
  {
   "cell_type": "code",
   "execution_count": 136,
   "metadata": {
    "collapsed": false
   },
   "outputs": [],
   "source": [
    "# set prior odds and probabilities\n",
    "dm['priorProb']     = (dm['homeWinPer'] / (dm['homeWinPer'] + dm['awayWinPer'])).fillna(0.5)\n",
    "dm['priorOdds']     = (dm['homeWinPer'] / dm['awayWinPer']).fillna(1.0)"
   ]
  },
  {
   "cell_type": "code",
   "execution_count": 137,
   "metadata": {
    "collapsed": false
   },
   "outputs": [
    {
     "data": {
      "text/html": [
       "<div>\n",
       "<table border=\"1\" class=\"dataframe\">\n",
       "  <thead>\n",
       "    <tr style=\"text-align: right;\">\n",
       "      <th></th>\n",
       "      <th>gamenumber</th>\n",
       "      <th>minStart</th>\n",
       "      <th>gamedate</th>\n",
       "      <th>season</th>\n",
       "      <th>period</th>\n",
       "      <th>eventtimefromzero</th>\n",
       "      <th>eventnumber</th>\n",
       "      <th>advantagetype</th>\n",
       "      <th>teamcode</th>\n",
       "      <th>playernumber</th>\n",
       "      <th>isthome</th>\n",
       "      <th>name</th>\n",
       "      <th>position</th>\n",
       "      <th>toirank</th>\n",
       "      <th>eventtype</th>\n",
       "      <th>zone</th>\n",
       "      <th>tgoals</th>\n",
       "      <th>ogoals</th>\n",
       "      <th>vteamcode</th>\n",
       "      <th>hteamcode</th>\n",
       "      <th>winteamcode</th>\n",
       "      <th>isOTWin</th>\n",
       "      <th>isSOWin</th>\n",
       "      <th>secStart</th>\n",
       "      <th>homeScore</th>\n",
       "      <th>awayScore</th>\n",
       "      <th>homeSM</th>\n",
       "      <th>homeWin</th>\n",
       "      <th>finalHSM</th>\n",
       "      <th>homeWinPer</th>\n",
       "      <th>awayWinPer</th>\n",
       "      <th>-3</th>\n",
       "      <th>-2</th>\n",
       "      <th>-1</th>\n",
       "      <th>0</th>\n",
       "      <th>1</th>\n",
       "      <th>2</th>\n",
       "      <th>3</th>\n",
       "      <th>d3</th>\n",
       "      <th>d2</th>\n",
       "      <th>d1</th>\n",
       "      <th>ti</th>\n",
       "      <th>u1</th>\n",
       "      <th>u2</th>\n",
       "      <th>u3</th>\n",
       "      <th>invCond</th>\n",
       "      <th>priorProb</th>\n",
       "      <th>priorOdds</th>\n",
       "    </tr>\n",
       "  </thead>\n",
       "  <tbody>\n",
       "    <tr>\n",
       "      <th>0</th>\n",
       "      <td>20001</td>\n",
       "      <td>1</td>\n",
       "      <td>10/8/2014</td>\n",
       "      <td>2014</td>\n",
       "      <td>1</td>\n",
       "      <td>65</td>\n",
       "      <td>7</td>\n",
       "      <td>EV</td>\n",
       "      <td>MTL</td>\n",
       "      <td>79</td>\n",
       "      <td>0</td>\n",
       "      <td>MARKOV_ANDREI</td>\n",
       "      <td>D</td>\n",
       "      <td>1.0</td>\n",
       "      <td>HIT</td>\n",
       "      <td>D</td>\n",
       "      <td>0</td>\n",
       "      <td>0</td>\n",
       "      <td>MTL</td>\n",
       "      <td>TOR</td>\n",
       "      <td>MTL</td>\n",
       "      <td>0</td>\n",
       "      <td>0</td>\n",
       "      <td>65</td>\n",
       "      <td>0</td>\n",
       "      <td>0</td>\n",
       "      <td>0</td>\n",
       "      <td>0</td>\n",
       "      <td>-1</td>\n",
       "      <td>NaN</td>\n",
       "      <td>NaN</td>\n",
       "      <td>0.265551</td>\n",
       "      <td>0.410975</td>\n",
       "      <td>0.540709</td>\n",
       "      <td>0.984085</td>\n",
       "      <td>1.616993</td>\n",
       "      <td>3.317940</td>\n",
       "      <td>6.901401</td>\n",
       "      <td>0</td>\n",
       "      <td>0</td>\n",
       "      <td>0</td>\n",
       "      <td>1</td>\n",
       "      <td>0</td>\n",
       "      <td>0</td>\n",
       "      <td>0</td>\n",
       "      <td>0.984085</td>\n",
       "      <td>0.5</td>\n",
       "      <td>1.0</td>\n",
       "    </tr>\n",
       "    <tr>\n",
       "      <th>1</th>\n",
       "      <td>20001</td>\n",
       "      <td>2</td>\n",
       "      <td>10/8/2014</td>\n",
       "      <td>2014</td>\n",
       "      <td>1</td>\n",
       "      <td>132</td>\n",
       "      <td>18</td>\n",
       "      <td>EV</td>\n",
       "      <td>MTL</td>\n",
       "      <td>28</td>\n",
       "      <td>0</td>\n",
       "      <td>BEAULIEU_NATHAN</td>\n",
       "      <td>D</td>\n",
       "      <td>6.0</td>\n",
       "      <td>MISS</td>\n",
       "      <td>O</td>\n",
       "      <td>0</td>\n",
       "      <td>0</td>\n",
       "      <td>MTL</td>\n",
       "      <td>TOR</td>\n",
       "      <td>MTL</td>\n",
       "      <td>0</td>\n",
       "      <td>0</td>\n",
       "      <td>132</td>\n",
       "      <td>0</td>\n",
       "      <td>0</td>\n",
       "      <td>0</td>\n",
       "      <td>0</td>\n",
       "      <td>-1</td>\n",
       "      <td>NaN</td>\n",
       "      <td>NaN</td>\n",
       "      <td>0.248733</td>\n",
       "      <td>0.395904</td>\n",
       "      <td>0.532354</td>\n",
       "      <td>0.981979</td>\n",
       "      <td>1.648922</td>\n",
       "      <td>3.433989</td>\n",
       "      <td>7.329717</td>\n",
       "      <td>0</td>\n",
       "      <td>0</td>\n",
       "      <td>0</td>\n",
       "      <td>1</td>\n",
       "      <td>0</td>\n",
       "      <td>0</td>\n",
       "      <td>0</td>\n",
       "      <td>0.981979</td>\n",
       "      <td>0.5</td>\n",
       "      <td>1.0</td>\n",
       "    </tr>\n",
       "  </tbody>\n",
       "</table>\n",
       "</div>"
      ],
      "text/plain": [
       "   gamenumber  minStart   gamedate  season  period  eventtimefromzero  \\\n",
       "0       20001         1  10/8/2014    2014       1                 65   \n",
       "1       20001         2  10/8/2014    2014       1                132   \n",
       "\n",
       "   eventnumber advantagetype teamcode  playernumber  isthome             name  \\\n",
       "0            7            EV      MTL            79        0    MARKOV_ANDREI   \n",
       "1           18            EV      MTL            28        0  BEAULIEU_NATHAN   \n",
       "\n",
       "  position  toirank eventtype zone  tgoals  ogoals vteamcode hteamcode  \\\n",
       "0        D      1.0       HIT    D       0       0       MTL       TOR   \n",
       "1        D      6.0      MISS    O       0       0       MTL       TOR   \n",
       "\n",
       "  winteamcode  isOTWin  isSOWin  secStart  homeScore  awayScore  homeSM  \\\n",
       "0         MTL        0        0        65          0          0       0   \n",
       "1         MTL        0        0       132          0          0       0   \n",
       "\n",
       "   homeWin  finalHSM  homeWinPer  awayWinPer        -3        -2        -1  \\\n",
       "0        0        -1         NaN         NaN  0.265551  0.410975  0.540709   \n",
       "1        0        -1         NaN         NaN  0.248733  0.395904  0.532354   \n",
       "\n",
       "          0         1         2         3  d3  d2  d1  ti  u1  u2  u3  \\\n",
       "0  0.984085  1.616993  3.317940  6.901401   0   0   0   1   0   0   0   \n",
       "1  0.981979  1.648922  3.433989  7.329717   0   0   0   1   0   0   0   \n",
       "\n",
       "    invCond  priorProb  priorOdds  \n",
       "0  0.984085        0.5        1.0  \n",
       "1  0.981979        0.5        1.0  "
      ]
     },
     "execution_count": 137,
     "metadata": {},
     "output_type": "execute_result"
    }
   ],
   "source": [
    "dm.head(2)"
   ]
  },
  {
   "cell_type": "code",
   "execution_count": 138,
   "metadata": {
    "collapsed": false
   },
   "outputs": [],
   "source": [
    "## calculate posterior odds and probabilities (Bayes Rule)\n",
    "dm['postOdds']      =  dm['priorOdds'] * dm['invCond']\n",
    "dm['postProb']      =  dm['postOdds'] / (1 + dm['postOdds'])"
   ]
  },
  {
   "cell_type": "code",
   "execution_count": 139,
   "metadata": {
    "collapsed": false
   },
   "outputs": [
    {
     "name": "stdout",
     "output_type": "stream",
     "text": [
      "       gamenumber  minStart  homeSM  priorProb  postProb\n",
      "46433       20800         1       0   0.416725  0.412831\n",
      "46434       20800         2       0   0.416725  0.412311\n",
      "46435       20800         3      -1   0.416725  0.272433\n",
      "46436       20800         4      -1   0.416725  0.269332\n",
      "46437       20800         5      -1   0.416725  0.266242\n",
      "46438       20800         6      -1   0.416725  0.263162\n",
      "46439       20800         7      -1   0.416725  0.260093\n",
      "46440       20800         8      -1   0.416725  0.257034\n",
      "46441       20800         9      -1   0.416725  0.253987\n",
      "46442       20800        10      -1   0.416725  0.250951\n",
      "46443       20800        11      -2   0.416725  0.167716\n",
      "46444       20800        12      -2   0.416725  0.162478\n",
      "46445       20800        13      -2   0.416725  0.157364\n",
      "46446       20800        14      -2   0.416725  0.152373\n",
      "46447       20800        15      -2   0.416725  0.147504\n",
      "46448       20800        16      -1   0.416725  0.233000\n",
      "46449       20800        17      -1   0.416725  0.230056\n",
      "...           ...       ...     ...        ...       ...\n",
      "46475       20800        43      -1   0.416725  0.159921\n",
      "46476       20800        44      -1   0.416725  0.157530\n",
      "46477       20800        45      -1   0.416725  0.155165\n",
      "46478       20800        46      -1   0.416725  0.152828\n",
      "46479       20800        47       0   0.416725  0.374278\n",
      "46480       20800        48       0   0.416725  0.373219\n",
      "46481       20800        49       0   0.416725  0.372160\n",
      "46482       20800        50       0   0.416725  0.371102\n",
      "46483       20800        51       0   0.416725  0.370047\n",
      "46484       20800        52       0   0.416725  0.368995\n",
      "46485       20800        53       0   0.416725  0.367948\n",
      "46486       20800        54       0   0.416725  0.366905\n",
      "46487       20800        55      -1   0.416725  0.133073\n",
      "46488       20800        56      -1   0.416725  0.131025\n",
      "46489       20800        57      -1   0.416725  0.129007\n",
      "46490       20800        58      -1   0.416725  0.127019\n",
      "46491       20800        59      -1   0.416725  0.125061\n",
      "\n",
      "[59 rows x 5 columns]\n"
     ]
    }
   ],
   "source": [
    "## game-specific plot of in-game win probabilities\n",
    "# set gamenumber\n",
    "d1 = dm[dm['gamenumber']==20800]\n",
    "len(d1)\n",
    "print d1[['gamenumber', 'minStart', 'homeSM', 'priorProb', 'postProb' ]]"
   ]
  },
  {
   "cell_type": "code",
   "execution_count": 140,
   "metadata": {
    "collapsed": false
   },
   "outputs": [
    {
     "name": "stdout",
     "output_type": "stream",
     "text": [
      "date, away team, home team\n",
      "2/10/2015\n",
      "NYR\n",
      "TOR\n"
     ]
    }
   ],
   "source": [
    "print \"date, away team, home team\"\n",
    "print d1.iloc[0]['gamedate']\n",
    "print d1.iloc[0]['vteamcode']\n",
    "print d1.iloc[0]['hteamcode']"
   ]
  },
  {
   "cell_type": "code",
   "execution_count": 141,
   "metadata": {
    "collapsed": false
   },
   "outputs": [
    {
     "data": {
      "image/png": "[encoded data removed]",
      "text/plain": [
       "<matplotlib.figure.Figure at 0x7f0539a8ddd0>"
      ]
     },
     "metadata": {},
     "output_type": "display_data"
    },
    {
     "name": "stdout",
     "output_type": "stream",
     "text": [
      "completed plot\n"
     ]
    }
   ],
   "source": [
    "# plot parameters\n",
    "plt.rc('axes', grid=False)\n",
    "\n",
    "width = 0.001\n",
    "space = width + 0.10\n",
    "left, width = 0.1, 0.8\n",
    "rect1 = [left, 0.4, width, 0.5]\n",
    "rect2 = [left, 0.1, width, 0.2]\n",
    "\n",
    "fig = plt.figure(facecolor='white')\n",
    "ax1 = fig.add_axes(rect1, axisbg='w')\n",
    "ax2 = fig.add_axes(rect2, axisbg='w', sharex=ax1)\n",
    "ax1.tick_params(axis='y', labelsize=8)\n",
    "ax1.tick_params(axis='x', labelsize=8)\n",
    "ax2.tick_params(axis='y', labelsize=8)\n",
    "ax2.tick_params(axis='x', labelsize=8)\n",
    "ax1.set_ylim([0,1])\n",
    "ax2.set_ylim([-5,5])\n",
    "ax1.set_xlim([0,60])\n",
    "\n",
    "\n",
    "# ig.suptitle(gameTitle, fontsize=12)\n",
    "ax1.set_title(\"Game progression win probabilities\", fontsize=12)\n",
    "ax1.set_ylabel('Home team win probability', fontsize=8)\n",
    "ax2.set_title('Game state information', fontsize=10, multialignment='center')\n",
    "ax2.set_ylabel('Home team score-margin', fontsize=8, multialignment='center')\n",
    "ax2.set_xlabel('Minutes from start of the game.', fontsize=8)\n",
    "\n",
    "# plot lines\n",
    "ax1.plot(d1['minStart'], d1['postProb']  , marker='', linestyle='-' , linewidth=2, color='black',  label='Home team win probability')\n",
    "\n",
    "ax1.axhline(y=.5 ,c=\"black\",linewidth=0.25, linestyle='--', zorder=0)\n",
    "ax2.bar(d1['minStart'] , d1['homeSM'], width=width, color='black', edgecolor='black', linestyle='solid', linewidth=0.5)\n",
    "legend = ax1.legend(loc='lower left', shadow=False, fontsize=6, frameon=False)\n",
    "\n",
    "# save figure\n",
    "plt.savefig(\"gn500.pdf\", format='pdf')\n",
    "#plt.close('all')\n",
    "plt.show()\n",
    "print 'completed plot'\n"
   ]
  },
  {
   "cell_type": "code",
   "execution_count": 142,
   "metadata": {
    "collapsed": true
   },
   "outputs": [],
   "source": [
    "## analysis complete"
   ]
  }
 ],
 "metadata": {
  "anaconda-cloud": {},
  "kernelspec": {
   "display_name": "Python [conda root]",
   "language": "python",
   "name": "conda-root-py"
  },
  "language_info": {
   "codemirror_mode": {
    "name": "ipython",
    "version": 2
   },
   "file_extension": ".py",
   "mimetype": "text/x-python",
   "name": "python",
   "nbconvert_exporter": "python",
   "pygments_lexer": "ipython2",
   "version": "2.7.12"
  }
 },
 "nbformat": 4,
 "nbformat_minor": 2
}
