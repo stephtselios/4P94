{
 "cells": [
  {
   "cell_type": "code",
   "execution_count": 1,
   "metadata": {
    "collapsed": true
   },
   "outputs": [],
   "source": [
    "%matplotlib inline\n",
    "import os\n",
    "import sys\n",
    "import pandas\n",
    "import numpy\n",
    "import matplotlib\n",
    "import matplotlib.pyplot as plt\n",
    "pandas.set_option('display.notebook_repr_html', False)\n",
    "pandas.set_option('display.max_columns', 20)\n",
    "pandas.set_option('display.max_rows', 25)\n",
    "pandas.set_option('precision',3)\n",
    "\n",
    "from decimal import getcontext, Decimal\n",
    "# Set the precision.\n",
    "getcontext().prec = 4"
   ]
  },
  {
   "cell_type": "code",
   "execution_count": 2,
   "metadata": {
    "collapsed": false
   },
   "outputs": [
    {
     "data": {
      "text/plain": [
       "          gamedate  season  period hteam ateam wteam  hgoals  agoals\n",
       "gameno                                                              \n",
       "20500   2014-12-22    2014       1   VAN   ARI  home       2       0\n",
       "20502   2014-12-22    2014       1    LA   CGY  away       1       0\n",
       "20503   2014-12-23    2014       1   BOS   NSH  home       2       1\n",
       "20504   2014-12-23    2014       1    NJ   CAR  away       0       0\n",
       "20505   2014-12-23    2014       1   NYI   MTL  away       0       0"
      ]
     },
     "execution_count": 2,
     "metadata": {},
     "output_type": "execute_result"
    }
   ],
   "source": [
    "dm = pandas.read_csv('nhl_ingame_goals.csv')\n",
    "dm = dm.sort_values(by=['season', 'gameno', 'goalno'])\n",
    "dm = dm[dm['period']==1]\n",
    "dm = dm.groupby(['gameno']).last()\n",
    "dm = dm.drop(['goalno', 'secstart', 'gteam'], axis=1)\n",
    "dm.reset_index()\n",
    "dm.head()"
   ]
  },
  {
   "cell_type": "markdown",
   "metadata": {},
   "source": [
    "The data contains score of the game at the end of the first period and game outcome information for NHL games. \n",
    "\n",
    "Use Bayes' rule to calculate the (posterior) probability of a home team win given the home team is leading the game by one goal at the end of the first period.\n",
    "\n",
    "$$ p(hwin_g| dgoals_g = +1 ) = \\frac{p(dgoals_g = +1|hwin_g) p(hwin_g)}{ p(dgoals_g = +1 | hwin_g) p(hwin_g) +  p(dgoals_g = +1 | \\overline{hwin_g}) p( \\overline{hwin_g}) }$$"
   ]
  },
  {
   "cell_type": "markdown",
   "metadata": {},
   "source": [
    "# Question\n",
    "\n",
    "List the information required to calculate the posterior probability"
   ]
  },
  {
   "cell_type": "markdown",
   "metadata": {},
   "source": [
    "# Answer"
   ]
  },
  {
   "cell_type": "markdown",
   "metadata": {},
   "source": [
    "In general:\n",
    "\n",
    "* prior and inverse conditional probabilities\n",
    "\n",
    "Specifically:\n",
    "\n",
    "* prior probability of a home win: $p(hwin_g)$\n",
    "* prior probability of a home loss: $p( \\overline{hwin_g})$\n",
    "* probability the score differential is home team leads by one goal at the end of the first period when the home team wins: $p(dgoals_g = +1|hwin_g)$\n",
    "* probability the score differential is home team leads by one goal at the end of the first period when the home team losses: $p(dgoals_g = +1 | \\overline{hwin_g})$\n"
   ]
  },
  {
   "cell_type": "markdown",
   "metadata": {},
   "source": [
    "# Question\n",
    "\n",
    "Calculate the following inverse conditional probabilities:\n",
    "\n",
    "$p(dgoals_g = +1|hwin_g)$\n",
    "\n",
    "$p(dgoals_g = +1|\\overline{hwin_g})$"
   ]
  },
  {
   "cell_type": "code",
   "execution_count": 17,
   "metadata": {
    "collapsed": false
   },
   "outputs": [],
   "source": [
    "# create variables in master data frame\n",
    "dm['dgoals'] = dm['hgoals'] - dm['agoals']\n",
    "dm['l1'] = numpy.where(dm['dgoals']==1, 1, 0)\n",
    "\n",
    "# create inverse conditional data frame\n",
    "d1 = dm[dm['wteam']=='home']\n",
    "d0 = dm[dm['wteam']=='away']\n",
    "\n",
    "# calculate inverse conditional probabilities\n",
    "\n",
    "inv_cond_1 = round(d1['l1'].mean(), 2)\n",
    "inv_cond_0 = round(d0['l1'].mean(), 2)"
   ]
  },
  {
   "cell_type": "markdown",
   "metadata": {
    "variables": {
     "inv_cond_0": "0.14",
     "inv_cond_1": "0.27"
    }
   },
   "source": [
    "The  inverse conditional probabilities:\n",
    "\n",
    "$p(dgoals_g = +1|hwin_g)$: {{inv_cond_1}}\n",
    "\n",
    "$p(dgoals_g = +1|\\overline{hwin_g})$: {{inv_cond_0}}"
   ]
  },
  {
   "cell_type": "markdown",
   "metadata": {},
   "source": [
    "# Question\n",
    "\n",
    "Assume the prior probability of a home team win is 0.50. Use Bayes' rule to calculate the (posterior) probability of a home team win given the home team is leading the game by one goal at the end of the first period."
   ]
  },
  {
   "cell_type": "markdown",
   "metadata": {},
   "source": [
    "# Answer"
   ]
  },
  {
   "cell_type": "code",
   "execution_count": 19,
   "metadata": {
    "collapsed": true
   },
   "outputs": [],
   "source": [
    "prior_1 = 0.50\n",
    "prior_0 = 1 - prior_1\n",
    "\n",
    "post = (prior_1 * inv_cond_1) / (prior_1 * inv_cond_1 + prior_0 * inv_cond_0)\n",
    "post = round(post_a, 2)"
   ]
  },
  {
   "cell_type": "markdown",
   "metadata": {
    "variables": {
     "post": "0.66"
    }
   },
   "source": [
    "The posterior probability is {{post}}"
   ]
  },
  {
   "cell_type": "markdown",
   "metadata": {},
   "source": [
    "# Question\n",
    "\n",
    "Assume the prior probability of a home team win is 0.40. Use Bayes' rule to calculate the (posterior) probability of a home team win given the home team is leading the game by one goal at the end of the first period."
   ]
  },
  {
   "cell_type": "markdown",
   "metadata": {},
   "source": [
    "# Answer"
   ]
  },
  {
   "cell_type": "code",
   "execution_count": 20,
   "metadata": {
    "collapsed": true
   },
   "outputs": [],
   "source": [
    "prior_1 = 0.40\n",
    "prior_0 = 1 - prior_1\n",
    "\n",
    "post = (prior_1 * inv_cond_1) / (prior_1 * inv_cond_1 + prior_0 * inv_cond_0)\n",
    "post = round(post, 2)"
   ]
  },
  {
   "cell_type": "markdown",
   "metadata": {
    "variables": {
     "post": "0.56"
    }
   },
   "source": [
    "The posterior probability is {{post}}"
   ]
  },
  {
   "cell_type": "markdown",
   "metadata": {},
   "source": [
    "# Question\n",
    "\n",
    "State Bayes' rule in your own words. Explain the reason is useful model to implement in sports analytics."
   ]
  },
  {
   "cell_type": "markdown",
   "metadata": {},
   "source": [
    "# Answer"
   ]
  },
  {
   "cell_type": "markdown",
   "metadata": {},
   "source": [
    "Bayes' rule updates probabilities and with new information. Bayes' rule is a useful model to implement in sports analytics for two primary reasons.\n",
    "\n",
    "* sports contests are based on uncertain events/outcomes that can be represented as probabilities\n",
    "* historical data are readily available to calculate prior probabilities "
   ]
  }
 ],
 "metadata": {
  "anaconda-cloud": {},
  "kernelspec": {
   "display_name": "Python [conda root]",
   "language": "python",
   "name": "conda-root-py"
  },
  "language_info": {
   "codemirror_mode": {
    "name": "ipython",
    "version": 2
   },
   "file_extension": ".py",
   "mimetype": "text/x-python",
   "name": "python",
   "nbconvert_exporter": "python",
   "pygments_lexer": "ipython2",
   "version": "2.7.12"
  }
 },
 "nbformat": 4,
 "nbformat_minor": 1
}
