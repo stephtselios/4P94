{
 "cells": [
  {
   "cell_type": "code",
   "execution_count": 28,
   "metadata": {
    "collapsed": true
   },
   "outputs": [],
   "source": [
    "%matplotlib inline\n",
    "import os\n",
    "import sys\n",
    "import pandas\n",
    "import numpy\n",
    "import matplotlib\n",
    "import matplotlib.pyplot as plt\n",
    "pandas.set_option('display.notebook_repr_html', False)\n",
    "pandas.set_option('display.max_columns', 20)\n",
    "pandas.set_option('display.max_rows', 25)\n",
    "pandas.set_option('precision',3)\n",
    "\n",
    "from decimal import getcontext, Decimal\n",
    "# Set the precision.\n",
    "getcontext().prec = 4"
   ]
  },
  {
   "cell_type": "code",
   "execution_count": 29,
   "metadata": {
    "collapsed": false
   },
   "outputs": [
    {
     "data": {
      "text/plain": [
       "          gamedate  season  period hteam ateam wteam  hgoals  agoals\n",
       "gameno                                                              \n",
       "20500   2014-12-22    2014       1   VAN   ARI  home       2       0\n",
       "20502   2014-12-22    2014       1    LA   CGY  away       1       0\n",
       "20503   2014-12-23    2014       1   BOS   NSH  home       2       1\n",
       "20504   2014-12-23    2014       1    NJ   CAR  away       0       0\n",
       "20505   2014-12-23    2014       1   NYI   MTL  away       0       0"
      ]
     },
     "execution_count": 29,
     "metadata": {},
     "output_type": "execute_result"
    }
   ],
   "source": [
    "dm = pandas.read_csv('nhl_ingame_goals.csv')\n",
    "dm = dm.sort_values(by=['season', 'gameno', 'goalno'])\n",
    "dm = dm[dm['period']==1]\n",
    "dm = dm.groupby(['gameno']).last()\n",
    "dm = dm.drop(['goalno', 'secstart', 'gteam'], axis=1)\n",
    "dm.reset_index()\n",
    "dm.head()"
   ]
  },
  {
   "cell_type": "markdown",
   "metadata": {},
   "source": [
    "The data contains score of the game at the end of the first period and game outcome information for NHL games. \n",
    "\n",
    "Use Bayes' rule to calculate the (posterior) probability of a home team win given the home team is leading the game by one goal at the end of the first period.\n",
    "\n",
    "$$ p(hwin_g| dgoals_g = +1 ) = \\frac{p(dgoals_g = +1|hwin_g) p(hwin_g)}{ p(dgoals_g = +1 | hwin_g) p(hwin_g) +  p(dgoals_g = +1 | \\overline{hwin_g}) p( \\overline{hwin_g}) }$$"
   ]
  },
  {
   "cell_type": "markdown",
   "metadata": {},
   "source": [
    "# Question\n",
    "\n",
    "List the information required to calculate the posterior probability"
   ]
  },
  {
   "cell_type": "markdown",
   "metadata": {},
   "source": [
    "# Answer"
   ]
  },
  {
   "cell_type": "markdown",
   "metadata": {},
   "source": [
    "# Question\n",
    "\n",
    "Calculate the following inverse conditional probabilties:\n",
    "\n",
    "$p(dgoals_g = +1|hwin_g)$\n",
    "\n",
    "$p(dgoals_g = +1|\\overline{hwin_g})$"
   ]
  },
  {
   "cell_type": "markdown",
   "metadata": {},
   "source": [
    "# Question\n",
    "\n",
    "Assume the prior probability of a home team win is 0.50. Use Bayes' rule to calculate the (posterior) probability of a home team win given the home team is leading the game by one goal at the end of the first period."
   ]
  },
  {
   "cell_type": "markdown",
   "metadata": {},
   "source": [
    "# Answer"
   ]
  },
  {
   "cell_type": "markdown",
   "metadata": {},
   "source": [
    "# Question\n",
    "\n",
    "Assume the prior probability of a home team win is 0.40. Use Bayes' rule to calculate the (posterior) probability of a home team win given the home team is leading the game by one goal at the end of the first period."
   ]
  },
  {
   "cell_type": "markdown",
   "metadata": {},
   "source": [
    "# Answer"
   ]
  },
  {
   "cell_type": "markdown",
   "metadata": {},
   "source": [
    "# Question\n",
    "\n",
    "State Bayes' rule in your own words. Explain the reason is useful model to implement in sports analytics."
   ]
  },
  {
   "cell_type": "markdown",
   "metadata": {},
   "source": [
    "# Answer"
   ]
  }
 ],
 "metadata": {
  "anaconda-cloud": {},
  "kernelspec": {
   "display_name": "Python [conda root]",
   "language": "python",
   "name": "conda-root-py"
  },
  "language_info": {
   "codemirror_mode": {
    "name": "ipython",
    "version": 2
   },
   "file_extension": ".py",
   "mimetype": "text/x-python",
   "name": "python",
   "nbconvert_exporter": "python",
   "pygments_lexer": "ipython2",
   "version": "2.7.12"
  }
 },
 "nbformat": 4,
 "nbformat_minor": 1
}
