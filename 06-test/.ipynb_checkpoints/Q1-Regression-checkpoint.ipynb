{
 "cells": [
  {
   "cell_type": "code",
   "execution_count": 31,
   "metadata": {
    "collapsed": true
   },
   "outputs": [],
   "source": [
    "%matplotlib inline\n",
    "import os\n",
    "import sys\n",
    "import numpy \n",
    "import pandas \n",
    "import matplotlib.pyplot as plt\n",
    "import pylab\n",
    "\n",
    "# imports regression library\n",
    "# OLS: ordinary least squares (estimation technique used to estimate the linear regression model)\n",
    "import statsmodels.api as sm\n",
    "from statsmodels.formula.api import ols\n",
    "    \n",
    "# Set some Pandas options\n",
    "pandas.set_option('display.notebook_repr_html', False)\n",
    "pandas.set_option('display.max_columns', 20)\n",
    "pandas.set_option('display.max_rows', 25)\n",
    "\n",
    "from decimal import getcontext, Decimal\n",
    "# Set the precision.\n",
    "getcontext().prec = 4"
   ]
  },
  {
   "cell_type": "code",
   "execution_count": 32,
   "metadata": {
    "collapsed": false
   },
   "outputs": [
    {
     "data": {
      "text/plain": [
       "   gamenumber awayTeam  awaySalary  awayAge  awayHeight  awayWeight  \\\n",
       "0       20001      MTL   38.383301      501        1313        3695   \n",
       "1       20002      PHI   50.365002      498        1317        3669   \n",
       "2       20003      CAR   35.825001      471        1315        3574   \n",
       "3       20004      CHI   50.560001      462        1326        3700   \n",
       "4       20005      CGY   39.764999      505        1331        3726   \n",
       "\n",
       "        awayGoaliue  awayGoals homeTeam  homeSalary  homeAge  homeHeight  \\\n",
       "0       PRICE_CAREY          2      TOR   44.612999      471        1312   \n",
       "1  BOBROVSKY_SERGEI          3      PIT   49.192402      497        1308   \n",
       "2          WARD_CAM          4      MIN   40.180000      503        1321   \n",
       "3       TURCO_MARTY          3      COL   33.750000      469        1306   \n",
       "4  KIPRUSOFF_MIIKKA          0      EDM   41.400002      458        1324   \n",
       "\n",
       "   homeWeight             homeGoalie  homeGoals winteamcode  \n",
       "0        3715  GIGUERE_JEANSEBASTIEN          3         TOR  \n",
       "1        3611       FLEURY_MARCANDRE          2         PHI  \n",
       "2        3734       BACKSTROM_NIKLAS          3         CAR  \n",
       "3        3627         ANDERSON_CRAIG          4         COL  \n",
       "4        3745     KHABIBULIN_NIKOLAI          4         EDM  "
      ]
     },
     "execution_count": 32,
     "metadata": {},
     "output_type": "execute_result"
    }
   ],
   "source": [
    "dm = pandas.read_csv('2010game_physical.csv')\n",
    "dm.head()"
   ]
  },
  {
   "cell_type": "markdown",
   "metadata": {},
   "source": [
    "# Question\n",
    "\n",
    "Present the summary statistics"
   ]
  },
  {
   "cell_type": "markdown",
   "metadata": {},
   "source": [
    "# Answer\n"
   ]
  },
  {
   "cell_type": "markdown",
   "metadata": {},
   "source": [
    "# Question\n",
    "\n",
    "What is the mean number of home and away team goals scored in a game?"
   ]
  },
  {
   "cell_type": "markdown",
   "metadata": {},
   "source": [
    "# Answer\n"
   ]
  },
  {
   "cell_type": "markdown",
   "metadata": {},
   "source": [
    "# Question\n",
    "\n",
    "Present a histogram of home goals scored. Label the histogram."
   ]
  },
  {
   "cell_type": "markdown",
   "metadata": {},
   "source": [
    "# Answer\n"
   ]
  },
  {
   "cell_type": "markdown",
   "metadata": {},
   "source": [
    "# Question\n",
    "\n",
    "Present a scatter plot between home team goals and home team salary. Label the histogram. Describe the relationship"
   ]
  },
  {
   "cell_type": "markdown",
   "metadata": {
    "collapsed": true
   },
   "source": [
    "# Answer"
   ]
  },
  {
   "cell_type": "markdown",
   "metadata": {
    "collapsed": true
   },
   "source": [
    "# Question\n",
    "\n",
    "Estimate the paramaters of the following model and interpret the results \n",
    "\n",
    "$hGoals_i = \\beta_0 + \\beta_1 hAge_i +  \\beta_2 hHeight_i +  \\beta_3 hWeight_i + mu_i$"
   ]
  },
  {
   "cell_type": "markdown",
   "metadata": {},
   "source": [
    "# Answer\n"
   ]
  },
  {
   "cell_type": "markdown",
   "metadata": {},
   "source": [
    "# Question\n",
    "\n",
    "Estimate the paramaters of the following model and interpret the results \n",
    "\n",
    "$dGoals_i = \\beta_0 + \\beta_1 lnDSalary_i + \\beta_2 lnDAge_i +  \\beta_3 lnDHeight_i +  \\beta_4 lnDWeight_i + mu_i$"
   ]
  },
  {
   "cell_type": "markdown",
   "metadata": {},
   "source": [
    "# Answer"
   ]
  }
 ],
 "metadata": {
  "anaconda-cloud": {},
  "kernelspec": {
   "display_name": "Python [conda root]",
   "language": "python",
   "name": "conda-root-py"
  },
  "language_info": {
   "codemirror_mode": {
    "name": "ipython",
    "version": 2
   },
   "file_extension": ".py",
   "mimetype": "text/x-python",
   "name": "python",
   "nbconvert_exporter": "python",
   "pygments_lexer": "ipython2",
   "version": "2.7.12"
  }
 },
 "nbformat": 4,
 "nbformat_minor": 1
}
