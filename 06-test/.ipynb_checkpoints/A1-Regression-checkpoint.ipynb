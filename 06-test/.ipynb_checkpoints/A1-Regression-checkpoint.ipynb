{
 "cells": [
  {
   "cell_type": "code",
   "execution_count": 71,
   "metadata": {
    "collapsed": false
   },
   "outputs": [
    {
     "data": {
      "text/plain": [
       "Context(prec=4, rounding=ROUND_UP, Emin=-999999999, Emax=999999999, capitals=1, flags=[], traps=[DivisionByZero, Overflow, InvalidOperation])"
      ]
     },
     "execution_count": 71,
     "metadata": {},
     "output_type": "execute_result"
    }
   ],
   "source": [
    "%matplotlib inline\n",
    "import os\n",
    "import sys\n",
    "import numpy \n",
    "import pandas \n",
    "import matplotlib.pyplot as plt\n",
    "import pylab\n",
    "\n",
    "# imports regression library\n",
    "# OLS: ordinary least squares (estimation technique used to estimate the linear regression model)\n",
    "import statsmodels.api as sm\n",
    "from statsmodels.formula.api import ols\n",
    "\n",
    "from IPython.display import HTML\n",
    "from IPython.display import display\n",
    "\n",
    "# Set some Pandas options\n",
    "pandas.set_option('display.notebook_repr_html', False)\n",
    "pandas.set_option('display.max_columns', 20)\n",
    "pandas.set_option('display.max_rows', 25)\n",
    "pandas.set_option('display.precision', 4)\n",
    "\n",
    "\n",
    "\n",
    "from decimal import *\n",
    "getcontext().prec = 4\n",
    "getcontext().rounding = 'ROUND_UP'\n",
    "getcontext()"
   ]
  },
  {
   "cell_type": "code",
   "execution_count": 72,
   "metadata": {
    "collapsed": false
   },
   "outputs": [
    {
     "data": {
      "text/plain": [
       "   gamenumber awayTeam  awaySalary  awayAge  awayHeight  awayWeight  \\\n",
       "0       20001      MTL     38.3833      501        1313        3695   \n",
       "1       20002      PHI     50.3650      498        1317        3669   \n",
       "2       20003      CAR     35.8250      471        1315        3574   \n",
       "3       20004      CHI     50.5600      462        1326        3700   \n",
       "4       20005      CGY     39.7650      505        1331        3726   \n",
       "\n",
       "        awayGoaliue  awayGoals homeTeam  homeSalary  homeAge  homeHeight  \\\n",
       "0       PRICE_CAREY          2      TOR     44.6130      471        1312   \n",
       "1  BOBROVSKY_SERGEI          3      PIT     49.1924      497        1308   \n",
       "2          WARD_CAM          4      MIN     40.1800      503        1321   \n",
       "3       TURCO_MARTY          3      COL     33.7500      469        1306   \n",
       "4  KIPRUSOFF_MIIKKA          0      EDM     41.4000      458        1324   \n",
       "\n",
       "   homeWeight             homeGoalie  homeGoals winteamcode  \n",
       "0        3715  GIGUERE_JEANSEBASTIEN          3         TOR  \n",
       "1        3611       FLEURY_MARCANDRE          2         PHI  \n",
       "2        3734       BACKSTROM_NIKLAS          3         CAR  \n",
       "3        3627         ANDERSON_CRAIG          4         COL  \n",
       "4        3745     KHABIBULIN_NIKOLAI          4         EDM  "
      ]
     },
     "execution_count": 72,
     "metadata": {},
     "output_type": "execute_result"
    }
   ],
   "source": [
    "dm = pandas.read_csv('2010game_physical.csv')\n",
    "dm.head()"
   ]
  },
  {
   "cell_type": "markdown",
   "metadata": {},
   "source": [
    "# Question\n",
    "\n",
    "Present the summary statistics"
   ]
  },
  {
   "cell_type": "markdown",
   "metadata": {},
   "source": [
    "# Answer\n"
   ]
  },
  {
   "cell_type": "code",
   "execution_count": 73,
   "metadata": {
    "collapsed": false
   },
   "outputs": [
    {
     "data": {
      "text/plain": [
       "       gamenumber  awaySalary    awayAge  awayHeight  awayWeight  awayGoals  \\\n",
       "count   1230.0000   1230.0000  1230.0000   1230.0000   1230.0000  1230.0000   \n",
       "mean   20615.5000     40.4077   491.9691   1314.3065   3672.8407     2.6163   \n",
       "std      355.2147      8.7924    24.3731     19.0695     80.4384     1.5889   \n",
       "min    20001.0000     14.9958   427.0000   1164.0000   3177.0000     0.0000   \n",
       "25%    20308.2500     34.5466   474.0000   1310.0000   3636.0000     1.0000   \n",
       "50%    20615.5000     40.4737   493.0000   1317.0000   3676.5000     3.0000   \n",
       "75%    20922.7500     46.6455   505.7500   1323.0000   3725.0000     4.0000   \n",
       "max    21230.0000     58.4830   571.0000   1343.0000   3827.0000    10.0000   \n",
       "\n",
       "       homeSalary    homeAge  homeHeight  homeWeight  homeGoals  \n",
       "count   1230.0000  1230.0000   1230.0000   1230.0000  1230.0000  \n",
       "mean      40.7880   492.0789   1313.6528   3672.4041     2.8480  \n",
       "std        8.8380    24.7560     20.3096     83.2905     1.7107  \n",
       "min       15.7725   415.0000   1110.0000   3100.0000     0.0000  \n",
       "25%       35.9250   474.0000   1310.0000   3636.0000     2.0000  \n",
       "50%       41.0755   493.0000   1317.0000   3678.0000     3.0000  \n",
       "75%       47.0163   506.0000   1322.0000   3723.0000     4.0000  \n",
       "max       58.9080   572.0000   1347.0000   3835.0000     9.0000  "
      ]
     },
     "execution_count": 73,
     "metadata": {},
     "output_type": "execute_result"
    }
   ],
   "source": [
    "dm.describe()"
   ]
  },
  {
   "cell_type": "markdown",
   "metadata": {},
   "source": [
    "# Question\n",
    "\n",
    "What is the mean number of home and away team goals scored in a game?"
   ]
  },
  {
   "cell_type": "markdown",
   "metadata": {},
   "source": [
    "# Answer\n"
   ]
  },
  {
   "cell_type": "code",
   "execution_count": 74,
   "metadata": {
    "collapsed": true
   },
   "outputs": [],
   "source": [
    "hg = round(dm['homeGoals'].mean(), 2)\n",
    "ag = round(dm['awayGoals'].mean(), 2)"
   ]
  },
  {
   "cell_type": "markdown",
   "metadata": {
    "variables": {
     "ag": "2.62",
     "hg": "2.85"
    }
   },
   "source": [
    "The mean number of home and away goals scored are {{hg}} and {{ag}}, respectively."
   ]
  },
  {
   "cell_type": "markdown",
   "metadata": {},
   "source": [
    "# Question\n",
    "\n",
    "Present a histogram of home goals scored. Label the histogram."
   ]
  },
  {
   "cell_type": "markdown",
   "metadata": {},
   "source": [
    "# Answer\n"
   ]
  },
  {
   "cell_type": "code",
   "execution_count": 75,
   "metadata": {
    "collapsed": false
   },
   "outputs": [
    {
     "data": {
      "image/png": "[encoded data removed]",
      "text/plain": [
       "<matplotlib.figure.Figure at 0x7f3d8544ccd0>"
      ]
     },
     "metadata": {},
     "output_type": "display_data"
    }
   ],
   "source": [
    "plt.hist(dm['homeGoals'])\n",
    "plt.title('Distribution of home goals per game.')\n",
    "plt.ylabel('Frequency')\n",
    "plt.xlabel('Number of goals')\n",
    "plt.show()"
   ]
  },
  {
   "cell_type": "markdown",
   "metadata": {},
   "source": [
    "# Question\n",
    "\n",
    "Present a scatter plot between home team goals and home team salary. Label the histogram. Describe the relationship"
   ]
  },
  {
   "cell_type": "markdown",
   "metadata": {
    "collapsed": true
   },
   "source": [
    "# Answer"
   ]
  },
  {
   "cell_type": "code",
   "execution_count": 76,
   "metadata": {
    "collapsed": false
   },
   "outputs": [
    {
     "data": {
      "image/png": "[encoded data removed]",
      "text/plain": [
       "<matplotlib.figure.Figure at 0x7f3d853fe7d0>"
      ]
     },
     "metadata": {},
     "output_type": "display_data"
    }
   ],
   "source": [
    "plt.scatter(dm['homeGoals'], dm['homeSalary'])\n",
    "plt.title('Scatter plot of home goals per game and payroll')\n",
    "plt.ylabel('Home team payroll (millions)')\n",
    "plt.xlabel('Home goals')\n",
    "plt.show()"
   ]
  },
  {
   "cell_type": "markdown",
   "metadata": {
    "collapsed": true
   },
   "source": [
    "# Question\n",
    "\n",
    "Estimate the paramaters of the following model and interpret the results \n",
    "\n",
    "$hGoals_i = \\beta_0 + \\beta_1 hAge_i +  \\beta_2 hHeight_i +  \\beta_3 hWeight_i + mu_i$"
   ]
  },
  {
   "cell_type": "markdown",
   "metadata": {},
   "source": [
    "# Answer\n"
   ]
  },
  {
   "cell_type": "code",
   "execution_count": 93,
   "metadata": {
    "collapsed": false
   },
   "outputs": [
    {
     "data": {
      "text/html": [
       "<table class=\"simpletable\">\n",
       "<caption>OLS Regression Results</caption>\n",
       "<tr>\n",
       "  <th>Dep. Variable:</th>        <td>homeGoals</td>    <th>  R-squared:         </th> <td>   0.004</td>\n",
       "</tr>\n",
       "<tr>\n",
       "  <th>Model:</th>                   <td>OLS</td>       <th>  Adj. R-squared:    </th> <td>   0.002</td>\n",
       "</tr>\n",
       "<tr>\n",
       "  <th>Method:</th>             <td>Least Squares</td>  <th>  F-statistic:       </th> <td>   1.655</td>\n",
       "</tr>\n",
       "<tr>\n",
       "  <th>Date:</th>             <td>Sat, 18 Mar 2017</td> <th>  Prob (F-statistic):</th>  <td> 0.175</td> \n",
       "</tr>\n",
       "<tr>\n",
       "  <th>Time:</th>                 <td>06:27:38</td>     <th>  Log-Likelihood:    </th> <td> -2402.7</td>\n",
       "</tr>\n",
       "<tr>\n",
       "  <th>No. Observations:</th>      <td>  1230</td>      <th>  AIC:               </th> <td>   4813.</td>\n",
       "</tr>\n",
       "<tr>\n",
       "  <th>Df Residuals:</th>          <td>  1226</td>      <th>  BIC:               </th> <td>   4834.</td>\n",
       "</tr>\n",
       "<tr>\n",
       "  <th>Df Model:</th>              <td>     3</td>      <th>                     </th>     <td> </td>   \n",
       "</tr>\n",
       "<tr>\n",
       "  <th>Covariance Type:</th>      <td>nonrobust</td>    <th>                     </th>     <td> </td>   \n",
       "</tr>\n",
       "</table>\n",
       "<table class=\"simpletable\">\n",
       "<tr>\n",
       "       <td></td>         <th>coef</th>     <th>std err</th>      <th>t</th>      <th>P>|t|</th> <th>[95.0% Conf. Int.]</th> \n",
       "</tr>\n",
       "<tr>\n",
       "  <th>const</th>      <td>   -1.6009</td> <td>    3.767</td> <td>   -0.425</td> <td> 0.671</td> <td>   -8.992     5.790</td>\n",
       "</tr>\n",
       "<tr>\n",
       "  <th>homeAge</th>    <td>    0.0031</td> <td>    0.002</td> <td>    1.515</td> <td> 0.130</td> <td>   -0.001     0.007</td>\n",
       "</tr>\n",
       "<tr>\n",
       "  <th>homeHeight</th> <td>    0.0070</td> <td>    0.005</td> <td>    1.464</td> <td> 0.143</td> <td>   -0.002     0.016</td>\n",
       "</tr>\n",
       "<tr>\n",
       "  <th>homeWeight</th> <td>   -0.0017</td> <td>    0.001</td> <td>   -1.458</td> <td> 0.145</td> <td>   -0.004     0.001</td>\n",
       "</tr>\n",
       "</table>\n",
       "<table class=\"simpletable\">\n",
       "<tr>\n",
       "  <th>Omnibus:</th>       <td>44.556</td> <th>  Durbin-Watson:     </th> <td>   1.964</td>\n",
       "</tr>\n",
       "<tr>\n",
       "  <th>Prob(Omnibus):</th> <td> 0.000</td> <th>  Jarque-Bera (JB):  </th> <td>  48.840</td>\n",
       "</tr>\n",
       "<tr>\n",
       "  <th>Skew:</th>          <td> 0.488</td> <th>  Prob(JB):          </th> <td>2.48e-11</td>\n",
       "</tr>\n",
       "<tr>\n",
       "  <th>Kurtosis:</th>      <td> 3.008</td> <th>  Cond. No.          </th> <td>3.04e+05</td>\n",
       "</tr>\n",
       "</table>"
      ],
      "text/plain": [
       "<class 'statsmodels.iolib.summary.Summary'>\n",
       "\"\"\"\n",
       "                            OLS Regression Results                            \n",
       "==============================================================================\n",
       "Dep. Variable:              homeGoals   R-squared:                       0.004\n",
       "Model:                            OLS   Adj. R-squared:                  0.002\n",
       "Method:                 Least Squares   F-statistic:                     1.655\n",
       "Date:                Sat, 18 Mar 2017   Prob (F-statistic):              0.175\n",
       "Time:                        06:27:38   Log-Likelihood:                -2402.7\n",
       "No. Observations:                1230   AIC:                             4813.\n",
       "Df Residuals:                    1226   BIC:                             4834.\n",
       "Df Model:                           3                                         \n",
       "Covariance Type:            nonrobust                                         \n",
       "==============================================================================\n",
       "                 coef    std err          t      P>|t|      [95.0% Conf. Int.]\n",
       "------------------------------------------------------------------------------\n",
       "const         -1.6009      3.767     -0.425      0.671        -8.992     5.790\n",
       "homeAge        0.0031      0.002      1.515      0.130        -0.001     0.007\n",
       "homeHeight     0.0070      0.005      1.464      0.143        -0.002     0.016\n",
       "homeWeight    -0.0017      0.001     -1.458      0.145        -0.004     0.001\n",
       "==============================================================================\n",
       "Omnibus:                       44.556   Durbin-Watson:                   1.964\n",
       "Prob(Omnibus):                  0.000   Jarque-Bera (JB):               48.840\n",
       "Skew:                           0.488   Prob(JB):                     2.48e-11\n",
       "Kurtosis:                       3.008   Cond. No.                     3.04e+05\n",
       "==============================================================================\n",
       "\n",
       "Warnings:\n",
       "[1] Standard Errors assume that the covariance matrix of the errors is correctly specified.\n",
       "[2] The condition number is large, 3.04e+05. This might indicate that there are\n",
       "strong multicollinearity or other numerical problems.\n",
       "\"\"\""
      ]
     },
     "execution_count": 93,
     "metadata": {},
     "output_type": "execute_result"
    }
   ],
   "source": [
    "t1 = sm.OLS(dm['homeGoals'],sm.add_constant(dm[['homeAge', 'homeHeight', 'homeWeight']])).fit()\n",
    "p1 = t1.params.map(lambda x: '%2.4f' % numpy.absolute(x))\n",
    "t1.summary()\n"
   ]
  },
  {
   "cell_type": "markdown",
   "metadata": {
    "variables": {
     "p1[1]": "0.0031",
     "p1[2]": "0.0070",
     "p1[3]": "0.0017"
    }
   },
   "source": [
    "The paramater estimates represent unit change increments. \n",
    "\n",
    "* Each year increase in the home team's age will result in an increase of {{p1[1]}} home goals per game.\n",
    "* Each inch increase in the home team's height will result in an increase of {{p1[2]}} home goals per game.\n",
    "* Each pound increase in the home team's weight will result in a decrease of {{p1[3]}} home goals per game.\n",
    "\n"
   ]
  },
  {
   "cell_type": "markdown",
   "metadata": {},
   "source": [
    "# Question\n",
    "\n",
    "Estimate the paramaters of the following model and interpret the results \n",
    "\n",
    "$dGoals_i = \\beta_0 + \\beta_1 lnDSalary_i + \\beta_2 lnDAge_i +  \\beta_3 lnDHeight_i +  \\beta_4 lnDWeight_i + mu_i$"
   ]
  },
  {
   "cell_type": "markdown",
   "metadata": {},
   "source": [
    "# Answer"
   ]
  },
  {
   "cell_type": "code",
   "execution_count": 94,
   "metadata": {
    "collapsed": false
   },
   "outputs": [
    {
     "data": {
      "text/html": [
       "<table class=\"simpletable\">\n",
       "<caption>OLS Regression Results</caption>\n",
       "<tr>\n",
       "  <th>Dep. Variable:</th>         <td>dGoals</td>      <th>  R-squared:         </th> <td>   0.026</td>\n",
       "</tr>\n",
       "<tr>\n",
       "  <th>Model:</th>                   <td>OLS</td>       <th>  Adj. R-squared:    </th> <td>   0.023</td>\n",
       "</tr>\n",
       "<tr>\n",
       "  <th>Method:</th>             <td>Least Squares</td>  <th>  F-statistic:       </th> <td>   8.133</td>\n",
       "</tr>\n",
       "<tr>\n",
       "  <th>Date:</th>             <td>Sat, 18 Mar 2017</td> <th>  Prob (F-statistic):</th> <td>1.79e-06</td>\n",
       "</tr>\n",
       "<tr>\n",
       "  <th>Time:</th>                 <td>06:28:03</td>     <th>  Log-Likelihood:    </th> <td> -2809.6</td>\n",
       "</tr>\n",
       "<tr>\n",
       "  <th>No. Observations:</th>      <td>  1230</td>      <th>  AIC:               </th> <td>   5629.</td>\n",
       "</tr>\n",
       "<tr>\n",
       "  <th>Df Residuals:</th>          <td>  1225</td>      <th>  BIC:               </th> <td>   5655.</td>\n",
       "</tr>\n",
       "<tr>\n",
       "  <th>Df Model:</th>              <td>     4</td>      <th>                     </th>     <td> </td>   \n",
       "</tr>\n",
       "<tr>\n",
       "  <th>Covariance Type:</th>      <td>nonrobust</td>    <th>                     </th>     <td> </td>   \n",
       "</tr>\n",
       "</table>\n",
       "<table class=\"simpletable\">\n",
       "<tr>\n",
       "      <td></td>         <th>coef</th>     <th>std err</th>      <th>t</th>      <th>P>|t|</th> <th>[95.0% Conf. Int.]</th> \n",
       "</tr>\n",
       "<tr>\n",
       "  <th>const</th>     <td>    0.2258</td> <td>    0.068</td> <td>    3.322</td> <td> 0.001</td> <td>    0.092     0.359</td>\n",
       "</tr>\n",
       "<tr>\n",
       "  <th>lnDSalary</th> <td>    1.0603</td> <td>    0.228</td> <td>    4.650</td> <td> 0.000</td> <td>    0.613     1.508</td>\n",
       "</tr>\n",
       "<tr>\n",
       "  <th>lnDAge</th>    <td>   -0.7155</td> <td>    1.170</td> <td>   -0.611</td> <td> 0.541</td> <td>   -3.012     1.581</td>\n",
       "</tr>\n",
       "<tr>\n",
       "  <th>lnDHeight</th> <td>    9.5704</td> <td>    6.205</td> <td>    1.542</td> <td> 0.123</td> <td>   -2.602    21.743</td>\n",
       "</tr>\n",
       "<tr>\n",
       "  <th>lnDWeight</th> <td>   -7.5867</td> <td>    4.236</td> <td>   -1.791</td> <td> 0.074</td> <td>  -15.897     0.723</td>\n",
       "</tr>\n",
       "</table>\n",
       "<table class=\"simpletable\">\n",
       "<tr>\n",
       "  <th>Omnibus:</th>       <td> 0.295</td> <th>  Durbin-Watson:     </th> <td>   1.908</td>\n",
       "</tr>\n",
       "<tr>\n",
       "  <th>Prob(Omnibus):</th> <td> 0.863</td> <th>  Jarque-Bera (JB):  </th> <td>   0.222</td>\n",
       "</tr>\n",
       "<tr>\n",
       "  <th>Skew:</th>          <td> 0.025</td> <th>  Prob(JB):          </th> <td>   0.895</td>\n",
       "</tr>\n",
       "<tr>\n",
       "  <th>Kurtosis:</th>      <td> 3.043</td> <th>  Cond. No.          </th> <td>    107.</td>\n",
       "</tr>\n",
       "</table>"
      ],
      "text/plain": [
       "<class 'statsmodels.iolib.summary.Summary'>\n",
       "\"\"\"\n",
       "                            OLS Regression Results                            \n",
       "==============================================================================\n",
       "Dep. Variable:                 dGoals   R-squared:                       0.026\n",
       "Model:                            OLS   Adj. R-squared:                  0.023\n",
       "Method:                 Least Squares   F-statistic:                     8.133\n",
       "Date:                Sat, 18 Mar 2017   Prob (F-statistic):           1.79e-06\n",
       "Time:                        06:28:03   Log-Likelihood:                -2809.6\n",
       "No. Observations:                1230   AIC:                             5629.\n",
       "Df Residuals:                    1225   BIC:                             5655.\n",
       "Df Model:                           4                                         \n",
       "Covariance Type:            nonrobust                                         \n",
       "==============================================================================\n",
       "                 coef    std err          t      P>|t|      [95.0% Conf. Int.]\n",
       "------------------------------------------------------------------------------\n",
       "const          0.2258      0.068      3.322      0.001         0.092     0.359\n",
       "lnDSalary      1.0603      0.228      4.650      0.000         0.613     1.508\n",
       "lnDAge        -0.7155      1.170     -0.611      0.541        -3.012     1.581\n",
       "lnDHeight      9.5704      6.205      1.542      0.123        -2.602    21.743\n",
       "lnDWeight     -7.5867      4.236     -1.791      0.074       -15.897     0.723\n",
       "==============================================================================\n",
       "Omnibus:                        0.295   Durbin-Watson:                   1.908\n",
       "Prob(Omnibus):                  0.863   Jarque-Bera (JB):                0.222\n",
       "Skew:                           0.025   Prob(JB):                        0.895\n",
       "Kurtosis:                       3.043   Cond. No.                         107.\n",
       "==============================================================================\n",
       "\n",
       "Warnings:\n",
       "[1] Standard Errors assume that the covariance matrix of the errors is correctly specified.\n",
       "\"\"\""
      ]
     },
     "execution_count": 94,
     "metadata": {},
     "output_type": "execute_result"
    }
   ],
   "source": [
    "dm['dGoals']    = dm['homeGoals'] - dm['awayGoals'] \n",
    "dm['lnDAge']    = numpy.log(dm['homeAge']/dm['awayAge'])\n",
    "dm['lnDHeight'] = numpy.log(dm['homeHeight']/dm['awayHeight'])\n",
    "dm['lnDWeight'] = numpy.log(dm['homeWeight']/dm['awayWeight'])\n",
    "dm['lnDSalary']  = numpy.log(dm['homeSalary']/dm['awaySalary'])\n",
    "\n",
    "t2 = sm.OLS(dm['dGoals'],sm.add_constant(dm[['lnDSalary', 'lnDAge', 'lnDHeight', 'lnDWeight']])).fit()\n",
    "p2 = t2.params.map(lambda x: '%2.1f' % numpy.absolute(x))\n",
    "t2.summary()"
   ]
  },
  {
   "cell_type": "markdown",
   "metadata": {
    "variables": {
     "p2[1]": "1.1",
     "p2[2]": "0.7",
     "p2[3]": "9.6",
     "p2[4]": "7.6"
    }
   },
   "source": [
    "The paramater estimates represent percent change increments. \n",
    "\n",
    "* Each percentage increase in the home team's payroll will result in a {{p2[1]}} percent increase of home goals per game.\n",
    "* Each percentage increase in the home team's age will result in a {{p2[2]}} percent decrease of home goals per game.\n",
    "* Each percentage increase in the home team's height will result in a {{p2[3]}} percent increase of home goals per game.\n",
    "* Each percentage increase in the home team's weight will result in a {{p2[4]}} percent decrease of home goals per game."
   ]
  }
 ],
 "metadata": {
  "anaconda-cloud": {},
  "kernelspec": {
   "display_name": "Python [conda root]",
   "language": "python",
   "name": "conda-root-py"
  },
  "language_info": {
   "codemirror_mode": {
    "name": "ipython",
    "version": 2
   },
   "file_extension": ".py",
   "mimetype": "text/x-python",
   "name": "python",
   "nbconvert_exporter": "python",
   "pygments_lexer": "ipython2",
   "version": "2.7.12"
  }
 },
 "nbformat": 4,
 "nbformat_minor": 1
}
