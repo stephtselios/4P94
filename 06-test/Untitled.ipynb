{
 "cells": [
  {
   "cell_type": "markdown",
   "metadata": {},
   "source": [
    "# Analysis\n",
    "Category  | Points | Level\n",
    "  ------------- | -------------\n",
    "Exceptional  | 3 | The program works and meets all specifications\n",
    "Acceptable   | 2 | The program works, produces and displays results\n",
    "Improvement required | 1 | Parts of the program works, and does not display all results\n",
    "Unsatisfactory | 0 | Program does not work\n",
    "\n",
    "\n",
    "# Presentation and development\n",
    "Category  | Points | Level\n",
    "  ------------- | -------------\n",
    "Exceptional  | 3 | Well organized and documented\n",
    "Acceptable   | 2 | Easy to follow with simple documentation\n",
    "Improvement required | 1 | Understandable within context\n",
    "Unsatisfactory | 0 | Poorly organized with some embedded documentation\n"
   ]
  },
  {
   "cell_type": "raw",
   "metadata": {},
   "source": []
  },
  {
   "cell_type": "code",
   "execution_count": null,
   "metadata": {
    "collapsed": true
   },
   "outputs": [],
   "source": []
  }
 ],
 "metadata": {
  "anaconda-cloud": {},
  "kernelspec": {
   "display_name": "Python [conda root]",
   "language": "python",
   "name": "conda-root-py"
  },
  "language_info": {
   "codemirror_mode": {
    "name": "ipython",
    "version": 2
   },
   "file_extension": ".py",
   "mimetype": "text/x-python",
   "name": "python",
   "nbconvert_exporter": "python",
   "pygments_lexer": "ipython2",
   "version": "2.7.12"
  }
 },
 "nbformat": 4,
 "nbformat_minor": 2
}
