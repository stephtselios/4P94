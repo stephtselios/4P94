{
 "cells": [
  {
   "cell_type": "markdown",
   "metadata": {},
   "source": [
    "# Homework \n",
    "\n",
    "* Create derived statistic for slap and backhand shots\n",
    "* Note, the analysis can be extended beyond the wrist shot model example\n",
    "* Assess and report the derived statistics across relevant factors"
   ]
  },
  {
   "cell_type": "code",
   "execution_count": 152,
   "metadata": {
    "collapsed": true
   },
   "outputs": [],
   "source": [
    "%matplotlib inline\n",
    "import os\n",
    "import sys\n",
    "import numpy \n",
    "import pandas \n",
    "import matplotlib.pyplot as plt\n",
    "from matplotlib.colors import LogNorm\n",
    "\n",
    "# !pip install plotly\n",
    "\n",
    "# imports regression library\n",
    "# OLS: ordinary least squares (estimation technique used to estimate the linear regression model)\n",
    "import statsmodels.api as sm\n",
    "from statsmodels.formula.api import ols\n",
    "    \n",
    "# Set some Pandas options\n",
    "pandas.set_option('display.notebook_repr_html', True)\n",
    "pandas.set_option('display.max_columns', 20)\n",
    "pandas.set_option('display.max_rows', 50)\n",
    "\n",
    "from decimal import getcontext, Decimal\n",
    "# Set the precision.\n",
    "getcontext().prec = 2"
   ]
  },
  {
   "cell_type": "code",
   "execution_count": 153,
   "metadata": {
    "collapsed": false
   },
   "outputs": [],
   "source": [
    "dm = pandas.read_csv('shots.csv')\n",
    "dm = dm[(dm['advantagetypeshooter']=='EV')] \n",
    "dm = dm[dm['zone']==\"O\"]"
   ]
  },
  {
   "cell_type": "code",
   "execution_count": 154,
   "metadata": {
    "collapsed": false
   },
   "outputs": [
    {
     "data": {
      "text/html": [
       "<div>\n",
       "<table border=\"1\" class=\"dataframe\">\n",
       "  <thead>\n",
       "    <tr style=\"text-align: right;\">\n",
       "      <th></th>\n",
       "      <th>season</th>\n",
       "      <th>gamenumber</th>\n",
       "      <th>gamedate</th>\n",
       "      <th>vteamcode</th>\n",
       "      <th>hteamcode</th>\n",
       "      <th>eventnumber</th>\n",
       "      <th>period</th>\n",
       "      <th>eventtimefromzero</th>\n",
       "      <th>advantagetypeshooter</th>\n",
       "      <th>advantagetypegoalie</th>\n",
       "      <th>...</th>\n",
       "      <th>position</th>\n",
       "      <th>namegoalie</th>\n",
       "      <th>tgoals</th>\n",
       "      <th>ogoals</th>\n",
       "      <th>zone</th>\n",
       "      <th>X</th>\n",
       "      <th>Y</th>\n",
       "      <th>XNorm</th>\n",
       "      <th>YNorm</th>\n",
       "      <th>shotType</th>\n",
       "    </tr>\n",
       "  </thead>\n",
       "  <tbody>\n",
       "    <tr>\n",
       "      <th>0</th>\n",
       "      <td>2011</td>\n",
       "      <td>20001</td>\n",
       "      <td>10/6/2011</td>\n",
       "      <td>PHI</td>\n",
       "      <td>BOS</td>\n",
       "      <td>4</td>\n",
       "      <td>1</td>\n",
       "      <td>47</td>\n",
       "      <td>EV</td>\n",
       "      <td>EV</td>\n",
       "      <td>...</td>\n",
       "      <td>G</td>\n",
       "      <td>BRYZGALOV_ILYA</td>\n",
       "      <td>0</td>\n",
       "      <td>0</td>\n",
       "      <td>O</td>\n",
       "      <td>32</td>\n",
       "      <td>-14</td>\n",
       "      <td>32</td>\n",
       "      <td>-14</td>\n",
       "      <td>Snap</td>\n",
       "    </tr>\n",
       "    <tr>\n",
       "      <th>1</th>\n",
       "      <td>2011</td>\n",
       "      <td>20001</td>\n",
       "      <td>10/6/2011</td>\n",
       "      <td>PHI</td>\n",
       "      <td>BOS</td>\n",
       "      <td>9</td>\n",
       "      <td>1</td>\n",
       "      <td>114</td>\n",
       "      <td>EV</td>\n",
       "      <td>EV</td>\n",
       "      <td>...</td>\n",
       "      <td>G</td>\n",
       "      <td>BRYZGALOV_ILYA</td>\n",
       "      <td>0</td>\n",
       "      <td>0</td>\n",
       "      <td>O</td>\n",
       "      <td>37</td>\n",
       "      <td>-18</td>\n",
       "      <td>37</td>\n",
       "      <td>-18</td>\n",
       "      <td>Snap</td>\n",
       "    </tr>\n",
       "    <tr>\n",
       "      <th>2</th>\n",
       "      <td>2011</td>\n",
       "      <td>20001</td>\n",
       "      <td>10/6/2011</td>\n",
       "      <td>PHI</td>\n",
       "      <td>BOS</td>\n",
       "      <td>14</td>\n",
       "      <td>1</td>\n",
       "      <td>138</td>\n",
       "      <td>EV</td>\n",
       "      <td>EV</td>\n",
       "      <td>...</td>\n",
       "      <td>G</td>\n",
       "      <td>THOMAS_TIM</td>\n",
       "      <td>0</td>\n",
       "      <td>0</td>\n",
       "      <td>O</td>\n",
       "      <td>-50</td>\n",
       "      <td>7</td>\n",
       "      <td>50</td>\n",
       "      <td>-7</td>\n",
       "      <td>Snap</td>\n",
       "    </tr>\n",
       "    <tr>\n",
       "      <th>3</th>\n",
       "      <td>2011</td>\n",
       "      <td>20001</td>\n",
       "      <td>10/6/2011</td>\n",
       "      <td>PHI</td>\n",
       "      <td>BOS</td>\n",
       "      <td>25</td>\n",
       "      <td>1</td>\n",
       "      <td>249</td>\n",
       "      <td>EV</td>\n",
       "      <td>EV</td>\n",
       "      <td>...</td>\n",
       "      <td>G</td>\n",
       "      <td>THOMAS_TIM</td>\n",
       "      <td>0</td>\n",
       "      <td>0</td>\n",
       "      <td>O</td>\n",
       "      <td>-48</td>\n",
       "      <td>-5</td>\n",
       "      <td>48</td>\n",
       "      <td>5</td>\n",
       "      <td>Slap</td>\n",
       "    </tr>\n",
       "    <tr>\n",
       "      <th>4</th>\n",
       "      <td>2011</td>\n",
       "      <td>20001</td>\n",
       "      <td>10/6/2011</td>\n",
       "      <td>PHI</td>\n",
       "      <td>BOS</td>\n",
       "      <td>29</td>\n",
       "      <td>1</td>\n",
       "      <td>297</td>\n",
       "      <td>EV</td>\n",
       "      <td>EV</td>\n",
       "      <td>...</td>\n",
       "      <td>G</td>\n",
       "      <td>BRYZGALOV_ILYA</td>\n",
       "      <td>0</td>\n",
       "      <td>0</td>\n",
       "      <td>O</td>\n",
       "      <td>39</td>\n",
       "      <td>-1</td>\n",
       "      <td>39</td>\n",
       "      <td>-1</td>\n",
       "      <td>Wrist</td>\n",
       "    </tr>\n",
       "  </tbody>\n",
       "</table>\n",
       "<p>5 rows × 25 columns</p>\n",
       "</div>"
      ],
      "text/plain": [
       "   season  gamenumber   gamedate vteamcode hteamcode  eventnumber  period  \\\n",
       "0    2011       20001  10/6/2011       PHI       BOS            4       1   \n",
       "1    2011       20001  10/6/2011       PHI       BOS            9       1   \n",
       "2    2011       20001  10/6/2011       PHI       BOS           14       1   \n",
       "3    2011       20001  10/6/2011       PHI       BOS           25       1   \n",
       "4    2011       20001  10/6/2011       PHI       BOS           29       1   \n",
       "\n",
       "   eventtimefromzero advantagetypeshooter advantagetypegoalie   ...     \\\n",
       "0                 47                   EV                  EV   ...      \n",
       "1                114                   EV                  EV   ...      \n",
       "2                138                   EV                  EV   ...      \n",
       "3                249                   EV                  EV   ...      \n",
       "4                297                   EV                  EV   ...      \n",
       "\n",
       "  position      namegoalie  tgoals ogoals  zone   X   Y  XNorm  YNorm shotType  \n",
       "0        G  BRYZGALOV_ILYA       0      0     O  32 -14     32    -14     Snap  \n",
       "1        G  BRYZGALOV_ILYA       0      0     O  37 -18     37    -18     Snap  \n",
       "2        G      THOMAS_TIM       0      0     O -50   7     50     -7     Snap  \n",
       "3        G      THOMAS_TIM       0      0     O -48  -5     48      5     Slap  \n",
       "4        G  BRYZGALOV_ILYA       0      0     O  39  -1     39     -1    Wrist  \n",
       "\n",
       "[5 rows x 25 columns]"
      ]
     },
     "execution_count": 154,
     "metadata": {},
     "output_type": "execute_result"
    }
   ],
   "source": [
    "dm.head()"
   ]
  },
  {
   "cell_type": "code",
   "execution_count": 155,
   "metadata": {
    "collapsed": false
   },
   "outputs": [
    {
     "data": {
      "text/html": [
       "<div>\n",
       "<table border=\"1\" class=\"dataframe\">\n",
       "  <thead>\n",
       "    <tr style=\"text-align: right;\">\n",
       "      <th></th>\n",
       "      <th>season</th>\n",
       "      <th>gamenumber</th>\n",
       "      <th>eventnumber</th>\n",
       "      <th>period</th>\n",
       "      <th>eventtimefromzero</th>\n",
       "      <th>isTHome</th>\n",
       "      <th>playernumber</th>\n",
       "      <th>tgoals</th>\n",
       "      <th>ogoals</th>\n",
       "      <th>X</th>\n",
       "      <th>Y</th>\n",
       "      <th>XNorm</th>\n",
       "      <th>YNorm</th>\n",
       "    </tr>\n",
       "  </thead>\n",
       "  <tbody>\n",
       "    <tr>\n",
       "      <th>count</th>\n",
       "      <td>57186.0</td>\n",
       "      <td>57186.000000</td>\n",
       "      <td>57186.000000</td>\n",
       "      <td>57186.000000</td>\n",
       "      <td>57186.00000</td>\n",
       "      <td>57186.000000</td>\n",
       "      <td>57186.000000</td>\n",
       "      <td>57186.000000</td>\n",
       "      <td>57186.000000</td>\n",
       "      <td>57186.000000</td>\n",
       "      <td>57186.000000</td>\n",
       "      <td>57186.000000</td>\n",
       "      <td>57186.000000</td>\n",
       "    </tr>\n",
       "    <tr>\n",
       "      <th>mean</th>\n",
       "      <td>2011.0</td>\n",
       "      <td>20621.982094</td>\n",
       "      <td>154.552303</td>\n",
       "      <td>2.034432</td>\n",
       "      <td>584.16901</td>\n",
       "      <td>0.485433</td>\n",
       "      <td>29.926486</td>\n",
       "      <td>1.304480</td>\n",
       "      <td>1.180569</td>\n",
       "      <td>0.264016</td>\n",
       "      <td>-0.178663</td>\n",
       "      <td>62.067604</td>\n",
       "      <td>-0.376613</td>\n",
       "    </tr>\n",
       "    <tr>\n",
       "      <th>std</th>\n",
       "      <td>0.0</td>\n",
       "      <td>354.047357</td>\n",
       "      <td>89.652301</td>\n",
       "      <td>0.850648</td>\n",
       "      <td>346.91897</td>\n",
       "      <td>0.499792</td>\n",
       "      <td>13.608431</td>\n",
       "      <td>1.364192</td>\n",
       "      <td>1.280953</td>\n",
       "      <td>64.288069</td>\n",
       "      <td>19.317856</td>\n",
       "      <td>16.750245</td>\n",
       "      <td>19.315011</td>\n",
       "    </tr>\n",
       "    <tr>\n",
       "      <th>min</th>\n",
       "      <td>2011.0</td>\n",
       "      <td>20001.000000</td>\n",
       "      <td>3.000000</td>\n",
       "      <td>1.000000</td>\n",
       "      <td>4.00000</td>\n",
       "      <td>0.000000</td>\n",
       "      <td>1.000000</td>\n",
       "      <td>0.000000</td>\n",
       "      <td>0.000000</td>\n",
       "      <td>-99.000000</td>\n",
       "      <td>-42.000000</td>\n",
       "      <td>26.000000</td>\n",
       "      <td>-42.000000</td>\n",
       "    </tr>\n",
       "    <tr>\n",
       "      <th>25%</th>\n",
       "      <td>2011.0</td>\n",
       "      <td>20318.000000</td>\n",
       "      <td>77.000000</td>\n",
       "      <td>1.000000</td>\n",
       "      <td>277.00000</td>\n",
       "      <td>0.000000</td>\n",
       "      <td>30.000000</td>\n",
       "      <td>0.000000</td>\n",
       "      <td>0.000000</td>\n",
       "      <td>-64.000000</td>\n",
       "      <td>-15.000000</td>\n",
       "      <td>49.000000</td>\n",
       "      <td>-15.000000</td>\n",
       "    </tr>\n",
       "    <tr>\n",
       "      <th>50%</th>\n",
       "      <td>2011.0</td>\n",
       "      <td>20625.000000</td>\n",
       "      <td>154.000000</td>\n",
       "      <td>2.000000</td>\n",
       "      <td>573.00000</td>\n",
       "      <td>0.000000</td>\n",
       "      <td>31.000000</td>\n",
       "      <td>1.000000</td>\n",
       "      <td>1.000000</td>\n",
       "      <td>28.000000</td>\n",
       "      <td>0.000000</td>\n",
       "      <td>64.000000</td>\n",
       "      <td>-1.000000</td>\n",
       "    </tr>\n",
       "    <tr>\n",
       "      <th>75%</th>\n",
       "      <td>2011.0</td>\n",
       "      <td>20928.000000</td>\n",
       "      <td>229.000000</td>\n",
       "      <td>3.000000</td>\n",
       "      <td>885.00000</td>\n",
       "      <td>1.000000</td>\n",
       "      <td>35.000000</td>\n",
       "      <td>2.000000</td>\n",
       "      <td>2.000000</td>\n",
       "      <td>64.000000</td>\n",
       "      <td>14.000000</td>\n",
       "      <td>77.000000</td>\n",
       "      <td>14.000000</td>\n",
       "    </tr>\n",
       "    <tr>\n",
       "      <th>max</th>\n",
       "      <td>2011.0</td>\n",
       "      <td>21230.000000</td>\n",
       "      <td>392.000000</td>\n",
       "      <td>4.000000</td>\n",
       "      <td>1200.00000</td>\n",
       "      <td>1.000000</td>\n",
       "      <td>70.000000</td>\n",
       "      <td>9.000000</td>\n",
       "      <td>9.000000</td>\n",
       "      <td>97.000000</td>\n",
       "      <td>42.000000</td>\n",
       "      <td>99.000000</td>\n",
       "      <td>42.000000</td>\n",
       "    </tr>\n",
       "  </tbody>\n",
       "</table>\n",
       "</div>"
      ],
      "text/plain": [
       "        season    gamenumber   eventnumber        period  eventtimefromzero  \\\n",
       "count  57186.0  57186.000000  57186.000000  57186.000000        57186.00000   \n",
       "mean    2011.0  20621.982094    154.552303      2.034432          584.16901   \n",
       "std        0.0    354.047357     89.652301      0.850648          346.91897   \n",
       "min     2011.0  20001.000000      3.000000      1.000000            4.00000   \n",
       "25%     2011.0  20318.000000     77.000000      1.000000          277.00000   \n",
       "50%     2011.0  20625.000000    154.000000      2.000000          573.00000   \n",
       "75%     2011.0  20928.000000    229.000000      3.000000          885.00000   \n",
       "max     2011.0  21230.000000    392.000000      4.000000         1200.00000   \n",
       "\n",
       "            isTHome  playernumber        tgoals        ogoals             X  \\\n",
       "count  57186.000000  57186.000000  57186.000000  57186.000000  57186.000000   \n",
       "mean       0.485433     29.926486      1.304480      1.180569      0.264016   \n",
       "std        0.499792     13.608431      1.364192      1.280953     64.288069   \n",
       "min        0.000000      1.000000      0.000000      0.000000    -99.000000   \n",
       "25%        0.000000     30.000000      0.000000      0.000000    -64.000000   \n",
       "50%        0.000000     31.000000      1.000000      1.000000     28.000000   \n",
       "75%        1.000000     35.000000      2.000000      2.000000     64.000000   \n",
       "max        1.000000     70.000000      9.000000      9.000000     97.000000   \n",
       "\n",
       "                  Y         XNorm         YNorm  \n",
       "count  57186.000000  57186.000000  57186.000000  \n",
       "mean      -0.178663     62.067604     -0.376613  \n",
       "std       19.317856     16.750245     19.315011  \n",
       "min      -42.000000     26.000000    -42.000000  \n",
       "25%      -15.000000     49.000000    -15.000000  \n",
       "50%        0.000000     64.000000     -1.000000  \n",
       "75%       14.000000     77.000000     14.000000  \n",
       "max       42.000000     99.000000     42.000000  "
      ]
     },
     "execution_count": 155,
     "metadata": {},
     "output_type": "execute_result"
    }
   ],
   "source": [
    "dm.describe()"
   ]
  },
  {
   "cell_type": "code",
   "execution_count": 156,
   "metadata": {
    "collapsed": false
   },
   "outputs": [
    {
     "data": {
      "text/html": [
       "<div>\n",
       "<table border=\"1\" class=\"dataframe\">\n",
       "  <thead>\n",
       "    <tr style=\"text-align: right;\">\n",
       "      <th></th>\n",
       "      <th></th>\n",
       "      <th>XNorm</th>\n",
       "      <th>YNorm</th>\n",
       "    </tr>\n",
       "    <tr>\n",
       "      <th>eventtype</th>\n",
       "      <th></th>\n",
       "      <th></th>\n",
       "      <th></th>\n",
       "    </tr>\n",
       "  </thead>\n",
       "  <tbody>\n",
       "    <tr>\n",
       "      <th rowspan=\"8\" valign=\"top\">GOAL</th>\n",
       "      <th>count</th>\n",
       "      <td>4678.000000</td>\n",
       "      <td>4678.000000</td>\n",
       "    </tr>\n",
       "    <tr>\n",
       "      <th>mean</th>\n",
       "      <td>70.962591</td>\n",
       "      <td>-0.132535</td>\n",
       "    </tr>\n",
       "    <tr>\n",
       "      <th>std</th>\n",
       "      <td>13.088705</td>\n",
       "      <td>12.242820</td>\n",
       "    </tr>\n",
       "    <tr>\n",
       "      <th>min</th>\n",
       "      <td>27.000000</td>\n",
       "      <td>-39.000000</td>\n",
       "    </tr>\n",
       "    <tr>\n",
       "      <th>25%</th>\n",
       "      <td>64.000000</td>\n",
       "      <td>-6.000000</td>\n",
       "    </tr>\n",
       "    <tr>\n",
       "      <th>50%</th>\n",
       "      <td>75.000000</td>\n",
       "      <td>0.000000</td>\n",
       "    </tr>\n",
       "    <tr>\n",
       "      <th>75%</th>\n",
       "      <td>81.000000</td>\n",
       "      <td>6.000000</td>\n",
       "    </tr>\n",
       "    <tr>\n",
       "      <th>max</th>\n",
       "      <td>97.000000</td>\n",
       "      <td>40.000000</td>\n",
       "    </tr>\n",
       "    <tr>\n",
       "      <th rowspan=\"8\" valign=\"top\">SHOT</th>\n",
       "      <th>count</th>\n",
       "      <td>52508.000000</td>\n",
       "      <td>52508.000000</td>\n",
       "    </tr>\n",
       "    <tr>\n",
       "      <th>mean</th>\n",
       "      <td>61.275139</td>\n",
       "      <td>-0.398358</td>\n",
       "    </tr>\n",
       "    <tr>\n",
       "      <th>std</th>\n",
       "      <td>16.811628</td>\n",
       "      <td>19.822985</td>\n",
       "    </tr>\n",
       "    <tr>\n",
       "      <th>min</th>\n",
       "      <td>26.000000</td>\n",
       "      <td>-42.000000</td>\n",
       "    </tr>\n",
       "    <tr>\n",
       "      <th>25%</th>\n",
       "      <td>48.000000</td>\n",
       "      <td>-16.000000</td>\n",
       "    </tr>\n",
       "    <tr>\n",
       "      <th>50%</th>\n",
       "      <td>63.000000</td>\n",
       "      <td>-1.000000</td>\n",
       "    </tr>\n",
       "    <tr>\n",
       "      <th>75%</th>\n",
       "      <td>77.000000</td>\n",
       "      <td>15.000000</td>\n",
       "    </tr>\n",
       "    <tr>\n",
       "      <th>max</th>\n",
       "      <td>99.000000</td>\n",
       "      <td>42.000000</td>\n",
       "    </tr>\n",
       "  </tbody>\n",
       "</table>\n",
       "</div>"
      ],
      "text/plain": [
       "                        XNorm         YNorm\n",
       "eventtype                                  \n",
       "GOAL      count   4678.000000   4678.000000\n",
       "          mean      70.962591     -0.132535\n",
       "          std       13.088705     12.242820\n",
       "          min       27.000000    -39.000000\n",
       "          25%       64.000000     -6.000000\n",
       "          50%       75.000000      0.000000\n",
       "          75%       81.000000      6.000000\n",
       "          max       97.000000     40.000000\n",
       "SHOT      count  52508.000000  52508.000000\n",
       "          mean      61.275139     -0.398358\n",
       "          std       16.811628     19.822985\n",
       "          min       26.000000    -42.000000\n",
       "          25%       48.000000    -16.000000\n",
       "          50%       63.000000     -1.000000\n",
       "          75%       77.000000     15.000000\n",
       "          max       99.000000     42.000000"
      ]
     },
     "execution_count": 156,
     "metadata": {},
     "output_type": "execute_result"
    }
   ],
   "source": [
    "dm.groupby(['eventtype'])[['XNorm', 'YNorm']].describe()"
   ]
  },
  {
   "cell_type": "code",
   "execution_count": 157,
   "metadata": {
    "collapsed": false
   },
   "outputs": [
    {
     "data": {
      "text/html": [
       "<div>\n",
       "<table border=\"1\" class=\"dataframe\">\n",
       "  <thead>\n",
       "    <tr style=\"text-align: right;\">\n",
       "      <th>eventtype</th>\n",
       "      <th>GOAL</th>\n",
       "      <th>SHOT</th>\n",
       "      <th>All</th>\n",
       "    </tr>\n",
       "    <tr>\n",
       "      <th>shotType</th>\n",
       "      <th></th>\n",
       "      <th></th>\n",
       "      <th></th>\n",
       "    </tr>\n",
       "  </thead>\n",
       "  <tbody>\n",
       "    <tr>\n",
       "      <th>Backhand</th>\n",
       "      <td>513</td>\n",
       "      <td>4709</td>\n",
       "      <td>5222</td>\n",
       "    </tr>\n",
       "    <tr>\n",
       "      <th>Deflected</th>\n",
       "      <td>172</td>\n",
       "      <td>701</td>\n",
       "      <td>873</td>\n",
       "    </tr>\n",
       "    <tr>\n",
       "      <th>Slap</th>\n",
       "      <td>545</td>\n",
       "      <td>10716</td>\n",
       "      <td>11261</td>\n",
       "    </tr>\n",
       "    <tr>\n",
       "      <th>Snap</th>\n",
       "      <td>681</td>\n",
       "      <td>7574</td>\n",
       "      <td>8255</td>\n",
       "    </tr>\n",
       "    <tr>\n",
       "      <th>Tip-In</th>\n",
       "      <td>432</td>\n",
       "      <td>1927</td>\n",
       "      <td>2359</td>\n",
       "    </tr>\n",
       "    <tr>\n",
       "      <th>Wrap-around</th>\n",
       "      <td>49</td>\n",
       "      <td>897</td>\n",
       "      <td>946</td>\n",
       "    </tr>\n",
       "    <tr>\n",
       "      <th>Wrist</th>\n",
       "      <td>2286</td>\n",
       "      <td>25984</td>\n",
       "      <td>28270</td>\n",
       "    </tr>\n",
       "    <tr>\n",
       "      <th>All</th>\n",
       "      <td>4678</td>\n",
       "      <td>52508</td>\n",
       "      <td>57186</td>\n",
       "    </tr>\n",
       "  </tbody>\n",
       "</table>\n",
       "</div>"
      ],
      "text/plain": [
       "eventtype    GOAL   SHOT    All\n",
       "shotType                       \n",
       "Backhand      513   4709   5222\n",
       "Deflected     172    701    873\n",
       "Slap          545  10716  11261\n",
       "Snap          681   7574   8255\n",
       "Tip-In        432   1927   2359\n",
       "Wrap-around    49    897    946\n",
       "Wrist        2286  25984  28270\n",
       "All          4678  52508  57186"
      ]
     },
     "execution_count": 157,
     "metadata": {},
     "output_type": "execute_result"
    }
   ],
   "source": [
    "pandas.crosstab(dm['shotType'], dm['eventtype'], margins=True)"
   ]
  },
  {
   "cell_type": "markdown",
   "metadata": {},
   "source": [
    "Create Variables"
   ]
  },
  {
   "cell_type": "code",
   "execution_count": 158,
   "metadata": {
    "collapsed": false
   },
   "outputs": [
    {
     "data": {
      "text/html": [
       "<div>\n",
       "<table border=\"1\" class=\"dataframe\">\n",
       "  <thead>\n",
       "    <tr style=\"text-align: right;\">\n",
       "      <th></th>\n",
       "      <th></th>\n",
       "      <th>XNormAdj</th>\n",
       "      <th>YNorm</th>\n",
       "    </tr>\n",
       "    <tr>\n",
       "      <th>eventtype</th>\n",
       "      <th></th>\n",
       "      <th></th>\n",
       "      <th></th>\n",
       "    </tr>\n",
       "  </thead>\n",
       "  <tbody>\n",
       "    <tr>\n",
       "      <th rowspan=\"8\" valign=\"top\">GOAL</th>\n",
       "      <th>count</th>\n",
       "      <td>4678.000000</td>\n",
       "      <td>4678.000000</td>\n",
       "    </tr>\n",
       "    <tr>\n",
       "      <th>mean</th>\n",
       "      <td>28.037409</td>\n",
       "      <td>-0.132535</td>\n",
       "    </tr>\n",
       "    <tr>\n",
       "      <th>std</th>\n",
       "      <td>13.088705</td>\n",
       "      <td>12.242820</td>\n",
       "    </tr>\n",
       "    <tr>\n",
       "      <th>min</th>\n",
       "      <td>2.000000</td>\n",
       "      <td>-39.000000</td>\n",
       "    </tr>\n",
       "    <tr>\n",
       "      <th>25%</th>\n",
       "      <td>18.000000</td>\n",
       "      <td>-6.000000</td>\n",
       "    </tr>\n",
       "    <tr>\n",
       "      <th>50%</th>\n",
       "      <td>24.000000</td>\n",
       "      <td>0.000000</td>\n",
       "    </tr>\n",
       "    <tr>\n",
       "      <th>75%</th>\n",
       "      <td>35.000000</td>\n",
       "      <td>6.000000</td>\n",
       "    </tr>\n",
       "    <tr>\n",
       "      <th>max</th>\n",
       "      <td>72.000000</td>\n",
       "      <td>40.000000</td>\n",
       "    </tr>\n",
       "    <tr>\n",
       "      <th rowspan=\"8\" valign=\"top\">SHOT</th>\n",
       "      <th>count</th>\n",
       "      <td>52508.000000</td>\n",
       "      <td>52508.000000</td>\n",
       "    </tr>\n",
       "    <tr>\n",
       "      <th>mean</th>\n",
       "      <td>37.724861</td>\n",
       "      <td>-0.398358</td>\n",
       "    </tr>\n",
       "    <tr>\n",
       "      <th>std</th>\n",
       "      <td>16.811628</td>\n",
       "      <td>19.822985</td>\n",
       "    </tr>\n",
       "    <tr>\n",
       "      <th>min</th>\n",
       "      <td>0.000000</td>\n",
       "      <td>-42.000000</td>\n",
       "    </tr>\n",
       "    <tr>\n",
       "      <th>25%</th>\n",
       "      <td>22.000000</td>\n",
       "      <td>-16.000000</td>\n",
       "    </tr>\n",
       "    <tr>\n",
       "      <th>50%</th>\n",
       "      <td>36.000000</td>\n",
       "      <td>-1.000000</td>\n",
       "    </tr>\n",
       "    <tr>\n",
       "      <th>75%</th>\n",
       "      <td>51.000000</td>\n",
       "      <td>15.000000</td>\n",
       "    </tr>\n",
       "    <tr>\n",
       "      <th>max</th>\n",
       "      <td>73.000000</td>\n",
       "      <td>42.000000</td>\n",
       "    </tr>\n",
       "  </tbody>\n",
       "</table>\n",
       "</div>"
      ],
      "text/plain": [
       "                     XNormAdj         YNorm\n",
       "eventtype                                  \n",
       "GOAL      count   4678.000000   4678.000000\n",
       "          mean      28.037409     -0.132535\n",
       "          std       13.088705     12.242820\n",
       "          min        2.000000    -39.000000\n",
       "          25%       18.000000     -6.000000\n",
       "          50%       24.000000      0.000000\n",
       "          75%       35.000000      6.000000\n",
       "          max       72.000000     40.000000\n",
       "SHOT      count  52508.000000  52508.000000\n",
       "          mean      37.724861     -0.398358\n",
       "          std       16.811628     19.822985\n",
       "          min        0.000000    -42.000000\n",
       "          25%       22.000000    -16.000000\n",
       "          50%       36.000000     -1.000000\n",
       "          75%       51.000000     15.000000\n",
       "          max       73.000000     42.000000"
      ]
     },
     "execution_count": 158,
     "metadata": {},
     "output_type": "execute_result"
    }
   ],
   "source": [
    "dm['isgoal'] = dm['eventtype']=='GOAL'\n",
    "dm['XNormAdj'] = 99 - dm['XNorm']\n",
    "dm.groupby(['eventtype'])[['XNormAdj', 'YNorm']].describe()"
   ]
  },
  {
   "cell_type": "code",
   "execution_count": 159,
   "metadata": {
    "collapsed": true
   },
   "outputs": [],
   "source": [
    "dm['XNormAdj'] = dm['XNormAdj'] + 1\n",
    "dm['YNormAdj'] = numpy.absolute(dm['YNorm'])\n",
    "dm['YNormAdj'] = dm['YNormAdj'] + 1\n",
    "\n",
    "dm['lnX'] = numpy.log(dm['XNormAdj'])\n",
    "dm['lnY'] = numpy.log(dm['YNormAdj'])\n",
    "\n",
    "dm['dscore'] = dm['tgoals'] - dm['ogoals']\n",
    "dm['oteamcode'] = dm.apply(lambda x: 1 if (x['teamcode'] == x['hteamcode']) else x['vteamcode'], axis=1)"
   ]
  },
  {
   "cell_type": "code",
   "execution_count": 160,
   "metadata": {
    "collapsed": true
   },
   "outputs": [],
   "source": [
    "ss = dm[dm['shotType']=='Slap']\n",
    "bh = dm[dm['shotType']=='Backhand']\n",
    "ws = dm[dm['shotType']=='Wrist']"
   ]
  },
  {
   "cell_type": "code",
   "execution_count": 161,
   "metadata": {
    "collapsed": false
   },
   "outputs": [
    {
     "data": {
      "image/png": "[encoded data removed]",
      "text/plain": [
       "<matplotlib.figure.Figure at 0xd130e10>"
      ]
     },
     "metadata": {},
     "output_type": "display_data"
    }
   ],
   "source": [
    "dg = ss[ss['eventtype']=='GOAL']\n",
    "\n",
    "plt.hist2d(dg['XNormAdj'], dg['YNorm'],bins=30)\n",
    "plt.show()"
   ]
  },
  {
   "cell_type": "code",
   "execution_count": 162,
   "metadata": {
    "collapsed": false
   },
   "outputs": [
    {
     "data": {
      "image/png": "[encoded data removed]",
      "text/plain": [
       "<matplotlib.figure.Figure at 0xbc76c88>"
      ]
     },
     "metadata": {},
     "output_type": "display_data"
    }
   ],
   "source": [
    "dg = bh[bh['eventtype']=='GOAL']\n",
    "\n",
    "plt.hist2d(dg['XNormAdj'], dg['YNorm'],bins=30)\n",
    "plt.show()"
   ]
  },
  {
   "cell_type": "markdown",
   "metadata": {},
   "source": [
    "Logit model estimation and predictions\n",
    "\n",
    "    * m1: length\n",
    "    * m2: width\n",
    "    * m3: length and width"
   ]
  },
  {
   "cell_type": "markdown",
   "metadata": {},
   "source": [
    "\n",
    "$$ p_i = \\frac{1}{1+exp(-X'\\beta)}$$\n"
   ]
  },
  {
   "cell_type": "markdown",
   "metadata": {},
   "source": [
    "Model the probability that a shot results in a goal in terms of length."
   ]
  },
  {
   "cell_type": "code",
   "execution_count": 163,
   "metadata": {
    "collapsed": false
   },
   "outputs": [
    {
     "name": "stdout",
     "output_type": "stream",
     "text": [
      "Optimization terminated successfully.\n",
      "         Current function value: 0.189648\n",
      "         Iterations 7\n"
     ]
    },
    {
     "name": "stderr",
     "output_type": "stream",
     "text": [
      "C:\\Users\\Temp\\Anaconda3\\lib\\site-packages\\pandas\\core\\indexing.py:297: SettingWithCopyWarning: \n",
      "A value is trying to be set on a copy of a slice from a DataFrame.\n",
      "Try using .loc[row_indexer,col_indexer] = value instead\n",
      "\n",
      "See the caveats in the documentation: http://pandas.pydata.org/pandas-docs/stable/indexing.html#indexing-view-versus-copy\n",
      "  self.obj[key] = _infer_fill_value(value)\n",
      "C:\\Users\\Temp\\Anaconda3\\lib\\site-packages\\pandas\\core\\indexing.py:477: SettingWithCopyWarning: \n",
      "A value is trying to be set on a copy of a slice from a DataFrame.\n",
      "Try using .loc[row_indexer,col_indexer] = value instead\n",
      "\n",
      "See the caveats in the documentation: http://pandas.pydata.org/pandas-docs/stable/indexing.html#indexing-view-versus-copy\n",
      "  self.obj[item] = s\n"
     ]
    },
    {
     "data": {
      "text/plain": [
       "<matplotlib.axes._subplots.AxesSubplot at 0xbd25f98>"
      ]
     },
     "execution_count": 163,
     "metadata": {},
     "output_type": "execute_result"
    },
    {
     "data": {
      "image/png": "[encoded data removed]",
      "text/plain": [
       "<matplotlib.figure.Figure at 0xfdab828>"
      ]
     },
     "metadata": {},
     "output_type": "display_data"
    }
   ],
   "source": [
    "m1 = sm.Logit(ss['isgoal'], sm.add_constant(ss['lnY'])).fit()\n",
    "m1.get_margeff(method='dydx', at='overall').summary()\n",
    "\n",
    "# Generate predicted values and predict results\n",
    "ss.ix[:, 'pgoaly'] = m2.predict()\n",
    "ss.plot(kind='scatter', x='YNormAdj', y='pgoaly')"
   ]
  },
  {
   "cell_type": "code",
   "execution_count": 164,
   "metadata": {
    "collapsed": false
   },
   "outputs": [
    {
     "name": "stdout",
     "output_type": "stream",
     "text": [
      "Optimization terminated successfully.\n",
      "         Current function value: 0.189648\n",
      "         Iterations 7\n"
     ]
    },
    {
     "name": "stderr",
     "output_type": "stream",
     "text": [
      "C:\\Users\\Temp\\Anaconda3\\lib\\site-packages\\pandas\\core\\indexing.py:477: SettingWithCopyWarning: \n",
      "A value is trying to be set on a copy of a slice from a DataFrame.\n",
      "Try using .loc[row_indexer,col_indexer] = value instead\n",
      "\n",
      "See the caveats in the documentation: http://pandas.pydata.org/pandas-docs/stable/indexing.html#indexing-view-versus-copy\n",
      "  self.obj[item] = s\n"
     ]
    },
    {
     "data": {
      "text/plain": [
       "<matplotlib.axes._subplots.AxesSubplot at 0xfd59898>"
      ]
     },
     "execution_count": 164,
     "metadata": {},
     "output_type": "execute_result"
    },
    {
     "data": {
      "image/png": "[encoded data removed]",
      "text/plain": [
       "<matplotlib.figure.Figure at 0xfcc5a20>"
      ]
     },
     "metadata": {},
     "output_type": "display_data"
    }
   ],
   "source": [
    "m2 = sm.Logit(ss['isgoal'], sm.add_constant(ss['lnY'])).fit()\n",
    "m2.get_margeff(method='dydx', at='overall').summary()\n",
    "\n",
    "# Generate predicted values and predict results\n",
    "ss.ix[:, 'pgoaly'] = m2.predict()\n",
    "ss.plot(kind='scatter', x='YNormAdj', y='pgoaly')"
   ]
  },
  {
   "cell_type": "code",
   "execution_count": 165,
   "metadata": {
    "collapsed": false
   },
   "outputs": [
    {
     "name": "stdout",
     "output_type": "stream",
     "text": [
      "Optimization terminated successfully.\n",
      "         Current function value: 0.185000\n",
      "         Iterations 7\n"
     ]
    },
    {
     "name": "stderr",
     "output_type": "stream",
     "text": [
      "C:\\Users\\Temp\\Anaconda3\\lib\\site-packages\\pandas\\core\\indexing.py:297: SettingWithCopyWarning: \n",
      "A value is trying to be set on a copy of a slice from a DataFrame.\n",
      "Try using .loc[row_indexer,col_indexer] = value instead\n",
      "\n",
      "See the caveats in the documentation: http://pandas.pydata.org/pandas-docs/stable/indexing.html#indexing-view-versus-copy\n",
      "  self.obj[key] = _infer_fill_value(value)\n",
      "C:\\Users\\Temp\\Anaconda3\\lib\\site-packages\\pandas\\core\\indexing.py:477: SettingWithCopyWarning: \n",
      "A value is trying to be set on a copy of a slice from a DataFrame.\n",
      "Try using .loc[row_indexer,col_indexer] = value instead\n",
      "\n",
      "See the caveats in the documentation: http://pandas.pydata.org/pandas-docs/stable/indexing.html#indexing-view-versus-copy\n",
      "  self.obj[item] = s\n"
     ]
    }
   ],
   "source": [
    "m3 = sm.Logit(ss['isgoal'], sm.add_constant(ss[['lnX', 'lnY']])).fit()\n",
    "m3.get_margeff(method='dydx', at='overall').summary()\n",
    "ss.ix[:, 'pgoal'] = m3.predict()"
   ]
  },
  {
   "cell_type": "markdown",
   "metadata": {},
   "source": [
    "Slap Analysis\n",
    "\n",
    "Width and Length drive down goals of slapshot, however slapshots are generally taken from furthr distances. Slapshots can be scored from many more vantage points that backhand shots as exhibited below in the Backhand analysis and the above heatmap."
   ]
  },
  {
   "cell_type": "markdown",
   "metadata": {},
   "source": [
    "Backhand shots"
   ]
  },
  {
   "cell_type": "code",
   "execution_count": 166,
   "metadata": {
    "collapsed": false
   },
   "outputs": [
    {
     "name": "stdout",
     "output_type": "stream",
     "text": [
      "Optimization terminated successfully.\n",
      "         Current function value: 0.317752\n",
      "         Iterations 7\n"
     ]
    },
    {
     "name": "stderr",
     "output_type": "stream",
     "text": [
      "C:\\Users\\Temp\\Anaconda3\\lib\\site-packages\\pandas\\core\\indexing.py:297: SettingWithCopyWarning: \n",
      "A value is trying to be set on a copy of a slice from a DataFrame.\n",
      "Try using .loc[row_indexer,col_indexer] = value instead\n",
      "\n",
      "See the caveats in the documentation: http://pandas.pydata.org/pandas-docs/stable/indexing.html#indexing-view-versus-copy\n",
      "  self.obj[key] = _infer_fill_value(value)\n",
      "C:\\Users\\Temp\\Anaconda3\\lib\\site-packages\\pandas\\core\\indexing.py:477: SettingWithCopyWarning: \n",
      "A value is trying to be set on a copy of a slice from a DataFrame.\n",
      "Try using .loc[row_indexer,col_indexer] = value instead\n",
      "\n",
      "See the caveats in the documentation: http://pandas.pydata.org/pandas-docs/stable/indexing.html#indexing-view-versus-copy\n",
      "  self.obj[item] = s\n"
     ]
    },
    {
     "data": {
      "text/plain": [
       "<matplotlib.axes._subplots.AxesSubplot at 0xfe95b70>"
      ]
     },
     "execution_count": 166,
     "metadata": {},
     "output_type": "execute_result"
    },
    {
     "data": {
      "image/png": "[encoded data removed]",
      "text/plain": [
       "<matplotlib.figure.Figure at 0xd1ee080>"
      ]
     },
     "metadata": {},
     "output_type": "display_data"
    }
   ],
   "source": [
    "n1 = sm.Logit(bh['isgoal'], sm.add_constant(bh['lnX'])).fit()\n",
    "n1.get_margeff(method='dydx', at='overall').summary()\n",
    "\n",
    "# Generate predicted values and predict results\n",
    "bh.ix[:, 'pgoalx'] = n1.predict()\n",
    "bh.plot(kind='scatter',x='XNormAdj', y='pgoalx')"
   ]
  },
  {
   "cell_type": "code",
   "execution_count": 167,
   "metadata": {
    "collapsed": false
   },
   "outputs": [
    {
     "name": "stdout",
     "output_type": "stream",
     "text": [
      "Optimization terminated successfully.\n",
      "         Current function value: 0.301774\n",
      "         Iterations 7\n"
     ]
    },
    {
     "name": "stderr",
     "output_type": "stream",
     "text": [
      "C:\\Users\\Temp\\Anaconda3\\lib\\site-packages\\pandas\\core\\indexing.py:297: SettingWithCopyWarning: \n",
      "A value is trying to be set on a copy of a slice from a DataFrame.\n",
      "Try using .loc[row_indexer,col_indexer] = value instead\n",
      "\n",
      "See the caveats in the documentation: http://pandas.pydata.org/pandas-docs/stable/indexing.html#indexing-view-versus-copy\n",
      "  self.obj[key] = _infer_fill_value(value)\n",
      "C:\\Users\\Temp\\Anaconda3\\lib\\site-packages\\pandas\\core\\indexing.py:477: SettingWithCopyWarning: \n",
      "A value is trying to be set on a copy of a slice from a DataFrame.\n",
      "Try using .loc[row_indexer,col_indexer] = value instead\n",
      "\n",
      "See the caveats in the documentation: http://pandas.pydata.org/pandas-docs/stable/indexing.html#indexing-view-versus-copy\n",
      "  self.obj[item] = s\n"
     ]
    },
    {
     "data": {
      "text/plain": [
       "<matplotlib.axes._subplots.AxesSubplot at 0xfdf8898>"
      ]
     },
     "execution_count": 167,
     "metadata": {},
     "output_type": "execute_result"
    },
    {
     "data": {
      "image/png": "[encoded data removed]",
      "text/plain": [
       "<matplotlib.figure.Figure at 0xfca4f28>"
      ]
     },
     "metadata": {},
     "output_type": "display_data"
    }
   ],
   "source": [
    "n2 = sm.Logit(bh['isgoal'], sm.add_constant(bh['lnY'])).fit()\n",
    "n2.get_margeff(method='dydx', at='overall').summary()\n",
    "\n",
    "# Generate predicted values and predict results\n",
    "bh.ix[:, 'pgoaly'] = n2.predict()\n",
    "bh.plot(kind='scatter', x='YNormAdj', y='pgoaly')"
   ]
  },
  {
   "cell_type": "code",
   "execution_count": 168,
   "metadata": {
    "collapsed": false,
    "scrolled": true
   },
   "outputs": [
    {
     "name": "stdout",
     "output_type": "stream",
     "text": [
      "Optimization terminated successfully.\n",
      "         Current function value: 0.297700\n",
      "         Iterations 7\n"
     ]
    },
    {
     "name": "stderr",
     "output_type": "stream",
     "text": [
      "C:\\Users\\Temp\\Anaconda3\\lib\\site-packages\\pandas\\core\\indexing.py:297: SettingWithCopyWarning: \n",
      "A value is trying to be set on a copy of a slice from a DataFrame.\n",
      "Try using .loc[row_indexer,col_indexer] = value instead\n",
      "\n",
      "See the caveats in the documentation: http://pandas.pydata.org/pandas-docs/stable/indexing.html#indexing-view-versus-copy\n",
      "  self.obj[key] = _infer_fill_value(value)\n",
      "C:\\Users\\Temp\\Anaconda3\\lib\\site-packages\\pandas\\core\\indexing.py:477: SettingWithCopyWarning: \n",
      "A value is trying to be set on a copy of a slice from a DataFrame.\n",
      "Try using .loc[row_indexer,col_indexer] = value instead\n",
      "\n",
      "See the caveats in the documentation: http://pandas.pydata.org/pandas-docs/stable/indexing.html#indexing-view-versus-copy\n",
      "  self.obj[item] = s\n"
     ]
    }
   ],
   "source": [
    "n3 = sm.Logit(bh['isgoal'], sm.add_constant(bh[['lnX', 'lnY']])).fit()\n",
    "n3.get_margeff(method='dydx', at='overall').summary()\n",
    "bh.ix[:, 'pgoal'] = n3.predict()"
   ]
  },
  {
   "cell_type": "markdown",
   "metadata": {},
   "source": [
    "Backhand Analysis\n",
    "\n",
    "#Plot shows that each increase in length and width drove down probablity of a backhand shot being a goal - All shots within 5 feet had voer a 10 percent chance of being a goal. As a sport manager this advises me that backhands should only really be taken when tithin 10 feet of net."
   ]
  },
  {
   "cell_type": "code",
   "execution_count": null,
   "metadata": {
    "collapsed": true
   },
   "outputs": [],
   "source": []
  }
 ],
 "metadata": {
  "anaconda-cloud": {},
  "kernelspec": {
   "display_name": "Python 3",
   "language": "python",
   "name": "python3"
  },
  "language_info": {
   "codemirror_mode": {
    "name": "ipython",
    "version": 3
   },
   "file_extension": ".py",
   "mimetype": "text/x-python",
   "name": "python",
   "nbconvert_exporter": "python",
   "pygments_lexer": "ipython3",
   "version": "3.6.0"
  }
 },
 "nbformat": 4,
 "nbformat_minor": 2
}
