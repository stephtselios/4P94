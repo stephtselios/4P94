{
 "cells": [
  {
   "cell_type": "markdown",
   "metadata": {
    "collapsed": true
   },
   "source": [
    "# Practice: Pythagorian expected winning percentage"
   ]
  },
  {
   "cell_type": "code",
   "execution_count": 1,
   "metadata": {
    "collapsed": true
   },
   "outputs": [],
   "source": [
    "%matplotlib inline\n",
    "import os\n",
    "import sys\n",
    "import pandas\n",
    "import numpy\n",
    "import matplotlib\n",
    "import matplotlib.pyplot as plt\n",
    "pandas.set_option('display.notebook_repr_html', False)\n",
    "pandas.set_option('display.max_columns', 20)\n",
    "pandas.set_option('display.max_rows', 25)\n",
    "pandas.set_option('precision',2)\n",
    "\n",
    "from decimal import getcontext, Decimal\n",
    "# Set the precision.\n",
    "getcontext().prec = 3"
   ]
  },
  {
   "cell_type": "code",
   "execution_count": 2,
   "metadata": {
    "collapsed": false
   },
   "outputs": [],
   "source": [
    "dm = pandas.read_csv('nhl_win.csv')"
   ]
  },
  {
   "cell_type": "markdown",
   "metadata": {
    "collapsed": true
   },
   "source": [
    "Generate a column/variable that calculates each team's winning percentage: $winper=\\frac{wins}{GP}$. Ignore overtime losses."
   ]
  },
  {
   "cell_type": "code",
   "execution_count": null,
   "metadata": {
    "collapsed": true
   },
   "outputs": [],
   "source": []
  },
  {
   "cell_type": "markdown",
   "metadata": {},
   "source": [
    "Present a scatter plot to show the relationship between goals for and winning percentage. "
   ]
  },
  {
   "cell_type": "markdown",
   "metadata": {},
   "source": [
    "Present a scatter plot to show the relationship between goals for goals against. "
   ]
  },
  {
   "cell_type": "markdown",
   "metadata": {
    "collapsed": true
   },
   "source": [
<<<<<<< HEAD
    "Generate a column/variable that calculates each team's  Pythagorean expected winning percentage based on goals for and goals against: $\\widehat{pythwinper}=\\frac{GF^2}{GF^2+GA^2}$."
=======
    "Generate a column/variable that calculates each team's  Pythagorean expected winning percentage based on goals for and goals against: $\\widehat{pythwinper}=\\frac{GF}^2{GF+GA}^2$."
>>>>>>> 65c2c30703f657d9c3f3cd4c9f5926fc33359522
   ]
  },
  {
   "cell_type": "markdown",
   "metadata": {},
   "source": [
    "Interpret the resuts\n",
    "* Describe the relationship between actual winning percentage and expected winning percentage. \n",
    "* Caculate the differnce between actual and expected winning percentages.  \n",
    "* Identify the team that has the greatest and least differerences.\n",
    "* What can be interpreted about teams that have expected winning percentages that are substaintially deviate from their actual winning percentage."
   ]
  }
 ],
 "metadata": {
  "anaconda-cloud": {},
  "kernelspec": {
   "display_name": "Python [conda root]",
   "language": "python",
   "name": "conda-root-py"
  },
  "language_info": {
   "codemirror_mode": {
    "name": "ipython",
    "version": 2
   },
   "file_extension": ".py",
   "mimetype": "text/x-python",
   "name": "python",
   "nbconvert_exporter": "python",
   "pygments_lexer": "ipython2",
   "version": "2.7.12"
  }
 },
 "nbformat": 4,
 "nbformat_minor": 1
}
