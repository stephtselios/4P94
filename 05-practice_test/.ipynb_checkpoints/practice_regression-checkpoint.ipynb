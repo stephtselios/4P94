{
 "cells": [
  {
   "cell_type": "markdown",
   "metadata": {},
   "source": [
    "Estimate the paramaters of each model and interpret the results "
   ]
  },
  {
   "cell_type": "code",
   "execution_count": 11,
   "metadata": {
    "collapsed": true
   },
   "outputs": [],
   "source": [
    "%matplotlib inline\n",
    "import os\n",
    "import sys\n",
    "import numpy \n",
    "import pandas \n",
    "import matplotlib.pyplot as plt\n",
    "import pylab\n",
    "\n",
    "# imports regression library\n",
    "# OLS: ordinary least squares (estimation technique used to estimate the linear regression model)\n",
    "import statsmodels.api as sm\n",
    "from statsmodels.formula.api import ols\n",
    "    \n",
    "# Set some Pandas options\n",
    "pandas.set_option('display.notebook_repr_html', False)\n",
    "pandas.set_option('display.max_columns', 20)\n",
    "pandas.set_option('display.max_rows', 25)\n",
    "\n",
    "from decimal import getcontext, Decimal\n",
    "# Set the precision.\n",
    "getcontext().prec = 3"
   ]
  },
  {
   "cell_type": "code",
   "execution_count": 12,
   "metadata": {
    "collapsed": true
   },
   "outputs": [],
   "source": [
    "dm = pandas.read_csv('2010game_physical.csv')"
   ]
  },
  {
   "cell_type": "code",
   "execution_count": 13,
   "metadata": {
    "collapsed": false
   },
   "outputs": [],
   "source": [
    "dm['dGoals']    = dm['homeGoals'] - dm['awayGoals'] #regulation score-margin\n",
    "\n",
    "#home win team indicator variable generated two ways\n",
    "dm['ishwin'] = numpy.where(dm['homeTeam']==dm['winteamcode'], 1 , 0)\n",
    "\n",
    "dm['dAge']      =  dm['homeAge']-dm['awayAge']\n",
    "dm['dHeight']   = dm['homeHeight']-dm['awayHeight']\n",
    "dm['dWeight']   = dm['homeWeight']-dm['awayHeight']\n",
    "\n",
    "dm['lnDAge']    = numpy.log(dm['homeAge']/dm['awayAge'])\n",
    "dm['lnDHeight'] = numpy.log(dm['homeHeight']/dm['awayHeight'])\n",
    "dm['lnDWeight'] = numpy.log(dm['homeWeight']/dm['awayWeight'])\n",
    "\n",
    "dm['DSalary']    = dm['homeSalary'] - dm['awaySalary']\n",
    "dm['lnDSalary']  = numpy.log(dm['homeSalary']/dm['awaySalary'])\n",
    "\n",
    "dm['lnhsalary']  = numpy.log(dm['homeSalary'])\n",
    "dm['lnasalary']  = numpy.log(dm['awaySalary'])"
   ]
  },
  {
   "cell_type": "markdown",
   "metadata": {},
   "source": [
    "$hGoals_i = \\beta_0 + \\beta_1 hAge_i + mu_i$"
   ]
  },
  {
   "cell_type": "markdown",
   "metadata": {},
   "source": [
    "$hGoals_i = \\beta_0 + \\beta_1 hAge_i +  \\beta_2 hHeight_i + mu_i$"
   ]
  },
  {
   "cell_type": "markdown",
   "metadata": {},
   "source": [
    "$hGoals_i = \\beta_0 + \\beta_1 hAge_i +  \\beta_2 hHeight_i +  \\beta_3 hWeight_i + mu_i$"
   ]
  },
  {
   "cell_type": "markdown",
   "metadata": {},
   "source": [
    "$dGoals_i = \\beta_0 + \\beta_1 lnDSalary_i + mu_i$"
   ]
  },
  {
   "cell_type": "markdown",
   "metadata": {},
   "source": [
    "$dGoals_i = \\beta_0 + \\beta_1 lnDSalary_i + \\beta_2 lnDAge_i +  \\beta_3 lnDHeight_i +  \\beta_4 lnDWeight_i + mu_i$"
   ]
  }
 ],
 "metadata": {
  "anaconda-cloud": {},
  "kernelspec": {
   "display_name": "Python [conda root]",
   "language": "python",
   "name": "conda-root-py"
  },
  "language_info": {
   "codemirror_mode": {
    "name": "ipython",
    "version": 2
   },
   "file_extension": ".py",
   "mimetype": "text/x-python",
   "name": "python",
   "nbconvert_exporter": "python",
   "pygments_lexer": "ipython2",
   "version": "2.7.12"
  }
 },
 "nbformat": 4,
 "nbformat_minor": 1
}
