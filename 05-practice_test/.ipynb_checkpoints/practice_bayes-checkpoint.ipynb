{
 "cells": [
  {
   "cell_type": "markdown",
   "metadata": {
    "nbpresent": {
     "id": "539c3c1b-401c-44fc-a3da-8ec109a25a33"
    }
   },
   "source": [
    "# Practice: Bayes' rule"
   ]
  },
  {
   "cell_type": "code",
   "execution_count": 17,
   "metadata": {
    "collapsed": false
   },
   "outputs": [],
   "source": [
    "%matplotlib inline\n",
    "import os\n",
    "import sys\n",
    "import pandas\n",
    "import numpy\n",
    "import matplotlib\n",
    "import matplotlib.pyplot as plt\n",
    "pandas.set_option('display.notebook_repr_html', False)\n",
    "pandas.set_option('display.max_columns', 20)\n",
    "pandas.set_option('display.max_rows', 25)\n",
    "pandas.set_option('precision',2)\n",
    "\n",
    "from decimal import getcontext, Decimal\n",
    "# Set the precision.\n",
    "getcontext().prec = 3"
   ]
  },
  {
   "cell_type": "code",
   "execution_count": 18,
   "metadata": {
    "collapsed": false
   },
   "outputs": [],
   "source": [
    "dm = pandas.read_csv('nhl_ingame_goals.csv')\n",
    "dm = dm.sort_values(by=['season', 'gameno', 'goalno'])"
   ]
  },
  {
   "cell_type": "code",
   "execution_count": 19,
   "metadata": {
    "collapsed": false
   },
   "outputs": [
    {
     "data": {
      "text/plain": [
       "     gamedate  season  gameno  goalno  period  secstart gteam hteam ateam  \\\n",
       "0  2014-12-22    2014   20500       1       1       394  home   VAN   ARI   \n",
       "1  2014-12-22    2014   20500       2       1      1037  home   VAN   ARI   \n",
       "2  2014-12-22    2014   20500       3       1      1158  home   VAN   ARI   \n",
       "3  2014-12-22    2014   20500       4       2      1301  home   VAN   ARI   \n",
       "4  2014-12-22    2014   20500       5       2      1939  home   VAN   ARI   \n",
       "\n",
       "  wteam  hgoals  agoals  \n",
       "0  home       0       0  \n",
       "1  home       1       0  \n",
       "2  home       2       0  \n",
       "3  home       3       0  \n",
       "4  home       4       0  "
      ]
     },
     "execution_count": 19,
     "metadata": {},
     "output_type": "execute_result"
    }
   ],
   "source": [
    "dm.head()"
   ]
  },
  {
   "cell_type": "markdown",
   "metadata": {},
   "source": [
    "State the unit of observation."
   ]
  },
  {
   "cell_type": "code",
   "execution_count": 20,
   "metadata": {
    "collapsed": false
   },
   "outputs": [],
   "source": [
    "dm = dm[dm['goalno']==1]"
   ]
  },
  {
   "cell_type": "markdown",
   "metadata": {},
   "source": [
    "Use Bayes' rule to calculate the (posterior) probability of a home team win given the the home team scores the first goal."
   ]
  },
  {
   "cell_type": "markdown",
   "metadata": {},
   "source": [
    "List the information required to calculate the probability"
   ]
  },
  {
   "cell_type": "markdown",
   "metadata": {},
   "source": [
    "Use that data to calculate the inverse conditional probabilties\n",
    "* probability the home team scores the first goal given a win\n",
    "* probability the hoime team scores the first goal given a loss"
   ]
  },
  {
   "cell_type": "markdown",
   "metadata": {},
   "source": [
    "Calculate the posterior probability based on a prior probability of 0.50"
   ]
  },
  {
   "cell_type": "markdown",
   "metadata": {},
   "source": [
    "Calculate the posterior probability based on a prior probability of 0.65"
   ]
  }
 ],
 "metadata": {
  "anaconda-cloud": {},
  "kernelspec": {
   "display_name": "Python [conda root]",
   "language": "python",
   "name": "conda-root-py"
  },
  "language_info": {
   "codemirror_mode": {
    "name": "ipython",
    "version": 2
   },
   "file_extension": ".py",
   "mimetype": "text/x-python",
   "name": "python",
   "nbconvert_exporter": "python",
   "pygments_lexer": "ipython2",
   "version": "2.7.12"
  },
  "nbpresent": {
   "slides": {
    "03461ee2-9894-4463-973a-78817bc12313": {
     "id": "03461ee2-9894-4463-973a-78817bc12313",
     "prev": "882fec2f-705c-4936-a2f2-a5f232ad2568",
     "regions": {
      "2e00e202-8ba6-4a4d-83e0-8dfd674db025": {
       "attrs": {
        "height": 0.8,
        "width": 0.8,
        "x": 0.1,
        "y": 0.1
       },
       "content": {
        "cell": "475ffd71-7569-46ff-baaa-1322ae872640",
        "part": "whole"
       },
       "id": "2e00e202-8ba6-4a4d-83e0-8dfd674db025"
      }
     }
    },
    "161ed6c3-b1af-4fc5-b342-2500113b0913": {
     "id": "161ed6c3-b1af-4fc5-b342-2500113b0913",
     "prev": "90c145d1-40a4-47f6-aa8e-0384249a4b99",
     "regions": {
      "9d9271f4-fb31-4a46-aaa6-b34a7736961c": {
       "attrs": {
        "height": 0.8,
        "width": 0.8,
        "x": 0.1,
        "y": 0.1
       },
       "content": {
        "cell": "464106f2-82bd-4fd7-bf0e-5c6d6497399c",
        "part": "whole"
       },
       "id": "9d9271f4-fb31-4a46-aaa6-b34a7736961c"
      }
     }
    },
    "19cbdfdb-6caf-4f48-9865-3bb9acdb9133": {
     "id": "19cbdfdb-6caf-4f48-9865-3bb9acdb9133",
     "prev": "a35d5355-5386-4b2c-bea9-bfcf4c95f3c3",
     "regions": {
      "0db2ba59-2e08-4fa0-9711-ae4a1e542eba": {
       "attrs": {
        "height": 0.8,
        "width": 0.8,
        "x": 0.1,
        "y": 0.1
       },
       "content": {
        "cell": "cea368fb-c1e6-4dab-b39c-d688a17fbc7f",
        "part": "whole"
       },
       "id": "0db2ba59-2e08-4fa0-9711-ae4a1e542eba"
      }
     }
    },
    "1ac85fbd-f8c4-48d7-a84b-89c31ff18004": {
     "id": "1ac85fbd-f8c4-48d7-a84b-89c31ff18004",
     "prev": "adacc16e-b148-4c5a-8d8b-c7210269c71b",
     "regions": {
      "5ba90ef4-bbb4-4c44-9e49-229338689518": {
       "attrs": {
        "height": 0.8,
        "width": 0.8,
        "x": 0.1,
        "y": 0.1
       },
       "content": {
        "cell": "111b5222-da72-49e9-810c-278d78d6b210",
        "part": "whole"
       },
       "id": "5ba90ef4-bbb4-4c44-9e49-229338689518"
      }
     }
    },
    "1d2acf41-8902-4d47-a897-5150a1e6e34c": {
     "id": "1d2acf41-8902-4d47-a897-5150a1e6e34c",
     "prev": "73ccef6a-8a4a-4292-89af-ad567a471fec",
     "regions": {
      "0ffd69d5-b767-4f45-8b38-613933edabf7": {
       "attrs": {
        "height": 0.8,
        "width": 0.8,
        "x": 0.1,
        "y": 0.1
       },
       "content": {
        "cell": "e07cae6f-a0ea-4b31-a71a-9aca0931ba7f",
        "part": "whole"
       },
       "id": "0ffd69d5-b767-4f45-8b38-613933edabf7"
      }
     }
    },
    "21194037-c988-41fa-8205-e1cc937f3d9c": {
     "id": "21194037-c988-41fa-8205-e1cc937f3d9c",
     "prev": "bb4479cc-8a0a-42d5-9664-12c67b7f43c0",
     "regions": {
      "0d7ffc5b-ff91-4f3e-a11a-5e4cd01554fb": {
       "attrs": {
        "height": 0.8,
        "width": 0.8,
        "x": 0.1,
        "y": 0.1
       },
       "content": {
        "cell": "e207beb4-a8ed-44b7-b21b-0673d2212edf",
        "part": "whole"
       },
       "id": "0d7ffc5b-ff91-4f3e-a11a-5e4cd01554fb"
      }
     }
    },
    "24843dc9-114d-4ad9-935f-3f984810c9f7": {
     "id": "24843dc9-114d-4ad9-935f-3f984810c9f7",
     "prev": "03461ee2-9894-4463-973a-78817bc12313",
     "regions": {
      "7bf835e7-b790-4b3b-8df2-ab6c02490ead": {
       "attrs": {
        "height": 0.8,
        "width": 0.8,
        "x": 0.1,
        "y": 0.1
       },
       "content": {
        "cell": "48f84bbd-a75f-47fe-957e-6825ad2dadd1",
        "part": "whole"
       },
       "id": "7bf835e7-b790-4b3b-8df2-ab6c02490ead"
      }
     }
    },
    "390d975e-2e9f-4004-b664-a8b145885622": {
     "id": "390d975e-2e9f-4004-b664-a8b145885622",
     "prev": "bc4da316-a14d-48b0-b20f-3b16d5d8864c",
     "regions": {
      "03694c13-6342-4ae4-b3ba-a28bf0385963": {
       "attrs": {
        "height": 0.8,
        "width": 0.8,
        "x": 0.1,
        "y": 0.1
       },
       "content": {
        "cell": "36d40f37-aac1-488b-8064-a9be9ae90490",
        "part": "whole"
       },
       "id": "03694c13-6342-4ae4-b3ba-a28bf0385963"
      }
     }
    },
    "3f1276d9-8c3d-4dc3-b0e3-8e46373f3cf3": {
     "id": "3f1276d9-8c3d-4dc3-b0e3-8e46373f3cf3",
     "prev": "21194037-c988-41fa-8205-e1cc937f3d9c",
     "regions": {
      "a71aad50-b518-45b1-b722-a2e4dbef4090": {
       "attrs": {
        "height": 0.8,
        "width": 0.8,
        "x": 0.1,
        "y": 0.1
       },
       "content": {
        "cell": "474217b4-1b6f-490d-86ab-534b082d9619",
        "part": "whole"
       },
       "id": "a71aad50-b518-45b1-b722-a2e4dbef4090"
      }
     }
    },
    "4e9fb9ee-26cf-49ff-abbe-835659528f05": {
     "id": "4e9fb9ee-26cf-49ff-abbe-835659528f05",
     "prev": null,
     "regions": {
      "66a3b22e-35da-4663-8292-24f0ccf9d291": {
       "attrs": {
        "height": 0.8,
        "width": 0.8,
        "x": 0.1,
        "y": 0.1
       },
       "content": {
        "cell": "539c3c1b-401c-44fc-a3da-8ec109a25a33",
        "part": "whole"
       },
       "id": "66a3b22e-35da-4663-8292-24f0ccf9d291"
      }
     }
    },
    "539a7c0c-53ab-4dd4-bb70-5ebc83a8b22c": {
     "id": "539a7c0c-53ab-4dd4-bb70-5ebc83a8b22c",
     "prev": "c7dd9b24-5d05-47e7-a3dd-0e28e9828e96",
     "regions": {
      "f91ea266-e0f7-42c6-9a8e-a605eadd4523": {
       "attrs": {
        "height": 0.8,
        "width": 0.8,
        "x": 0.1,
        "y": 0.1
       },
       "content": {
        "cell": "d9bc567c-7565-4fde-86a8-ce7e6c9d09ca",
        "part": "whole"
       },
       "id": "f91ea266-e0f7-42c6-9a8e-a605eadd4523"
      }
     }
    },
    "5a8c56f2-227e-4c34-9ff8-86154f488069": {
     "id": "5a8c56f2-227e-4c34-9ff8-86154f488069",
     "prev": "390d975e-2e9f-4004-b664-a8b145885622",
     "regions": {
      "769327e7-033c-4e3d-a23c-6272edc9f403": {
       "attrs": {
        "height": 0.8,
        "width": 0.8,
        "x": 0.1,
        "y": 0.1
       },
       "content": {
        "cell": "2df43374-b9f3-468d-9e08-5fa98b381a97",
        "part": "whole"
       },
       "id": "769327e7-033c-4e3d-a23c-6272edc9f403"
      }
     }
    },
    "6240db12-330c-421b-97ef-a4b93ed2c46a": {
     "id": "6240db12-330c-421b-97ef-a4b93ed2c46a",
     "prev": "d82cbfaf-3972-47a4-b2d4-6ae4aa922b64",
     "regions": {
      "5876dace-f185-4da5-80e4-df8547949685": {
       "attrs": {
        "height": 0.8,
        "width": 0.8,
        "x": 0.1,
        "y": 0.1
       },
       "content": {
        "cell": "40777f1c-4746-4598-b536-f18a85eb6a42",
        "part": "whole"
       },
       "id": "5876dace-f185-4da5-80e4-df8547949685"
      }
     }
    },
    "6cbe143c-d168-4596-918b-25d5100c34ea": {
     "id": "6cbe143c-d168-4596-918b-25d5100c34ea",
     "prev": "96c0ebcc-51b6-4e94-8067-b567b515e5f8",
     "regions": {
      "a724a62c-63cf-4795-97c3-06d1dbbfc53d": {
       "attrs": {
        "height": 0.8,
        "width": 0.8,
        "x": 0.1,
        "y": 0.1
       },
       "content": {
        "cell": "9a9a787c-8c22-456f-be39-66613377f6cf",
        "part": "whole"
       },
       "id": "a724a62c-63cf-4795-97c3-06d1dbbfc53d"
      }
     }
    },
    "6e20932f-fe0f-4e3f-921e-848f14054abd": {
     "id": "6e20932f-fe0f-4e3f-921e-848f14054abd",
     "prev": "dac5ad25-cf62-4fc5-9cee-ea63c53ead6a",
     "regions": {
      "520a2810-a98d-4b88-aa83-154249c24af5": {
       "attrs": {
        "height": 0.8,
        "width": 0.8,
        "x": 0.1,
        "y": 0.1
       },
       "content": {
        "cell": "dfc762a2-f5dd-4592-98cd-30d5f3ef80aa",
        "part": "whole"
       },
       "id": "520a2810-a98d-4b88-aa83-154249c24af5"
      }
     }
    },
    "73ccef6a-8a4a-4292-89af-ad567a471fec": {
     "id": "73ccef6a-8a4a-4292-89af-ad567a471fec",
     "prev": "95089755-9a1e-4fde-aa6b-f2ca51cc9bc6",
     "regions": {
      "4ff9153d-3233-4036-a5fb-efb71dc90def": {
       "attrs": {
        "height": 0.8,
        "width": 0.8,
        "x": 0.1,
        "y": 0.1
       },
       "content": {
        "cell": "6dd3edfd-e867-4f8d-9894-0a66c52619e9",
        "part": "whole"
       },
       "id": "4ff9153d-3233-4036-a5fb-efb71dc90def"
      }
     }
    },
    "792c70e2-4763-427d-b520-c607d8caa117": {
     "id": "792c70e2-4763-427d-b520-c607d8caa117",
     "prev": "8f854fb0-5131-4c01-b838-b6f41ffcc2e8",
     "regions": {
      "480b470b-8b8a-46cf-bde0-ba90aeabe09b": {
       "attrs": {
        "height": 0.8,
        "width": 0.8,
        "x": 0.1,
        "y": 0.1
       },
       "content": {
        "cell": "c5d3c779-1f4e-4a97-9e0e-799c2bfcb955",
        "part": "whole"
       },
       "id": "480b470b-8b8a-46cf-bde0-ba90aeabe09b"
      }
     }
    },
    "87d8cc64-edfd-4e66-a95f-1d54c774d3dc": {
     "id": "87d8cc64-edfd-4e66-a95f-1d54c774d3dc",
     "prev": "6240db12-330c-421b-97ef-a4b93ed2c46a",
     "regions": {
      "14b41583-71c1-409b-8d26-0590f24732a4": {
       "attrs": {
        "height": 0.8,
        "width": 0.8,
        "x": 0.1,
        "y": 0.1
       },
       "content": {
        "cell": "6e67a94d-6aee-4078-8f77-4fa1e202af65",
        "part": "whole"
       },
       "id": "14b41583-71c1-409b-8d26-0590f24732a4"
      }
     }
    },
    "882fec2f-705c-4936-a2f2-a5f232ad2568": {
     "id": "882fec2f-705c-4936-a2f2-a5f232ad2568",
     "prev": "6e20932f-fe0f-4e3f-921e-848f14054abd",
     "regions": {
      "b08f9f21-037f-46df-993c-6e701a1663de": {
       "attrs": {
        "height": 0.8,
        "width": 0.8,
        "x": 0.1,
        "y": 0.1
       },
       "content": {
        "cell": "f81f2ff2-0392-4171-a5b2-e94c15c78c9e",
        "part": "whole"
       },
       "id": "b08f9f21-037f-46df-993c-6e701a1663de"
      }
     }
    },
    "8f854fb0-5131-4c01-b838-b6f41ffcc2e8": {
     "id": "8f854fb0-5131-4c01-b838-b6f41ffcc2e8",
     "prev": "fe4b7667-2e3b-4a57-951c-ee37cd13503d",
     "regions": {
      "6f4a0a47-2dc9-407f-923e-3b9c4380e963": {
       "attrs": {
        "height": 0.8,
        "width": 0.8,
        "x": 0.1,
        "y": 0.1
       },
       "content": {
        "cell": "9ab4070b-38c9-40ea-9892-6c7687816604",
        "part": "whole"
       },
       "id": "6f4a0a47-2dc9-407f-923e-3b9c4380e963"
      }
     }
    },
    "90c145d1-40a4-47f6-aa8e-0384249a4b99": {
     "id": "90c145d1-40a4-47f6-aa8e-0384249a4b99",
     "prev": "1ac85fbd-f8c4-48d7-a84b-89c31ff18004",
     "regions": {
      "32070bbb-b37d-4454-a714-24526bbef0d0": {
       "attrs": {
        "height": 0.8,
        "width": 0.8,
        "x": 0.1,
        "y": 0.1
       },
       "content": {
        "cell": "ba2c953a-6566-45f2-a7a6-8b36d0f4cd05",
        "part": "whole"
       },
       "id": "32070bbb-b37d-4454-a714-24526bbef0d0"
      }
     }
    },
    "9222b37e-c950-4075-acdc-ca407f5e369a": {
     "id": "9222b37e-c950-4075-acdc-ca407f5e369a",
     "prev": "e232a318-f6e4-4caf-8808-7db10e871bbf",
     "regions": {
      "fadae4a9-44dd-480c-b8c0-e34c9799adda": {
       "attrs": {
        "height": 0.8,
        "width": 0.8,
        "x": 0.1,
        "y": 0.1
       },
       "content": {
        "cell": "50361532-612e-4f4f-881a-ac3e298cd88d",
        "part": "whole"
       },
       "id": "fadae4a9-44dd-480c-b8c0-e34c9799adda"
      }
     }
    },
    "93a57222-8e4c-4f50-88b7-6ba2658fdc5f": {
     "id": "93a57222-8e4c-4f50-88b7-6ba2658fdc5f",
     "prev": "24843dc9-114d-4ad9-935f-3f984810c9f7",
     "regions": {
      "f788e6ee-0c97-47c4-84f9-b962ae37307c": {
       "attrs": {
        "height": 0.8,
        "width": 0.8,
        "x": 0.1,
        "y": 0.1
       },
       "content": {
        "cell": "8343dd2f-8acb-4b94-bfce-040365b43697",
        "part": "whole"
       },
       "id": "f788e6ee-0c97-47c4-84f9-b962ae37307c"
      }
     }
    },
    "95089755-9a1e-4fde-aa6b-f2ca51cc9bc6": {
     "id": "95089755-9a1e-4fde-aa6b-f2ca51cc9bc6",
     "prev": "a54c5402-ebfb-46e4-9277-7f4170f50142",
     "regions": {
      "060622dc-f931-46b5-b316-a8701e41631a": {
       "attrs": {
        "height": 0.8,
        "width": 0.8,
        "x": 0.1,
        "y": 0.1
       },
       "content": {
        "cell": "6cbe9161-3558-4a1e-9884-fbf2d7ce0da1",
        "part": "whole"
       },
       "id": "060622dc-f931-46b5-b316-a8701e41631a"
      }
     }
    },
    "96c0ebcc-51b6-4e94-8067-b567b515e5f8": {
     "id": "96c0ebcc-51b6-4e94-8067-b567b515e5f8",
     "prev": "c04ee07d-5ed5-418b-b59e-b8bf9851f3c5",
     "regions": {
      "8ce7382a-a27e-431f-b0e0-39cc5faffd41": {
       "attrs": {
        "height": 0.8,
        "width": 0.8,
        "x": 0.1,
        "y": 0.1
       },
       "content": {
        "cell": "5a6ed8f6-59df-4f0f-a387-0f07bd7f786b",
        "part": "whole"
       },
       "id": "8ce7382a-a27e-431f-b0e0-39cc5faffd41"
      }
     }
    },
    "985da9d6-a38d-41ea-a2e4-4c4990a4436f": {
     "id": "985da9d6-a38d-41ea-a2e4-4c4990a4436f",
     "prev": "87d8cc64-edfd-4e66-a95f-1d54c774d3dc",
     "regions": {
      "8a6f3158-66c3-483d-810c-bcd226f716b1": {
       "attrs": {
        "height": 0.8,
        "width": 0.8,
        "x": 0.1,
        "y": 0.1
       },
       "content": {
        "cell": "ab650510-a449-435f-a4a1-e0a3d20d90d2",
        "part": "whole"
       },
       "id": "8a6f3158-66c3-483d-810c-bcd226f716b1"
      }
     }
    },
    "a02cbb2f-66dc-48e0-b22f-795b0ff49c88": {
     "id": "a02cbb2f-66dc-48e0-b22f-795b0ff49c88",
     "prev": "19cbdfdb-6caf-4f48-9865-3bb9acdb9133",
     "regions": {
      "6f110296-62f2-489b-a375-6ad473648d5d": {
       "attrs": {
        "height": 0.8,
        "width": 0.8,
        "x": 0.1,
        "y": 0.1
       },
       "content": {
        "cell": "a2818b1e-d33b-455a-8eac-54d6e56eb8ad",
        "part": "whole"
       },
       "id": "6f110296-62f2-489b-a375-6ad473648d5d"
      }
     }
    },
    "a35d5355-5386-4b2c-bea9-bfcf4c95f3c3": {
     "id": "a35d5355-5386-4b2c-bea9-bfcf4c95f3c3",
     "prev": "5a8c56f2-227e-4c34-9ff8-86154f488069",
     "regions": {
      "efa385e7-7c0a-4874-9fb9-9a6b38b14da8": {
       "attrs": {
        "height": 0.8,
        "width": 0.8,
        "x": 0.1,
        "y": 0.1
       },
       "content": {
        "cell": "2df4a2ea-417b-403b-bb53-a1c3534896d3",
        "part": "whole"
       },
       "id": "efa385e7-7c0a-4874-9fb9-9a6b38b14da8"
      }
     }
    },
    "a54c5402-ebfb-46e4-9277-7f4170f50142": {
     "id": "a54c5402-ebfb-46e4-9277-7f4170f50142",
     "prev": "161ed6c3-b1af-4fc5-b342-2500113b0913",
     "regions": {
      "2ca0de06-9569-41b4-9184-31922d38a9ad": {
       "attrs": {
        "height": 0.8,
        "width": 0.8,
        "x": 0.1,
        "y": 0.1
       },
       "content": {
        "cell": "469e2041-53e6-4847-8361-6fc84d358b72",
        "part": "whole"
       },
       "id": "2ca0de06-9569-41b4-9184-31922d38a9ad"
      }
     }
    },
    "adacc16e-b148-4c5a-8d8b-c7210269c71b": {
     "id": "adacc16e-b148-4c5a-8d8b-c7210269c71b",
     "prev": "d1ffcbd3-0eec-40ba-b5c2-2c9849593886",
     "regions": {
      "bfea2580-51ec-451f-aeb2-fbbc8525f0cc": {
       "attrs": {
        "height": 0.8,
        "width": 0.8,
        "x": 0.1,
        "y": 0.1
       },
       "content": {
        "cell": "bba44c42-1dea-417c-962d-78bd681d4a18",
        "part": "whole"
       },
       "id": "bfea2580-51ec-451f-aeb2-fbbc8525f0cc"
      }
     }
    },
    "b316ded5-f633-4bb2-9f9c-ec2715ad7f96": {
     "id": "b316ded5-f633-4bb2-9f9c-ec2715ad7f96",
     "prev": "93a57222-8e4c-4f50-88b7-6ba2658fdc5f",
     "regions": {
      "aaf6fca7-0d98-4209-8f62-371317cb7d1e": {
       "attrs": {
        "height": 0.8,
        "width": 0.8,
        "x": 0.1,
        "y": 0.1
       },
       "content": {
        "cell": "cdb80fb8-e20d-45da-95b8-f73af1640a94",
        "part": "whole"
       },
       "id": "aaf6fca7-0d98-4209-8f62-371317cb7d1e"
      }
     }
    },
    "bb4479cc-8a0a-42d5-9664-12c67b7f43c0": {
     "id": "bb4479cc-8a0a-42d5-9664-12c67b7f43c0",
     "prev": "b316ded5-f633-4bb2-9f9c-ec2715ad7f96",
     "regions": {
      "691149e8-d382-45db-bad5-93f2d782e7b8": {
       "attrs": {
        "height": 0.8,
        "width": 0.8,
        "x": 0.1,
        "y": 0.1
       },
       "content": {
        "cell": "a6a0f471-ed1c-4937-b6ab-7b822cea2e19",
        "part": "whole"
       },
       "id": "691149e8-d382-45db-bad5-93f2d782e7b8"
      }
     }
    },
    "bc4da316-a14d-48b0-b20f-3b16d5d8864c": {
     "id": "bc4da316-a14d-48b0-b20f-3b16d5d8864c",
     "prev": "985da9d6-a38d-41ea-a2e4-4c4990a4436f",
     "regions": {
      "a26a0ca9-bda7-4e5e-8dee-eab43bed2898": {
       "attrs": {
        "height": 0.8,
        "width": 0.8,
        "x": 0.1,
        "y": 0.1
       },
       "content": {
        "cell": "7a4995f6-60a7-4789-bd34-3f0c32b5212e",
        "part": "whole"
       },
       "id": "a26a0ca9-bda7-4e5e-8dee-eab43bed2898"
      }
     }
    },
    "c04ee07d-5ed5-418b-b59e-b8bf9851f3c5": {
     "id": "c04ee07d-5ed5-418b-b59e-b8bf9851f3c5",
     "prev": "c2134cd6-eb33-4927-863e-d82506b9875c",
     "regions": {
      "3efe849c-466d-4b8c-8052-e75afdd72e6a": {
       "attrs": {
        "height": 0.8,
        "width": 0.8,
        "x": 0.1,
        "y": 0.1
       },
       "content": {
        "cell": "3b0bda68-06c8-4d73-bff8-b096956892f2",
        "part": "whole"
       },
       "id": "3efe849c-466d-4b8c-8052-e75afdd72e6a"
      }
     }
    },
    "c2134cd6-eb33-4927-863e-d82506b9875c": {
     "id": "c2134cd6-eb33-4927-863e-d82506b9875c",
     "prev": "4e9fb9ee-26cf-49ff-abbe-835659528f05",
     "regions": {
      "8ae4d649-48bf-49bf-b629-410414b6154f": {
       "attrs": {
        "height": 0.8,
        "width": 0.8,
        "x": 0.1,
        "y": 0.1
       },
       "content": {
        "cell": "4ac4329a-01e9-40db-b714-7f7c1a5ee334",
        "part": "whole"
       },
       "id": "8ae4d649-48bf-49bf-b629-410414b6154f"
      }
     }
    },
    "c7dd9b24-5d05-47e7-a3dd-0e28e9828e96": {
     "id": "c7dd9b24-5d05-47e7-a3dd-0e28e9828e96",
     "prev": "3f1276d9-8c3d-4dc3-b0e3-8e46373f3cf3",
     "regions": {
      "ad635372-6644-4396-9612-de93e06ae441": {
       "attrs": {
        "height": 0.8,
        "width": 0.8,
        "x": 0.1,
        "y": 0.1
       },
       "content": {
        "cell": "2a4f50ea-2b08-469e-a406-c5f2372ac1f0",
        "part": "whole"
       },
       "id": "ad635372-6644-4396-9612-de93e06ae441"
      }
     }
    },
    "ce3a6062-6473-4739-a7be-386b37df0c3f": {
     "id": "ce3a6062-6473-4739-a7be-386b37df0c3f",
     "prev": "792c70e2-4763-427d-b520-c607d8caa117",
     "regions": {
      "14945b2e-0e4c-4704-8cfd-ad5f52ce1e6e": {
       "attrs": {
        "height": 0.8,
        "width": 0.8,
        "x": 0.1,
        "y": 0.1
       },
       "content": {
        "cell": "db18b826-8a10-4154-97e7-60c5cda646c5",
        "part": "whole"
       },
       "id": "14945b2e-0e4c-4704-8cfd-ad5f52ce1e6e"
      }
     }
    },
    "d1ffcbd3-0eec-40ba-b5c2-2c9849593886": {
     "id": "d1ffcbd3-0eec-40ba-b5c2-2c9849593886",
     "prev": "a02cbb2f-66dc-48e0-b22f-795b0ff49c88",
     "regions": {
      "466d3c4b-0387-43bc-b190-56773ffd3731": {
       "attrs": {
        "height": 0.8,
        "width": 0.8,
        "x": 0.1,
        "y": 0.1
       },
       "content": {
        "cell": "88a23d59-cad3-4f48-98b4-96f2acca2a09",
        "part": "whole"
       },
       "id": "466d3c4b-0387-43bc-b190-56773ffd3731"
      }
     }
    },
    "d38f7696-4453-447d-8725-0d05f653a832": {
     "id": "d38f7696-4453-447d-8725-0d05f653a832",
     "prev": "ef7dd434-3abb-49f5-aca3-a055f509621d",
     "regions": {
      "b04800ee-ee6c-4674-81f8-b73706e73638": {
       "attrs": {
        "height": 0.8,
        "width": 0.8,
        "x": 0.1,
        "y": 0.1
       },
       "content": {
        "cell": "e135f622-1390-4576-8923-a3b1d1195dcc",
        "part": "whole"
       },
       "id": "b04800ee-ee6c-4674-81f8-b73706e73638"
      }
     }
    },
    "d82cbfaf-3972-47a4-b2d4-6ae4aa922b64": {
     "id": "d82cbfaf-3972-47a4-b2d4-6ae4aa922b64",
     "prev": "539a7c0c-53ab-4dd4-bb70-5ebc83a8b22c",
     "regions": {
      "c9eba96e-aba7-4e29-a6d2-43100f848ba7": {
       "attrs": {
        "height": 0.8,
        "width": 0.8,
        "x": 0.1,
        "y": 0.1
       },
       "content": {
        "cell": "8051b764-8780-4bd8-ad58-b8c5ad54d79a",
        "part": "whole"
       },
       "id": "c9eba96e-aba7-4e29-a6d2-43100f848ba7"
      }
     }
    },
    "dac5ad25-cf62-4fc5-9cee-ea63c53ead6a": {
     "id": "dac5ad25-cf62-4fc5-9cee-ea63c53ead6a",
     "prev": "6cbe143c-d168-4596-918b-25d5100c34ea",
     "regions": {
      "b77eb990-a9e2-4c32-920c-e12690f324b6": {
       "attrs": {
        "height": 0.8,
        "width": 0.8,
        "x": 0.1,
        "y": 0.1
       },
       "content": {
        "cell": "fb357d3a-eb2b-4fd1-8fc7-1d860f637481",
        "part": "whole"
       },
       "id": "b77eb990-a9e2-4c32-920c-e12690f324b6"
      }
     }
    },
    "e232a318-f6e4-4caf-8808-7db10e871bbf": {
     "id": "e232a318-f6e4-4caf-8808-7db10e871bbf",
     "prev": "1d2acf41-8902-4d47-a897-5150a1e6e34c",
     "regions": {
      "cdb88bed-0c98-45b6-8045-609de4888888": {
       "attrs": {
        "height": 0.8,
        "width": 0.8,
        "x": 0.1,
        "y": 0.1
       },
       "content": {
        "cell": "2fb7d27f-a828-48c6-b09b-d2ae0172bea5",
        "part": "whole"
       },
       "id": "cdb88bed-0c98-45b6-8045-609de4888888"
      }
     }
    },
    "ef7dd434-3abb-49f5-aca3-a055f509621d": {
     "id": "ef7dd434-3abb-49f5-aca3-a055f509621d",
     "prev": "ce3a6062-6473-4739-a7be-386b37df0c3f",
     "regions": {
      "6c7402df-92bc-4b95-84f0-925c1ec3aaa7": {
       "attrs": {
        "height": 0.8,
        "width": 0.8,
        "x": 0.1,
        "y": 0.1
       },
       "content": {
        "cell": "bbb3252c-1299-4eb7-9160-95a119e5ed5c",
        "part": "whole"
       },
       "id": "6c7402df-92bc-4b95-84f0-925c1ec3aaa7"
      }
     }
    },
    "fe4b7667-2e3b-4a57-951c-ee37cd13503d": {
     "id": "fe4b7667-2e3b-4a57-951c-ee37cd13503d",
     "prev": "9222b37e-c950-4075-acdc-ca407f5e369a",
     "regions": {
      "6e93e9cc-756c-4e26-8010-93050de33a7a": {
       "attrs": {
        "height": 0.8,
        "width": 0.8,
        "x": 0.1,
        "y": 0.1
       },
       "content": {
        "cell": "ecf0f775-5142-46b7-a193-dc3773989d42",
        "part": "whole"
       },
       "id": "6e93e9cc-756c-4e26-8010-93050de33a7a"
      }
     }
    },
    "ff5630e2-8148-41c6-87ce-7bbc01e94b4d": {
     "id": "ff5630e2-8148-41c6-87ce-7bbc01e94b4d",
     "prev": "d38f7696-4453-447d-8725-0d05f653a832",
     "regions": {
      "1d65f097-0229-413f-90d6-20d9d58ef1c5": {
       "attrs": {
        "height": 0.8,
        "width": 0.8,
        "x": 0.1,
        "y": 0.1
       },
       "content": {
        "cell": "0d601462-f426-4635-8c23-959a491ac17f",
        "part": "whole"
       },
       "id": "1d65f097-0229-413f-90d6-20d9d58ef1c5"
      }
     }
    }
   },
   "themes": {}
  }
 },
 "nbformat": 4,
 "nbformat_minor": 1
}
