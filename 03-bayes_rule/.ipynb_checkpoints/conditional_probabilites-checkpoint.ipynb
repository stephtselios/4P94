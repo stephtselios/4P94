{
 "cells": [
  {
   "cell_type": "markdown",
   "metadata": {},
   "source": [
    "# Introduction to probability models"
   ]
  },
  {
   "cell_type": "markdown",
   "metadata": {},
   "source": [
    "# Objectives\n",
    "1. Understand the difference between conditional and unconditional probabilties\n",
    "2. State Bayes Rule in probability and odds form\n",
    "3. Demonstrate understanding of prior and inverse conditional probabilities\n",
    "4. Demonstrate understanding of Bayes Factor\n",
    "2. Use Bayes rule to calculate conditional probabilities"
   ]
  },
  {
   "cell_type": "markdown",
   "metadata": {},
   "source": [
    "# Bayes Rule\n",
    "\n",
    "$$p(g_s| X_s) = \\frac{p(X_s|g_s) p(g_s)}{ p(X_s | g_s) p(g_s) +  p(X_s | \\bar{g_s}) p( \\bar{g_s}) }$$\n",
    "\n",
    "where,\n",
    "\n",
    "$X_s$: various game factors (i.e., score differential, period game states, shottype)\n",
    "\n",
    "$P(g_s| X_s) $ : posterior (conditional) probability of a goal given event X\n",
    "\n",
    "$P(g_s) $ : prior (unconditional) probability of a goal\n",
    "\n",
    "$P(\\bar{g_s}) $: prior (unconditional) probability not a goal\n",
    "\n",
    "$P(X_s|g_s) $: inverse conditional probability given a goal\n",
    "\n",
    "$P(X_s|\\bar{g_s}) $: inverse conditional probability given not a goal"
   ]
  },
  {
   "cell_type": "code",
   "execution_count": 126,
   "metadata": {
    "collapsed": true
   },
   "outputs": [],
   "source": [
    "%matplotlib inline\n",
    "import os\n",
    "import sys\n",
    "import pandas\n",
    "import numpy\n",
    "import matplotlib\n",
    "import matplotlib.pyplot as plt\n",
    "pandas.set_option('display.notebook_repr_html', False)\n",
    "pandas.set_option('display.max_columns', 20)\n",
    "pandas.set_option('display.max_rows', 25)"
   ]
  },
  {
   "cell_type": "code",
   "execution_count": 127,
   "metadata": {
    "collapsed": false
   },
   "outputs": [
    {
     "name": "stdout",
     "output_type": "stream",
     "text": [
      "('working directory: ', '/home/vmuser/Documents/4P94/03-bayes_rule')\n"
     ]
    }
   ],
   "source": [
    "print('working directory: ', os.getcwd())"
   ]
  },
  {
   "cell_type": "code",
   "execution_count": 128,
   "metadata": {
    "collapsed": true
   },
   "outputs": [],
   "source": [
    "dm = pandas.read_csv('shots.csv')"
   ]
  },
  {
   "cell_type": "code",
   "execution_count": 129,
   "metadata": {
    "collapsed": false
   },
   "outputs": [
    {
     "data": {
      "text/plain": [
       "   season  gamenumber   gamedate vteamcode hteamcode  eventnumber  period  \\\n",
       "0    2011       20001  10/6/2011       PHI       BOS            4       1   \n",
       "1    2011       20001  10/6/2011       PHI       BOS            9       1   \n",
       "2    2011       20001  10/6/2011       PHI       BOS           14       1   \n",
       "3    2011       20001  10/6/2011       PHI       BOS           25       1   \n",
       "4    2011       20001  10/6/2011       PHI       BOS           29       1   \n",
       "\n",
       "   eventtimefromzero advantagetypeshooter advantagetypegoalie   ...     \\\n",
       "0                 47                   EV                  EV   ...      \n",
       "1                114                   EV                  EV   ...      \n",
       "2                138                   EV                  EV   ...      \n",
       "3                249                   EV                  EV   ...      \n",
       "4                297                   EV                  EV   ...      \n",
       "\n",
       "  position      namegoalie  tgoals ogoals  zone   X   Y  XNorm  YNorm shotType  \n",
       "0        G  BRYZGALOV_ILYA       0      0     O  32 -14     32    -14     Snap  \n",
       "1        G  BRYZGALOV_ILYA       0      0     O  37 -18     37    -18     Snap  \n",
       "2        G      THOMAS_TIM       0      0     O -50   7     50     -7     Snap  \n",
       "3        G      THOMAS_TIM       0      0     O -48  -5     48      5     Slap  \n",
       "4        G  BRYZGALOV_ILYA       0      0     O  39  -1     39     -1    Wrist  \n",
       "\n",
       "[5 rows x 25 columns]"
      ]
     },
     "execution_count": 129,
     "metadata": {},
     "output_type": "execute_result"
    }
   ],
   "source": [
    "dm.head()"
   ]
  },
  {
   "cell_type": "code",
   "execution_count": 130,
   "metadata": {
    "collapsed": false
   },
   "outputs": [
    {
     "data": {
      "text/plain": [
       "Index([u'season', u'gamenumber', u'gamedate', u'vteamcode', u'hteamcode',\n",
       "       u'eventnumber', u'period', u'eventtimefromzero',\n",
       "       u'advantagetypeshooter', u'advantagetypegoalie', u'subseasontype',\n",
       "       u'teamcode', u'isTHome', u'eventtype', u'playernumber', u'position',\n",
       "       u'namegoalie', u'tgoals', u'ogoals', u'zone', u'X', u'Y', u'XNorm',\n",
       "       u'YNorm', u'shotType'],\n",
       "      dtype='object')"
      ]
     },
     "execution_count": 130,
     "metadata": {},
     "output_type": "execute_result"
    }
   ],
   "source": [
    "dm.columns"
   ]
  },
  {
   "cell_type": "code",
   "execution_count": 131,
   "metadata": {
    "collapsed": false
   },
   "outputs": [
    {
     "data": {
      "text/plain": [
       "        season    gamenumber   eventnumber        period  eventtimefromzero  \\\n",
       "count  59426.0  59426.000000  59426.000000  59426.000000       59426.000000   \n",
       "mean    2011.0  20621.620772    154.604567      2.034160         584.551779   \n",
       "std        0.0    353.973953     89.815357      0.851267         347.956939   \n",
       "min     2011.0  20001.000000      3.000000      1.000000           3.000000   \n",
       "25%     2011.0  20317.000000     77.000000      1.000000         277.000000   \n",
       "50%     2011.0  20624.000000    154.000000      2.000000         573.000000   \n",
       "75%     2011.0  20927.000000    229.000000      3.000000         886.000000   \n",
       "max     2011.0  21230.000000    392.000000      4.000000        1200.000000   \n",
       "\n",
       "            isTHome  playernumber        tgoals        ogoals             X  \\\n",
       "count  59426.000000  59426.000000  59426.000000  59426.000000  59426.000000   \n",
       "mean       0.486117     29.905462      1.307458      1.181453      0.273971   \n",
       "std        0.499811     13.602276      1.367570      1.283338     63.269750   \n",
       "min        0.000000      1.000000      0.000000      0.000000    -99.000000   \n",
       "25%        0.000000     30.000000      0.000000      0.000000    -63.000000   \n",
       "50%        0.000000     31.000000      1.000000      1.000000      2.000000   \n",
       "75%        1.000000     35.000000      2.000000      2.000000     63.000000   \n",
       "max        1.000000     70.000000      9.000000      9.000000     97.000000   \n",
       "\n",
       "                  Y         XNorm         YNorm  \n",
       "count  59426.000000  59426.000000  59426.000000  \n",
       "mean      -0.211338     60.458705     -0.363696  \n",
       "std       19.456473     18.649927     19.454221  \n",
       "min      -42.000000      0.000000    -42.000000  \n",
       "25%      -15.000000     46.000000    -16.000000  \n",
       "50%        0.000000     63.000000     -1.000000  \n",
       "75%       14.000000     77.000000     14.000000  \n",
       "max       42.000000     99.000000     42.000000  "
      ]
     },
     "execution_count": 131,
     "metadata": {},
     "output_type": "execute_result"
    }
   ],
   "source": [
    "dm.describe()"
   ]
  },
  {
   "cell_type": "code",
   "execution_count": 132,
   "metadata": {
    "collapsed": false
   },
   "outputs": [],
   "source": [
    "dm['dscore'] = dm['tgoals'] = dm['ogoals']"
   ]
  },
  {
   "cell_type": "code",
   "execution_count": 133,
   "metadata": {
    "collapsed": false
   },
   "outputs": [],
   "source": [
    "dm['secStart'] = ((dm['period']-1)*1200 + dm['eventtimefromzero'])\n",
    "dm = dm.sort_values(by=['season', 'gamenumber', 'secStart'], ascending=[1, 1, 1])\n",
    "dm['minStart'] = (dm['secStart']/60).astype(int)"
   ]
  },
  {
   "cell_type": "code",
   "execution_count": 134,
   "metadata": {
    "collapsed": false
   },
   "outputs": [
    {
     "data": {
      "text/plain": [
       "   season  gamenumber   gamedate vteamcode hteamcode  eventnumber  period  \\\n",
       "0    2011       20001  10/6/2011       PHI       BOS            4       1   \n",
       "1    2011       20001  10/6/2011       PHI       BOS            9       1   \n",
       "2    2011       20001  10/6/2011       PHI       BOS           14       1   \n",
       "3    2011       20001  10/6/2011       PHI       BOS           25       1   \n",
       "4    2011       20001  10/6/2011       PHI       BOS           29       1   \n",
       "\n",
       "   eventtimefromzero advantagetypeshooter advantagetypegoalie   ...    ogoals  \\\n",
       "0                 47                   EV                  EV   ...         0   \n",
       "1                114                   EV                  EV   ...         0   \n",
       "2                138                   EV                  EV   ...         0   \n",
       "3                249                   EV                  EV   ...         0   \n",
       "4                297                   EV                  EV   ...         0   \n",
       "\n",
       "  zone   X   Y  XNorm YNorm shotType  dscore  secStart minStart  \n",
       "0    O  32 -14     32   -14     Snap       0        47        0  \n",
       "1    O  37 -18     37   -18     Snap       0       114        1  \n",
       "2    O -50   7     50    -7     Snap       0       138        2  \n",
       "3    O -48  -5     48     5     Slap       0       249        4  \n",
       "4    O  39  -1     39    -1    Wrist       0       297        4  \n",
       "\n",
       "[5 rows x 28 columns]"
      ]
     },
     "execution_count": 134,
     "metadata": {},
     "output_type": "execute_result"
    }
   ],
   "source": [
    "dm.head()"
   ]
  },
  {
   "cell_type": "code",
   "execution_count": 135,
   "metadata": {
    "collapsed": false
   },
   "outputs": [
    {
     "data": {
      "text/plain": [
       "count    59426.0\n",
       "mean         0.0\n",
       "std          0.0\n",
       "min          0.0\n",
       "25%          0.0\n",
       "50%          0.0\n",
       "75%          0.0\n",
       "max          0.0\n",
       "Name: dscore, dtype: float64"
      ]
     },
     "execution_count": 135,
     "metadata": {},
     "output_type": "execute_result"
    }
   ],
   "source": [
    "dm['dscore'] = dm['tgoals'] - dm['ogoals']\n",
    "dm['dscore'].describe()"
   ]
  },
  {
   "cell_type": "code",
   "execution_count": 136,
   "metadata": {
    "collapsed": false
   },
   "outputs": [
    {
     "data": {
      "text/plain": [
       "count    59426.0\n",
       "mean        -3.0\n",
       "std          0.0\n",
       "min         -3.0\n",
       "25%         -3.0\n",
       "50%         -3.0\n",
       "75%         -3.0\n",
       "max         -3.0\n",
       "Name: dscore, dtype: float64"
      ]
     },
     "execution_count": 136,
     "metadata": {},
     "output_type": "execute_result"
    }
   ],
   "source": [
    "dm['dscore'] =  numpy.where(dm['dscore']>3,  3 , dm['dscore'] )\n",
    "dm['dscore'] =  numpy.where(dm['dscore']<3, -3 , dm['dscore'] )\n",
    "dm['dscore'].describe()"
   ]
  },
  {
   "cell_type": "code",
   "execution_count": 137,
   "metadata": {
    "collapsed": true
   },
   "outputs": [],
   "source": [
    "dm['isgoal'] = numpy.where(dm['eventtype']=='GOAL', 1 , 0)"
   ]
  },
  {
   "cell_type": "code",
   "execution_count": 138,
   "metadata": {
    "collapsed": false,
    "scrolled": true
   },
   "outputs": [
    {
     "data": {
      "text/plain": [
       "SHOT    54724\n",
       "GOAL     4702\n",
       "Name: eventtype, dtype: int64"
      ]
     },
     "execution_count": 138,
     "metadata": {},
     "output_type": "execute_result"
    }
   ],
   "source": [
    "dm['eventtype'].value_counts()"
   ]
  },
  {
   "cell_type": "code",
   "execution_count": 139,
   "metadata": {
    "collapsed": false
   },
   "outputs": [
    {
     "data": {
      "text/plain": [
       "Wrist          29240\n",
       "Slap           12255\n",
       "Snap            8421\n",
       "Backhand        5277\n",
       "Tip-In          2395\n",
       "Wrap-around      952\n",
       "Deflected        886\n",
       "Name: shotType, dtype: int64"
      ]
     },
     "execution_count": 139,
     "metadata": {},
     "output_type": "execute_result"
    }
   ],
   "source": [
    "dm['shotType'].value_counts()"
   ]
  },
  {
   "cell_type": "code",
   "execution_count": 140,
   "metadata": {
    "collapsed": true
   },
   "outputs": [],
   "source": [
    "dm['iswrist'] = numpy.where(dm['shotType']=='Wrist', 1 , 0)\n",
    "dm['isslap']  = numpy.where(dm['shotType']=='Slap', 1 , 0)"
   ]
  },
  {
   "cell_type": "code",
   "execution_count": 141,
   "metadata": {
    "collapsed": false
   },
   "outputs": [
    {
     "data": {
      "text/plain": [
       "shotType     eventtype\n",
       "Backhand     SHOT          4761\n",
       "             GOAL           516\n",
       "Deflected    SHOT           713\n",
       "             GOAL           173\n",
       "Slap         SHOT         11707\n",
       "             GOAL           548\n",
       "Snap         SHOT          7734\n",
       "             GOAL           687\n",
       "Tip-In       SHOT          1959\n",
       "             GOAL           436\n",
       "Wrap-around  SHOT           903\n",
       "             GOAL            49\n",
       "Wrist        SHOT         26947\n",
       "             GOAL          2293\n",
       "Name: eventtype, dtype: int64"
      ]
     },
     "execution_count": 141,
     "metadata": {},
     "output_type": "execute_result"
    }
   ],
   "source": [
    "dm.groupby(['shotType'])['eventtype'].value_counts()"
   ]
  },
  {
   "cell_type": "code",
   "execution_count": 142,
   "metadata": {
    "collapsed": false
   },
   "outputs": [
    {
     "data": {
      "text/plain": [
       "dscore  eventtype\n",
       "-3      SHOT         54724\n",
       "        GOAL          4702\n",
       "Name: eventtype, dtype: int64"
      ]
     },
     "execution_count": 142,
     "metadata": {},
     "output_type": "execute_result"
    }
   ],
   "source": [
    "dm.groupby(['dscore'])['eventtype'].value_counts()"
   ]
  },
  {
   "cell_type": "code",
   "execution_count": 143,
   "metadata": {
    "collapsed": false
   },
   "outputs": [
    {
     "data": {
      "text/plain": [
       "shotType\n",
       "Backhand       0.097783\n",
       "Deflected      0.195260\n",
       "Slap           0.044716\n",
       "Snap           0.081582\n",
       "Tip-In         0.182046\n",
       "Wrap-around    0.051471\n",
       "Wrist          0.078420\n",
       "Name: isgoal, dtype: float64"
      ]
     },
     "execution_count": 143,
     "metadata": {},
     "output_type": "execute_result"
    }
   ],
   "source": [
    "dm.groupby(['shotType'])['isgoal'].mean()"
   ]
  },
  {
   "cell_type": "code",
   "execution_count": 144,
   "metadata": {
    "collapsed": false
   },
   "outputs": [
    {
     "data": {
      "text/plain": [
       "isgoal\n",
       "0    0.492416\n",
       "1    0.487665\n",
       "Name: iswrist, dtype: float64"
      ]
     },
     "execution_count": 144,
     "metadata": {},
     "output_type": "execute_result"
    }
   ],
   "source": [
    "dm.groupby(['isgoal'])['iswrist'].mean()\n"
   ]
  },
  {
   "cell_type": "code",
   "execution_count": 145,
   "metadata": {
    "collapsed": false
   },
   "outputs": [
    {
     "data": {
      "text/plain": [
       "isgoal\n",
       "0    0.213928\n",
       "1    0.116546\n",
       "Name: isslap, dtype: float64"
      ]
     },
     "execution_count": 145,
     "metadata": {},
     "output_type": "execute_result"
    }
   ],
   "source": [
    "dm.groupby(['isgoal'])['isslap'].mean()"
   ]
  },
  {
   "cell_type": "code",
   "execution_count": 146,
   "metadata": {
    "collapsed": false
   },
   "outputs": [
    {
     "data": {
      "text/plain": [
       "dscore\n",
       "-3    0.079124\n",
       "Name: isgoal, dtype: float64"
      ]
     },
     "execution_count": 146,
     "metadata": {},
     "output_type": "execute_result"
    }
   ],
   "source": [
    "dm.groupby(['dscore'])['isgoal'].mean()"
   ]
  },
  {
   "cell_type": "code",
   "execution_count": 147,
   "metadata": {
    "collapsed": false
   },
   "outputs": [
    {
     "data": {
      "text/plain": [
       "0.079123615925689089"
      ]
     },
     "execution_count": 147,
     "metadata": {},
     "output_type": "execute_result"
    }
   ],
   "source": [
    "p_goal = dm['isgoal'].mean()\n",
    "p_goal"
   ]
  },
  {
   "cell_type": "code",
   "execution_count": 148,
   "metadata": {
    "collapsed": false
   },
   "outputs": [
    {
     "data": {
      "text/plain": [
       "0.92087638407431094"
      ]
     },
     "execution_count": 148,
     "metadata": {},
     "output_type": "execute_result"
    }
   ],
   "source": [
    "p_notgoal = 1- dm['isgoal'].mean()\n",
    "p_notgoal"
   ]
  },
  {
   "cell_type": "code",
   "execution_count": 149,
   "metadata": {
    "collapsed": true
   },
   "outputs": [],
   "source": [
    "dg = dm[dm['isgoal']==1]\n",
    "dn = dm[dm['isgoal']==0]"
   ]
  },
  {
   "cell_type": "code",
   "execution_count": 150,
   "metadata": {
    "collapsed": false
   },
   "outputs": [
    {
     "data": {
      "text/plain": [
       "0.48766482347937046"
      ]
     },
     "execution_count": 150,
     "metadata": {},
     "output_type": "execute_result"
    }
   ],
   "source": [
    "p_wrist_goal = dg['iswrist'].mean()\n",
    "p_wrist_goal"
   ]
  },
  {
   "cell_type": "code",
   "execution_count": 151,
   "metadata": {
    "collapsed": false
   },
   "outputs": [
    {
     "data": {
      "text/plain": [
       "0.49241649002265914"
      ]
     },
     "execution_count": 151,
     "metadata": {},
     "output_type": "execute_result"
    }
   ],
   "source": [
    "p_wrist_notgoal = dn['iswrist'].mean()\n",
    "p_wrist_notgoal"
   ]
  },
  {
   "cell_type": "code",
   "execution_count": 160,
   "metadata": {
    "collapsed": false
   },
   "outputs": [
    {
     "data": {
      "text/plain": [
       "0.078419972640218868"
      ]
     },
     "execution_count": 160,
     "metadata": {},
     "output_type": "execute_result"
    }
   ],
   "source": [
    "p_goal_wrist = p_wrist_goal*p_goal / (p_wrist_goal*p_goal + p_wrist_notgoal*p_notgoal  )\n",
    "p_goal_wrist"
   ]
  },
  {
   "cell_type": "code",
   "execution_count": 153,
   "metadata": {
    "collapsed": false
   },
   "outputs": [
    {
     "data": {
      "text/plain": [
       "0.11654615057422374"
      ]
     },
     "execution_count": 153,
     "metadata": {},
     "output_type": "execute_result"
    }
   ],
   "source": [
    "p_slap_goal = dg['isslap'].mean()\n",
    "p_slap_goal"
   ]
  },
  {
   "cell_type": "code",
   "execution_count": 159,
   "metadata": {
    "collapsed": false
   },
   "outputs": [
    {
     "data": {
      "text/plain": [
       "0.21392807543308237"
      ]
     },
     "execution_count": 159,
     "metadata": {},
     "output_type": "execute_result"
    }
   ],
   "source": [
    "p_slap_notgoal = dn['isslap'].mean()\n",
    "p_slap_notgoal"
   ]
  },
  {
   "cell_type": "code",
   "execution_count": 157,
   "metadata": {
    "collapsed": false
   },
   "outputs": [
    {
     "data": {
      "text/plain": [
       "0.044716442268461852"
      ]
     },
     "execution_count": 157,
     "metadata": {},
     "output_type": "execute_result"
    }
   ],
   "source": [
    "p_goal_slap = p_slap_goal*p_goal / (p_slap_goal*p_goal + p_slap_notgoal*p_notgoal  )\n",
    "p_goal_slap"
   ]
  },
  {
   "cell_type": "code",
   "execution_count": 158,
   "metadata": {
    "collapsed": false
   },
   "outputs": [
    {
     "data": {
      "text/plain": [
       "shotType\n",
       "Backhand       0.097783\n",
       "Deflected      0.195260\n",
       "Slap           0.044716\n",
       "Snap           0.081582\n",
       "Tip-In         0.182046\n",
       "Wrap-around    0.051471\n",
       "Wrist          0.078420\n",
       "Name: isgoal, dtype: float64"
      ]
     },
     "execution_count": 158,
     "metadata": {},
     "output_type": "execute_result"
    }
   ],
   "source": [
    "dm.groupby(['shotType'])['isgoal'].mean()"
   ]
  }
 ],
 "metadata": {
  "anaconda-cloud": {},
  "kernelspec": {
   "display_name": "Python [conda root]",
   "language": "python",
   "name": "conda-root-py"
  },
  "language_info": {
   "codemirror_mode": {
    "name": "ipython",
    "version": 2
   },
   "file_extension": ".py",
   "mimetype": "text/x-python",
   "name": "python",
   "nbconvert_exporter": "python",
   "pygments_lexer": "ipython2",
   "version": "2.7.12"
  }
 },
 "nbformat": 4,
 "nbformat_minor": 1
}
