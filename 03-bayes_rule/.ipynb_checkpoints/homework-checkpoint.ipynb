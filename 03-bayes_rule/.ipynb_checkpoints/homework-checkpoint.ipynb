{
 "cells": [
  {
   "cell_type": "markdown",
   "metadata": {},
   "source": [
    "# Homework\n",
    "\n",
    "Consider conditional probability that a shot results in a goal given the score differential state,\n",
    "\n",
    "$$p(g_s| X_s) = \\frac{p(X_s|g_s) p(g_s)}{ p(X_s | g_s) p(g_s) +  p(X_s | \\bar{g_s}) p( \\bar{g_s}) }$$\n",
    "\n",
    "where $X_s$ is the score differential from -3 to -3. \n",
    "\n",
    "1. Use Bayes Rule to calculate the conditional probabilities that a shot results in a goal given each of seven score differential states (from -3 to +3). For each score differential state,\n",
    "    1. Calculate the unconditional probability (prior) that a shot results in a goal\n",
    "    2. Calculate the unconditional probability (prior)  that a shot does not result in a goal\n",
    "    3. Calculate inverse conditional probability of a score differential state given a goal\n",
    "    4. Calculate inverse conditional probability of a score differential state given not a goal\n",
    "    5. Use Bayes Rule to calculate conditional probabilities give each of seven score differential states (from -3 to +3)\n",
    "\n",
    "2. Show that the conditional probabilities give each of seven score differential states from the data and with Bayes Rule are the same.\n",
    "\n",
    "3. Suppose a player had a better than average shot. Use Bayes Rule to calculate the conditional probabilities that a shot results in a goal given a tied game. Increase the prior unconditional probability that a shot results in a goal to reflect his ability better than average shot.  \n",
    "    1. Specifically increase the prior probability to 0.10, 0.15, and 0.20. \n",
    "    2. Show the change in the posterior probability when prior is increased"
   ]
  }
 ],
 "metadata": {
  "kernelspec": {
   "display_name": "Python [conda root]",
   "language": "python",
   "name": "conda-root-py"
  },
  "language_info": {
   "codemirror_mode": {
    "name": "ipython",
    "version": 2
   },
   "file_extension": ".py",
   "mimetype": "text/x-python",
   "name": "python",
   "nbconvert_exporter": "python",
   "pygments_lexer": "ipython2",
   "version": "2.7.12"
  }
 },
 "nbformat": 4,
 "nbformat_minor": 1
}
