{
 "cells": [
  {
   "cell_type": "markdown",
   "metadata": {},
   "source": [
    "# Homework\n",
    "\n",
    "Consider conditional probability that a shot results in a goal given the score differential state,\n",
    "\n",
    "$$p(g_s| X_s) = \\frac{p(X_s|g_s) p(g_s)}{ p(X_s | g_s) p(g_s) +  p(X_s | \\bar{g_s}) p( \\bar{g_s}) }$$\n",
    "\n",
    "where $X_s$., is the score differential from -3 to -3.\n",
    "1. Use Bayes Rule to calculate the conditional probabilities that a shot results in a goal given a tied game.\n",
    "    - Generate variables: isgoal, istied \n",
    "    - Calculate the unconditional probability (prior) that a shot results in a goal\n",
    "    - Calculate the unconditional probability (prior) that a shot does not result in a goal\n",
    "    - Calculate inverse conditional probability of a score differential state given a goal\n",
    "    - Calculate inverse conditional probability of a score differential state given not a goal\n",
    "    - Use Bayes Rule to calculate conditional probability that a shot results in a goal given a tied game\n",
    "    \n",
    "2. Show that the conditional probability from the data is the same as with Bayes Rule.\n",
    "\n",
    "3. Suppose a player had a better than average shot. Use Bayes Rule to calculate the conditional probabilities that a shot results in a goal given a tied game. Increase the prior unconditional probability that a shot results in a goal to reflect his ability better than average shot.\n",
    "    - Specifically increase the prior probability to 0.10, 0.15, and 0.20.\n",
    "    - Show the change in the posterior probability when prior is increased\n"
   ]
  },
  {
   "cell_type": "code",
   "execution_count": 1,
   "metadata": {
    "collapsed": true
   },
   "outputs": [],
   "source": [
    "%matplotlib inline\n",
    "import os\n",
    "import sys\n",
    "import pandas\n",
    "import numpy\n",
    "import matplotlib\n",
    "import matplotlib.pyplot as plt\n",
    "pandas.set_option('display.notebook_repr_html', False)\n",
    "pandas.set_option('display.max_columns', 30)\n",
    "pandas.set_option('display.max_rows', 25)\n",
    "pandas.set_option('precision',2)\n",
    "\n",
    "from decimal import getcontext, Decimal\n",
    "# Set the precision.\n",
    "getcontext().prec = 3"
   ]
  },
  {
   "cell_type": "markdown",
   "metadata": {},
   "source": [
    "# Import Data"
   ]
  },
  {
   "cell_type": "code",
   "execution_count": 2,
   "metadata": {
    "collapsed": false
   },
   "outputs": [
    {
     "name": "stdout",
     "output_type": "stream",
     "text": [
      "('working directory:', '/Users/MattyB/Desktop/Data Sets/4P94-master/03-bayes_rule')\n",
      "<class 'pandas.core.frame.DataFrame'>\n",
      "RangeIndex: 59426 entries, 0 to 59425\n",
      "Data columns (total 25 columns):\n",
      "season                  59426 non-null int64\n",
      "gamenumber              59426 non-null int64\n",
      "gamedate                59426 non-null object\n",
      "vteamcode               59426 non-null object\n",
      "hteamcode               59426 non-null object\n",
      "eventnumber             59426 non-null int64\n",
      "period                  59426 non-null int64\n",
      "eventtimefromzero       59426 non-null int64\n",
      "advantagetypeshooter    59426 non-null object\n",
      "advantagetypegoalie     59426 non-null object\n",
      "subseasontype           59426 non-null object\n",
      "teamcode                59426 non-null object\n",
      "isTHome                 59426 non-null int64\n",
      "eventtype               59426 non-null object\n",
      "playernumber            59426 non-null int64\n",
      "position                59426 non-null object\n",
      "namegoalie              59426 non-null object\n",
      "tgoals                  59426 non-null int64\n",
      "ogoals                  59426 non-null int64\n",
      "zone                    59426 non-null object\n",
      "X                       59426 non-null int64\n",
      "Y                       59426 non-null int64\n",
      "XNorm                   59426 non-null int64\n",
      "YNorm                   59426 non-null int64\n",
      "shotType                59426 non-null object\n",
      "dtypes: int64(13), object(12)\n",
      "memory usage: 11.3+ MB\n"
     ]
    }
   ],
   "source": [
    "print('working directory:', os.getcwd())\n",
    "dm = pandas.read_csv('shots.csv')\n",
    "dm.info()"
   ]
  },
  {
   "cell_type": "code",
   "execution_count": 3,
   "metadata": {
    "collapsed": false
   },
   "outputs": [
    {
     "data": {
      "text/plain": [
       "   season  gamenumber   gamedate vteamcode hteamcode  eventnumber  period  \\\n",
       "0    2011       20001  10/6/2011       PHI       BOS            4       1   \n",
       "1    2011       20001  10/6/2011       PHI       BOS            9       1   \n",
       "2    2011       20001  10/6/2011       PHI       BOS           14       1   \n",
       "3    2011       20001  10/6/2011       PHI       BOS           25       1   \n",
       "4    2011       20001  10/6/2011       PHI       BOS           29       1   \n",
       "\n",
       "   eventtimefromzero advantagetypeshooter advantagetypegoalie subseasontype  \\\n",
       "0                 47                   EV                  EV           REG   \n",
       "1                114                   EV                  EV           REG   \n",
       "2                138                   EV                  EV           REG   \n",
       "3                249                   EV                  EV           REG   \n",
       "4                297                   EV                  EV           REG   \n",
       "\n",
       "  teamcode  isTHome eventtype  playernumber position      namegoalie  tgoals  \\\n",
       "0      PHI        0      SHOT            30        G  BRYZGALOV_ILYA       0   \n",
       "1      PHI        0      SHOT            30        G  BRYZGALOV_ILYA       0   \n",
       "2      BOS        1      SHOT            30        G      THOMAS_TIM       0   \n",
       "3      BOS        1      SHOT            30        G      THOMAS_TIM       0   \n",
       "4      PHI        0      SHOT            30        G  BRYZGALOV_ILYA       0   \n",
       "\n",
       "   ogoals zone   X   Y  XNorm  YNorm shotType  \n",
       "0       0    O  32 -14     32    -14     Snap  \n",
       "1       0    O  37 -18     37    -18     Snap  \n",
       "2       0    O -50   7     50     -7     Snap  \n",
       "3       0    O -48  -5     48      5     Slap  \n",
       "4       0    O  39  -1     39     -1    Wrist  "
      ]
     },
     "execution_count": 3,
     "metadata": {},
     "output_type": "execute_result"
    }
   ],
   "source": [
    "dm.head()"
   ]
  },
  {
   "cell_type": "markdown",
   "metadata": {},
   "source": [
    "## Examine Data"
   ]
  },
  {
   "cell_type": "code",
   "execution_count": 4,
   "metadata": {
    "collapsed": false
   },
   "outputs": [
    {
     "data": {
      "text/plain": [
       "Index([u'season', u'gamenumber', u'gamedate', u'vteamcode', u'hteamcode',\n",
       "       u'eventnumber', u'period', u'eventtimefromzero',\n",
       "       u'advantagetypeshooter', u'advantagetypegoalie', u'subseasontype',\n",
       "       u'teamcode', u'isTHome', u'eventtype', u'playernumber', u'position',\n",
       "       u'namegoalie', u'tgoals', u'ogoals', u'zone', u'X', u'Y', u'XNorm',\n",
       "       u'YNorm', u'shotType'],\n",
       "      dtype='object')"
      ]
     },
     "execution_count": 4,
     "metadata": {},
     "output_type": "execute_result"
    }
   ],
   "source": [
    "dm.columns"
   ]
  },
  {
   "cell_type": "code",
   "execution_count": 5,
   "metadata": {
    "collapsed": false
   },
   "outputs": [
    {
     "data": {
      "text/plain": [
       "        season  gamenumber  eventnumber    period  eventtimefromzero  \\\n",
       "count  59426.0    59426.00     59426.00  59426.00           59426.00   \n",
       "mean    2011.0    20621.62       154.60      2.03             584.55   \n",
       "std        0.0      353.97        89.82      0.85             347.96   \n",
       "min     2011.0    20001.00         3.00      1.00               3.00   \n",
       "25%     2011.0    20317.00        77.00      1.00             277.00   \n",
       "50%     2011.0    20624.00       154.00      2.00             573.00   \n",
       "75%     2011.0    20927.00       229.00      3.00             886.00   \n",
       "max     2011.0    21230.00       392.00      4.00            1200.00   \n",
       "\n",
       "        isTHome  playernumber    tgoals    ogoals         X         Y  \\\n",
       "count  59426.00      59426.00  59426.00  59426.00  59426.00  59426.00   \n",
       "mean       0.49         29.91      1.31      1.18      0.27     -0.21   \n",
       "std        0.50         13.60      1.37      1.28     63.27     19.46   \n",
       "min        0.00          1.00      0.00      0.00    -99.00    -42.00   \n",
       "25%        0.00         30.00      0.00      0.00    -63.00    -15.00   \n",
       "50%        0.00         31.00      1.00      1.00      2.00      0.00   \n",
       "75%        1.00         35.00      2.00      2.00     63.00     14.00   \n",
       "max        1.00         70.00      9.00      9.00     97.00     42.00   \n",
       "\n",
       "          XNorm     YNorm  \n",
       "count  59426.00  59426.00  \n",
       "mean      60.46     -0.36  \n",
       "std       18.65     19.45  \n",
       "min        0.00    -42.00  \n",
       "25%       46.00    -16.00  \n",
       "50%       63.00     -1.00  \n",
       "75%       77.00     14.00  \n",
       "max       99.00     42.00  "
      ]
     },
     "execution_count": 5,
     "metadata": {},
     "output_type": "execute_result"
    }
   ],
   "source": [
    "dm.describe()"
   ]
  },
  {
   "cell_type": "markdown",
   "metadata": {},
   "source": [
    "#### Create Variables\n",
    "- seconds from start of game\n",
    "- score margin (adjust to within 3 goals)\n",
    "- create indicator variables to represent catagories\n",
    "    - shot resulted in a goal\n",
    "    - shot types\n",
    "- numpy.where"
   ]
  },
  {
   "cell_type": "code",
   "execution_count": 6,
   "metadata": {
    "collapsed": true
   },
   "outputs": [],
   "source": [
    "dm['secStart'] = ((dm['period']-1)*1200 + dm['eventtimefromzero'])\n",
    "dm = dm.sort_values(by=['season', 'gamenumber', 'secStart'], ascending=[1, 1, 1])\n",
    "dm['minStart'] = (dm['secStart']/60).astype(int)"
   ]
  },
  {
   "cell_type": "code",
   "execution_count": 7,
   "metadata": {
    "collapsed": true
   },
   "outputs": [],
   "source": [
    "dm['dscore'] = dm['tgoals'] - dm['ogoals']"
   ]
  },
  {
   "cell_type": "code",
   "execution_count": 8,
   "metadata": {
    "collapsed": false
   },
   "outputs": [
    {
     "data": {
      "text/plain": [
       "   season  gamenumber   gamedate vteamcode hteamcode  eventnumber  period  \\\n",
       "0    2011       20001  10/6/2011       PHI       BOS            4       1   \n",
       "1    2011       20001  10/6/2011       PHI       BOS            9       1   \n",
       "2    2011       20001  10/6/2011       PHI       BOS           14       1   \n",
       "3    2011       20001  10/6/2011       PHI       BOS           25       1   \n",
       "4    2011       20001  10/6/2011       PHI       BOS           29       1   \n",
       "\n",
       "   eventtimefromzero advantagetypeshooter advantagetypegoalie subseasontype  \\\n",
       "0                 47                   EV                  EV           REG   \n",
       "1                114                   EV                  EV           REG   \n",
       "2                138                   EV                  EV           REG   \n",
       "3                249                   EV                  EV           REG   \n",
       "4                297                   EV                  EV           REG   \n",
       "\n",
       "  teamcode  isTHome eventtype  playernumber position      namegoalie  tgoals  \\\n",
       "0      PHI        0      SHOT            30        G  BRYZGALOV_ILYA       0   \n",
       "1      PHI        0      SHOT            30        G  BRYZGALOV_ILYA       0   \n",
       "2      BOS        1      SHOT            30        G      THOMAS_TIM       0   \n",
       "3      BOS        1      SHOT            30        G      THOMAS_TIM       0   \n",
       "4      PHI        0      SHOT            30        G  BRYZGALOV_ILYA       0   \n",
       "\n",
       "   ogoals zone   X   Y  XNorm  YNorm shotType  secStart  minStart  dscore  \n",
       "0       0    O  32 -14     32    -14     Snap        47         0       0  \n",
       "1       0    O  37 -18     37    -18     Snap       114         1       0  \n",
       "2       0    O -50   7     50     -7     Snap       138         2       0  \n",
       "3       0    O -48  -5     48      5     Slap       249         4       0  \n",
       "4       0    O  39  -1     39     -1    Wrist       297         4       0  "
      ]
     },
     "execution_count": 8,
     "metadata": {},
     "output_type": "execute_result"
    }
   ],
   "source": [
    "dm.head()"
   ]
  },
  {
   "cell_type": "code",
   "execution_count": 9,
   "metadata": {
    "collapsed": false
   },
   "outputs": [
    {
     "data": {
      "text/plain": [
       "count    59426.00\n",
       "mean         0.13\n",
       "std          1.52\n",
       "min         -9.00\n",
       "25%         -1.00\n",
       "50%          0.00\n",
       "75%          1.00\n",
       "max          9.00\n",
       "Name: dscore, dtype: float64"
      ]
     },
     "execution_count": 9,
     "metadata": {},
     "output_type": "execute_result"
    }
   ],
   "source": [
    "dm['dscore'].describe()"
   ]
  },
  {
   "cell_type": "code",
   "execution_count": 10,
   "metadata": {
    "collapsed": false
   },
   "outputs": [
    {
     "data": {
      "text/plain": [
       "count    59426.00\n",
       "mean         0.11\n",
       "std          1.18\n",
       "min         -2.00\n",
       "25%         -1.00\n",
       "50%          0.00\n",
       "75%          1.00\n",
       "max          2.00\n",
       "Name: dscore, dtype: float64"
      ]
     },
     "execution_count": 10,
     "metadata": {},
     "output_type": "execute_result"
    }
   ],
   "source": [
    "dm['dscore'] =  numpy.where(dm['dscore']>2,  2 , dm['dscore'] )\n",
    "dm['dscore'] =  numpy.where(dm['dscore']<-2, -2 , dm['dscore'] )\n",
    "dm['dscore'].describe()"
   ]
  },
  {
   "cell_type": "markdown",
   "metadata": {},
   "source": [
    "### #1 Bayes Rule"
   ]
  },
  {
   "cell_type": "code",
   "execution_count": 11,
   "metadata": {
    "collapsed": true
   },
   "outputs": [],
   "source": [
    "# Create Indicator Variable\n",
    "dm['isgoal'] = numpy.where(dm['eventtype']== 'GOAL', 1, 0)\n",
    "dm['istied'] = numpy.where(dm['dscore']==0, 1, 0)"
   ]
  },
  {
   "cell_type": "code",
   "execution_count": 12,
   "metadata": {
    "collapsed": false
   },
   "outputs": [
    {
     "data": {
      "text/plain": [
       "SHOT    54724\n",
       "GOAL     4702\n",
       "Name: eventtype, dtype: int64"
      ]
     },
     "execution_count": 12,
     "metadata": {},
     "output_type": "execute_result"
    }
   ],
   "source": [
    "dm['eventtype'].value_counts()"
   ]
  },
  {
   "cell_type": "code",
   "execution_count": 13,
   "metadata": {
    "collapsed": false
   },
   "outputs": [
    {
     "data": {
      "text/plain": [
       "0    54724\n",
       "1     4702\n",
       "Name: isgoal, dtype: int64"
      ]
     },
     "execution_count": 13,
     "metadata": {},
     "output_type": "execute_result"
    }
   ],
   "source": [
    "dm['isgoal'].value_counts()"
   ]
  },
  {
   "cell_type": "code",
   "execution_count": 14,
   "metadata": {
    "collapsed": false
   },
   "outputs": [
    {
     "data": {
      "text/plain": [
       "0.07912361592568909"
      ]
     },
     "execution_count": 14,
     "metadata": {},
     "output_type": "execute_result"
    }
   ],
   "source": [
    "dm['isgoal'].mean()"
   ]
  },
  {
   "cell_type": "markdown",
   "metadata": {},
   "source": [
    "- $p(g_s)=0.079$\n",
    "- $p( \\bar{g_s})=0.921$"
   ]
  },
  {
   "cell_type": "code",
   "execution_count": 15,
   "metadata": {
    "collapsed": false
   },
   "outputs": [
    {
     "data": {
      "text/plain": [
       "dscore  eventtype\n",
       "-2      SHOT          6082\n",
       "        GOAL           598\n",
       "-1      SHOT          8902\n",
       "        GOAL           822\n",
       " 0      SHOT         20850\n",
       "        GOAL          1702\n",
       " 1      SHOT         10725\n",
       "        GOAL           891\n",
       " 2      SHOT          8165\n",
       "        GOAL           689\n",
       "Name: eventtype, dtype: int64"
      ]
     },
     "execution_count": 15,
     "metadata": {},
     "output_type": "execute_result"
    }
   ],
   "source": [
    "dm.groupby(['dscore'])['eventtype'].value_counts()"
   ]
  },
  {
   "cell_type": "code",
   "execution_count": 16,
   "metadata": {
    "collapsed": false
   },
   "outputs": [
    {
     "data": {
      "text/plain": [
       "dscore\n",
       "-2    0.09\n",
       "-1    0.08\n",
       " 0    0.08\n",
       " 1    0.08\n",
       " 2    0.08\n",
       "Name: isgoal, dtype: float64"
      ]
     },
     "execution_count": 16,
     "metadata": {},
     "output_type": "execute_result"
    }
   ],
   "source": [
    "dm.groupby(['dscore'])['isgoal'].mean()"
   ]
  },
  {
   "cell_type": "code",
   "execution_count": 17,
   "metadata": {
    "collapsed": true
   },
   "outputs": [],
   "source": [
    "dg = dm[dm['isgoal']==1]\n",
    "dn = dm[dm['isgoal']==0]"
   ]
  },
  {
   "cell_type": "markdown",
   "metadata": {},
   "source": [
    "Probability that a goal is scored while the score is tied\n",
    "$$p(g_s| X_s) = \\frac{p(X_s|g_s) p(g_s)}{ p(X_s | g_s) p(g_s) +  p(X_s | \\bar{g_s}) p( \\bar{g_s}) }$$\n"
   ]
  },
  {
   "cell_type": "code",
   "execution_count": 18,
   "metadata": {
    "collapsed": false
   },
   "outputs": [
    {
     "data": {
      "text/plain": [
       "0.080000000000000002"
      ]
     },
     "execution_count": 18,
     "metadata": {},
     "output_type": "execute_result"
    }
   ],
   "source": [
    "p_goal = dm['isgoal'].mean()\n",
    "p_goal.round(2)"
   ]
  },
  {
   "cell_type": "code",
   "execution_count": 19,
   "metadata": {
    "collapsed": false
   },
   "outputs": [
    {
     "data": {
      "text/plain": [
       "0.92000000000000004"
      ]
     },
     "execution_count": 19,
     "metadata": {},
     "output_type": "execute_result"
    }
   ],
   "source": [
    "p_notgoal = 1 - dm['isgoal'].mean()\n",
    "p_notgoal.round(2)"
   ]
  },
  {
   "cell_type": "code",
   "execution_count": 20,
   "metadata": {
    "collapsed": false
   },
   "outputs": [
    {
     "data": {
      "text/plain": [
       "0.35999999999999999"
      ]
     },
     "execution_count": 20,
     "metadata": {},
     "output_type": "execute_result"
    }
   ],
   "source": [
    "p_tied_goal = dg['istied'].mean()\n",
    "p_tied_goal.round(2)"
   ]
  },
  {
   "cell_type": "code",
   "execution_count": 21,
   "metadata": {
    "collapsed": false
   },
   "outputs": [
    {
     "data": {
      "text/plain": [
       "0.38"
      ]
     },
     "execution_count": 21,
     "metadata": {},
     "output_type": "execute_result"
    }
   ],
   "source": [
    "p_tied_notgoal = dn['istied'].mean()\n",
    "p_tied_notgoal.round(2)"
   ]
  },
  {
   "cell_type": "code",
   "execution_count": 22,
   "metadata": {
    "collapsed": false
   },
   "outputs": [
    {
     "data": {
      "text/plain": [
       "0.080000000000000002"
      ]
     },
     "execution_count": 22,
     "metadata": {},
     "output_type": "execute_result"
    }
   ],
   "source": [
    "p_goal_tied = p_tied_goal*p_goal / (p_tied_goal*p_goal + p_tied_notgoal*p_notgoal)\n",
    "p_goal_tied.round(2)"
   ]
  },
  {
   "cell_type": "markdown",
   "metadata": {
    "collapsed": true
   },
   "source": [
    "### #2 Show Conditional Probability is the Same as Bayes Rule"
   ]
  },
  {
   "cell_type": "code",
   "execution_count": 23,
   "metadata": {
    "collapsed": false
   },
   "outputs": [
    {
     "data": {
      "text/plain": [
       "istied\n",
       "0    0.08\n",
       "1    0.08\n",
       "Name: isgoal, dtype: float64"
      ]
     },
     "execution_count": 23,
     "metadata": {},
     "output_type": "execute_result"
    }
   ],
   "source": [
    "dm.groupby(['istied'])['isgoal'].mean()"
   ]
  },
  {
   "cell_type": "code",
   "execution_count": 24,
   "metadata": {
    "collapsed": false
   },
   "outputs": [
    {
     "data": {
      "text/plain": [
       "0.080000000000000002"
      ]
     },
     "execution_count": 24,
     "metadata": {},
     "output_type": "execute_result"
    }
   ],
   "source": [
    "p_goal.round(2)"
   ]
  },
  {
   "cell_type": "markdown",
   "metadata": {},
   "source": [
    "### #3 Test Bayes Rule with Different Prior Probability"
   ]
  },
  {
   "cell_type": "code",
   "execution_count": 25,
   "metadata": {
    "collapsed": true
   },
   "outputs": [],
   "source": [
    "# When prior probability = 0.10\n",
    "p_goal = 0.10"
   ]
  },
  {
   "cell_type": "code",
   "execution_count": 26,
   "metadata": {
    "collapsed": true
   },
   "outputs": [],
   "source": [
    "p_notgoal = 0.9"
   ]
  },
  {
   "cell_type": "code",
   "execution_count": 27,
   "metadata": {
    "collapsed": false
   },
   "outputs": [
    {
     "data": {
      "text/plain": [
       "0.10000000000000001"
      ]
     },
     "execution_count": 27,
     "metadata": {},
     "output_type": "execute_result"
    }
   ],
   "source": [
    "p_goal_tied = p_tied_goal*p_goal / (p_tied_goal*p_goal + p_tied_notgoal*p_notgoal)\n",
    "p_goal_tied.round(2)"
   ]
  },
  {
   "cell_type": "code",
   "execution_count": 28,
   "metadata": {
    "collapsed": true
   },
   "outputs": [],
   "source": [
    "# When prior probability = 0.15\n",
    "p_goal = 0.15\n",
    "p_notgoal = 0.85"
   ]
  },
  {
   "cell_type": "code",
   "execution_count": 29,
   "metadata": {
    "collapsed": false
   },
   "outputs": [
    {
     "data": {
      "text/plain": [
       "0.14000000000000001"
      ]
     },
     "execution_count": 29,
     "metadata": {},
     "output_type": "execute_result"
    }
   ],
   "source": [
    "p_goal_tied = p_tied_goal*p_goal / (p_tied_goal*p_goal + p_tied_notgoal*p_notgoal)\n",
    "p_goal_tied.round(2)"
   ]
  },
  {
   "cell_type": "code",
   "execution_count": 30,
   "metadata": {
    "collapsed": true
   },
   "outputs": [],
   "source": [
    "# When prior probability = 0.20\n",
    "p_goal = 0.20\n",
    "p_notgoal = 0.8"
   ]
  },
  {
   "cell_type": "code",
   "execution_count": 31,
   "metadata": {
    "collapsed": false
   },
   "outputs": [
    {
     "data": {
      "text/plain": [
       "0.19"
      ]
     },
     "execution_count": 31,
     "metadata": {},
     "output_type": "execute_result"
    }
   ],
   "source": [
    "p_goal_tied = p_tied_goal*p_goal / (p_tied_goal*p_goal + p_tied_notgoal*p_notgoal)\n",
    "p_goal_tied.round(2)"
   ]
  },
  {
   "cell_type": "markdown",
   "metadata": {},
   "source": [
    "- When $p(g_s)$ was origanally 0.08, $p(g_s| X_s)$ = 0.08\n",
    "- When $p(g_s)$ was increased to 0.10, $p(g_s| X_s)$ increased to 0.10\n",
    "- When $p(g_s)$ was increased to 0.15, $p(g_s| X_s)$ increased to 0.14\n",
    "- When $p(g_s)$ was increased to 0.20, $p(g_s| X_s)$ increased to 0.19"
   ]
  },
  {
   "cell_type": "code",
   "execution_count": null,
   "metadata": {
    "collapsed": true
   },
   "outputs": [],
   "source": []
  }
 ],
 "metadata": {
  "anaconda-cloud": {},
  "kernelspec": {
   "display_name": "Python [conda root]",
   "language": "python",
   "name": "conda-root-py"
  },
  "language_info": {
   "codemirror_mode": {
    "name": "ipython",
    "version": 2
   },
   "file_extension": ".py",
   "mimetype": "text/x-python",
   "name": "python",
   "nbconvert_exporter": "python",
   "pygments_lexer": "ipython2",
   "version": "2.7.12"
  }
 },
 "nbformat": 4,
 "nbformat_minor": 1
}
