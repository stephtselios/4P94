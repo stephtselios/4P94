{
 "cells": [
  {
   "cell_type": "markdown",
   "metadata": {},
   "source": [
    "# Homework\n",
    "\n",
    "Consider conditional probability that a shot results in a goal given the score differential state,\n",
    "\n",
    "$$p(g_s| X_s) = \\frac{p(X_s|g_s) p(g_s)}{ p(X_s | g_s) p(g_s) +  p(X_s | \\bar{g_s}) p( \\bar{g_s}) }$$\n",
    "\n",
    "where $X_s$ is the score differential from -3 to -3. \n",
    "\n",
    "1. Use Bayes Rule to calculate the conditional probabilities that a shot results in a goal given a tied game.\n",
    "    1. Generate variables: isgoal, istied\n",
    "    2. Calculate the unconditional probability (prior) that a shot results in a goal\n",
    "    3. Calculate the unconditional probability (prior) that a shot does not result in a goal\n",
    "    4. Create conditional data frames\n",
    "    5. Calculate inverse conditional probability of a tied game given a goal\n",
    "    6. Calculate inverse conditional probability of a tied game given not a goal\n",
    "    7. Use Bayes Rule to calculate conditional probability that a shot results in a goal given a tied game.\n",
    "\n",
    "2. Show that the conditional probability from the data is the same as with Bayes Rule.\n",
    "\n",
    "3. Suppose a player had a better than average shot. Use Bayes Rule to calculate the conditional probabilities that a shot results in a goal given a tied game. Increase the prior unconditional probability that a shot results in a goal to reflect his ability better than average shot.  \n",
    "    1. Specifically increase the prior probability to 0.10, 0.15, and 0.20. \n",
    "    2. Show the change in the posterior probability when prior is increased"
   ]
  },
  {
   "cell_type": "code",
   "execution_count": 79,
   "metadata": {
    "collapsed": true
   },
   "outputs": [],
   "source": [
    "%matplotlib inline\n",
    "import os\n",
    "import sys\n",
    "import pandas\n",
    "import numpy\n",
    "import matplotlib\n",
    "import matplotlib.pyplot as plt\n",
    "pandas.set_option('display.notebook_repr_html', False)\n",
    "pandas.set_option('display.max_columns', 20)\n",
    "pandas.set_option('display.max_rows', 25)\n",
    "pandas.set_option('precision',2)\n",
    "\n",
    "from decimal import getcontext, Decimal\n",
    "# Set the precision.\n",
    "getcontext().prec = 3"
   ]
  },
  {
   "cell_type": "code",
   "execution_count": 80,
   "metadata": {
    "collapsed": false
   },
   "outputs": [],
   "source": [
    "dm = pandas.read_csv('shots.csv')"
   ]
  },
  {
   "cell_type": "code",
   "execution_count": 81,
   "metadata": {
    "collapsed": false
   },
   "outputs": [
    {
     "data": {
      "text/plain": [
       "Index([u'season', u'gamenumber', u'gamedate', u'vteamcode', u'hteamcode',\n",
       "       u'eventnumber', u'period', u'eventtimefromzero',\n",
       "       u'advantagetypeshooter', u'advantagetypegoalie', u'subseasontype',\n",
       "       u'teamcode', u'isTHome', u'eventtype', u'playernumber', u'position',\n",
       "       u'namegoalie', u'tgoals', u'ogoals', u'zone', u'X', u'Y', u'XNorm',\n",
       "       u'YNorm', u'shotType'],\n",
       "      dtype='object')"
      ]
     },
     "execution_count": 81,
     "metadata": {},
     "output_type": "execute_result"
    }
   ],
   "source": [
    "dm.columns"
   ]
  },
  {
   "cell_type": "markdown",
   "metadata": {},
   "source": [
    "## Adjust score differential to within three goals"
   ]
  },
  {
   "cell_type": "code",
   "execution_count": 82,
   "metadata": {
    "collapsed": false
   },
   "outputs": [
    {
     "data": {
      "text/plain": [
       "count    59426.00\n",
       "mean         0.12\n",
       "std          1.37\n",
       "min         -3.00\n",
       "25%         -1.00\n",
       "50%          0.00\n",
       "75%          1.00\n",
       "max          3.00\n",
       "Name: dscore, dtype: float64"
      ]
     },
     "execution_count": 82,
     "metadata": {},
     "output_type": "execute_result"
    }
   ],
   "source": [
    "dm['dscore'] = dm['tgoals']-dm['ogoals']\n",
    "dm['dscore'] = numpy.where(dm['dscore']>3,  3 , dm['dscore'] )\n",
    "dm['dscore'] = numpy.where(dm['dscore']<-3, -3 , dm['dscore'] )\n",
    "dm['dscore'].describe()"
   ]
  },
  {
   "cell_type": "markdown",
   "metadata": {},
   "source": [
    "Use Bayes Rule to calculate the conditional probabilities that a shot results in a goal given a tied game.\n",
    "\n",
    "    Generate variables: isgoal, istied\n",
    "    Calculate the unconditional probability (prior) that a shot results in a goal\n",
    "    Calculate the unconditional probability (prior) that a shot does not result in a goal\n",
    "    Create conditional data frames\n",
    "    Calculate inverse conditional probability of a tied game given a goal\n",
    "    Calculate inverse conditional probability of a tied game given not a goal\n",
    "    Use Bayes Rule to calculate conditional probability that a shot results in a goal given a tied game.\n",
    "\n",
    "Show that the conditional probability from the data is the same as with Bayes Rule.\n"
   ]
  },
  {
   "cell_type": "code",
   "execution_count": 83,
   "metadata": {
    "collapsed": false
   },
   "outputs": [],
   "source": [
    "dm['istied'] = numpy.where(dm['dscore']==0, 1 , 0)\n",
    "dm['isgoal'] = numpy.where(dm['eventtype']== 'GOAL', 1, 0)\n"
   ]
  },
  {
   "cell_type": "code",
   "execution_count": 84,
   "metadata": {
    "collapsed": false
   },
   "outputs": [
    {
     "data": {
      "text/plain": [
       "count    59426.00\n",
       "mean         0.38\n",
       "std          0.49\n",
       "min          0.00\n",
       "25%          0.00\n",
       "50%          0.00\n",
       "75%          1.00\n",
       "max          1.00\n",
       "Name: istied, dtype: float64"
      ]
     },
     "execution_count": 84,
     "metadata": {},
     "output_type": "execute_result"
    }
   ],
   "source": [
    "dm['istied'].describe()"
   ]
  },
  {
   "cell_type": "code",
   "execution_count": 85,
   "metadata": {
    "collapsed": false
   },
   "outputs": [
    {
     "data": {
      "text/plain": [
       "count    59426.00\n",
       "mean         0.08\n",
       "std          0.27\n",
       "min          0.00\n",
       "25%          0.00\n",
       "50%          0.00\n",
       "75%          0.00\n",
       "max          1.00\n",
       "Name: isgoal, dtype: float64"
      ]
     },
     "execution_count": 85,
     "metadata": {},
     "output_type": "execute_result"
    }
   ],
   "source": [
    "dm['isgoal'].describe()"
   ]
  },
  {
   "cell_type": "markdown",
   "metadata": {},
   "source": [
    "## Calculate the unconditional probability (prior) that a shot results in a goal"
   ]
  },
  {
   "cell_type": "code",
   "execution_count": 86,
   "metadata": {
    "collapsed": true
   },
   "outputs": [],
   "source": [
    "prior_goal    = round(dm['isgoal'].mean(), 2)\n",
    "prior_nogoal  = 1 - prior_goal"
   ]
  },
  {
   "cell_type": "markdown",
   "metadata": {
    "variables": {
     "prior_goal": "0.08"
    }
   },
   "source": [
    "The unconditional probability (prior) that a shot results in a goal is {{prior_goal}}"
   ]
  },
  {
   "cell_type": "markdown",
   "metadata": {
    "variables": {
     "prior_nogoal": "0.92"
    }
   },
   "source": [
    "The unconditional probability (prior) that a shot does not result in a goal is {{prior_nogoal}}"
   ]
  },
  {
   "cell_type": "markdown",
   "metadata": {},
   "source": [
    "## Create conditional data frames"
   ]
  },
  {
   "cell_type": "code",
   "execution_count": 87,
   "metadata": {
    "collapsed": true
   },
   "outputs": [],
   "source": [
    "d1 = dm[dm['isgoal']==1]\n",
    "d0 = dm[dm['isgoal']==0]"
   ]
  },
  {
   "cell_type": "markdown",
   "metadata": {},
   "source": [
    "## Calculate inverse conditional probability of a tied game given a goal\n",
    "## Calculate inverse conditional probability of a tied game given not a goal"
   ]
  },
  {
   "cell_type": "code",
   "execution_count": 88,
   "metadata": {
    "collapsed": true
   },
   "outputs": [],
   "source": [
    "inv_1 = round(d1['istied'].mean(), 2)\n",
    "inv_0 = round(d0['istied'].mean(), 2)"
   ]
  },
  {
   "cell_type": "markdown",
   "metadata": {
    "variables": {
     "inv_1": "0.36"
    }
   },
   "source": [
    "The inverse conditional probability of a tied game given a goal is {{inv_1}}"
   ]
  },
  {
   "cell_type": "markdown",
   "metadata": {
    "variables": {
     "inv_0": "0.38"
    }
   },
   "source": [
    "The inverse conditional probability of a tied game given not a goal {{inv_0}}"
   ]
  },
  {
   "cell_type": "markdown",
   "metadata": {},
   "source": [
    "## Use Bayes Rule to calculate conditional probability that a shot results in a goal given a tied game."
   ]
  },
  {
   "cell_type": "code",
   "execution_count": 89,
   "metadata": {
    "collapsed": false
   },
   "outputs": [
    {
     "data": {
      "text/plain": [
       "0.082"
      ]
     },
     "execution_count": 89,
     "metadata": {},
     "output_type": "execute_result"
    }
   ],
   "source": [
    "p_goal_tied = round(inv_1*prior_goal / (inv_1*prior_goal*prior_goal + inv_0*prior_nogoal), 3)\n",
    "p_goal_tied "
   ]
  },
  {
   "cell_type": "markdown",
   "metadata": {},
   "source": [
    "## Show that the conditional probability from the data is the same as with Bayes Rule."
   ]
  },
  {
   "cell_type": "code",
   "execution_count": 90,
   "metadata": {
    "collapsed": false
   },
   "outputs": [],
   "source": [
    "pr_goal_tied_data = round(dm[dm['istied']==1]['isgoal'].mean(), 3)"
   ]
  },
  {
   "cell_type": "markdown",
   "metadata": {
    "variables": {
     "p_goal_tied": "0.082"
    }
   },
   "source": [
    "The conditional probability from the data is also {{p_goal_tied}}. "
   ]
  },
  {
   "cell_type": "markdown",
   "metadata": {},
   "source": [
    "Suppose a player had a better than average shot. Use Bayes Rule to calculate the conditional probabilities that a shot results in a goal given a tied game. Increase the prior unconditional probability that a shot results in a goal to reflect his ability better than average shot.\n",
    "\n",
    "    Specifically increase the prior probability to 0.10, 0.15, and 0.20.\n",
    "    Show the change in the posterior probability when prior is increased\n"
   ]
  },
  {
   "cell_type": "markdown",
   "metadata": {},
   "source": [
    "## Generate a definition to calculate posterior probabilities."
   ]
  },
  {
   "cell_type": "code",
   "execution_count": 91,
   "metadata": {
    "collapsed": false
   },
   "outputs": [],
   "source": [
    "def posterior(prior, inverse_cond_true, inverse_cond_false):\n",
    "    temp = inverse_cond_true*prior / (inverse_cond_true*prior*prior_goal + inverse_cond_false*(1-prior))\n",
    "    return round(temp, 3)"
   ]
  },
  {
   "cell_type": "code",
   "execution_count": 92,
   "metadata": {
    "collapsed": false
   },
   "outputs": [],
   "source": [
    "post_10 = posterior(0.10, inv_1, inv_0)\n",
    "post_15 = posterior(0.15, inv_1, inv_0)\n",
    "post_20 = posterior(0.20, inv_1, inv_0)"
   ]
  },
  {
   "cell_type": "markdown",
   "metadata": {
    "variables": {
     "post_10": "0.104",
     "post_15": "0.165",
     "post_20": "0.232"
    }
   },
   "source": [
    "The conditional probabilities that a shot results in a goal given a tied game given\n",
    "\n",
    "    a prior probability of 0.10 is {{post_10}},\n",
    "    a prior probability of 0.15 is {{post_15}},\n",
    "    a prior probability of 0.20 is {{post_20}}."
   ]
  },
  {
   "cell_type": "markdown",
   "metadata": {},
   "source": [
    "The change in the conditional probabilities that a shot results in a goal given a tied game given\n"
   ]
  },
  {
   "cell_type": "code",
   "execution_count": 93,
   "metadata": {
    "collapsed": false
   },
   "outputs": [],
   "source": [
    "ch_post10 = round(post_10 - p_goal_tied,3)\n",
    "ch_post15 = round(post_15 - p_goal_tied,3)\n",
    "ch_post20 = round(post_20 - p_goal_tied,3)"
   ]
  },
  {
   "cell_type": "markdown",
   "metadata": {
    "variables": {
     "ch_post10": "0.022",
     "ch_post15": "0.083",
     "ch_post20": "0.15"
    }
   },
   "source": [
    "The change in conditional probabilities are\n",
    "\n",
    "    a prior probability of 0.10 is {{ch_post10}},\n",
    "    a prior probability of 0.15 is {{ch_post15}},\n",
    "    a prior probability of 0.20 is {{ch_post20}},"
   ]
  }
 ],
 "metadata": {
  "anaconda-cloud": {},
  "kernelspec": {
   "display_name": "Python [conda root]",
   "language": "python",
   "name": "conda-root-py"
  },
  "language_info": {
   "codemirror_mode": {
    "name": "ipython",
    "version": 2
   },
   "file_extension": ".py",
   "mimetype": "text/x-python",
   "name": "python",
   "nbconvert_exporter": "python",
   "pygments_lexer": "ipython2",
   "version": "2.7.12"
  }
 },
 "nbformat": 4,
 "nbformat_minor": 1
}
